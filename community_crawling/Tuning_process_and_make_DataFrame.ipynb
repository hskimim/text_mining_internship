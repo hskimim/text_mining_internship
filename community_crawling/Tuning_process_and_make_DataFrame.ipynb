{
 "cells": [
  {
   "cell_type": "code",
   "execution_count": 1,
   "metadata": {},
   "outputs": [
    {
     "name": "stderr",
     "output_type": "stream",
     "text": [
      "Using TensorFlow backend.\n"
     ]
    }
   ],
   "source": [
    "from konlpy.tag import *\n",
    "import datetime\n",
    "from IPython.display import display\n",
    "\n",
    "import re\n",
    "import numpy as np\n",
    "import pandas as pd\n",
    "from pprint import pprint\n",
    "from konlpy.tag import Hannanum\n",
    "from konlpy.tag import Twitter\n",
    "twitter = Okt()\n",
    "# Gensim\n",
    "import gensim\n",
    "import gensim.corpora as corpora\n",
    "from gensim.utils import simple_preprocess\n",
    "from gensim.models import CoherenceModel\n",
    "\n",
    "# spacy for lemmatization\n",
    "import spacy\n",
    "\n",
    "# Plotting tools\n",
    "import pyLDAvis\n",
    "import pyLDAvis.gensim  # don't skip this\n",
    "import matplotlib.pyplot as plt\n",
    "%matplotlib inline\n",
    "\n",
    "# Enable logging for gensim - optional\n",
    "import logging\n",
    "logging.basicConfig(format='%(asctime)s : %(levelname)s : %(message)s', level=logging.ERROR)\n",
    "\n",
    "import warnings\n",
    "warnings.filterwarnings(\"ignore\",category=DeprecationWarning)\n",
    "\n",
    "from pykospacing import spacing\n",
    "import warnings\n",
    "from IPython.display import display , Markdown"
   ]
  },
  {
   "cell_type": "markdown",
   "metadata": {},
   "source": [
    "- There is no widely known and used stopwords packages for korean.\n",
    "- Therefore I downloaded the csv from some webpage and read for pandas read_csv method."
   ]
  },
  {
   "cell_type": "code",
   "execution_count": 2,
   "metadata": {},
   "outputs": [
    {
     "data": {
      "text/plain": [
       "['아', '휴', '아이구', '아이쿠', '아이고', '어', '나', '우리', '저희', '따라']"
      ]
     },
     "execution_count": 2,
     "metadata": {},
     "output_type": "execute_result"
    }
   ],
   "source": [
    "stop_words = list(pd.read_csv('kor_stop_words.csv').T.iloc[:1,:].values[0])\n",
    "stop_words[:10]"
   ]
  },
  {
   "cell_type": "markdown",
   "metadata": {},
   "source": [
    "# Overall Tuning process is started."
   ]
  },
  {
   "cell_type": "code",
   "execution_count": 3,
   "metadata": {
    "scrolled": true
   },
   "outputs": [
    {
     "data": {
      "text/html": [
       "<div>\n",
       "<style>\n",
       "    .dataframe thead tr:only-child th {\n",
       "        text-align: right;\n",
       "    }\n",
       "\n",
       "    .dataframe thead th {\n",
       "        text-align: left;\n",
       "    }\n",
       "\n",
       "    .dataframe tbody tr th {\n",
       "        vertical-align: top;\n",
       "    }\n",
       "</style>\n",
       "<table border=\"1\" class=\"dataframe\">\n",
       "  <thead>\n",
       "    <tr style=\"text-align: right;\">\n",
       "      <th></th>\n",
       "      <th>click</th>\n",
       "      <th>content</th>\n",
       "      <th>time</th>\n",
       "      <th>title</th>\n",
       "    </tr>\n",
       "  </thead>\n",
       "  <tbody>\n",
       "    <tr>\n",
       "      <th>9198</th>\n",
       "      <td>3190</td>\n",
       "      <td>▲ 이더리움 비트코인 비트코인과 함께 이더리움에 관심이 쏠리고 있다한 매체 보도에 ...</td>\n",
       "      <td>05-25</td>\n",
       "      <td>비트코인 이어 이더리움도 관심 스마트 콘트랙트 전자계약이 뭐길래</td>\n",
       "    </tr>\n",
       "    <tr>\n",
       "      <th>9199</th>\n",
       "      <td>2706</td>\n",
       "      <td>비트코인 © AFP뉴스1대표적인 전자화폐 비트코인의 랠리가 눈부시다 올 들어서만 그...</td>\n",
       "      <td>05-25</td>\n",
       "      <td>비트코인보다 눈부신 이더리움…올해 들어 2300 급등</td>\n",
       "    </tr>\n",
       "    <tr>\n",
       "      <th>9200</th>\n",
       "      <td>3067</td>\n",
       "      <td>Photo  ⓒpixabay▲비트코인Bitcoin이 화제다 비트코인은 2009년 나...</td>\n",
       "      <td>05-25</td>\n",
       "      <td>비트코인 이더리움 가상화폐 수요 급증 이유는</td>\n",
       "    </tr>\n",
       "    <tr>\n",
       "      <th>9201</th>\n",
       "      <td>2801</td>\n",
       "      <td>사진게티이미지뱅크 비트코인 가상화폐비트코인 이더리움 등 가상화폐의 가격이 계속해서 ...</td>\n",
       "      <td>05-25</td>\n",
       "      <td>몸값 오르는 가상화폐…비트코인·이더리움 뭐길래</td>\n",
       "    </tr>\n",
       "    <tr>\n",
       "      <th>9202</th>\n",
       "      <td>2341</td>\n",
       "      <td>비트코인이 2000달러를 돌파한지 닷새만에 또다시 최고치를 새로 썼다고 24일현지시...</td>\n",
       "      <td>05-25</td>\n",
       "      <td>비트코인 2500달러 또 사상최고치</td>\n",
       "    </tr>\n",
       "  </tbody>\n",
       "</table>\n",
       "</div>"
      ],
      "text/plain": [
       "      click                                            content   time  \\\n",
       "9198   3190  ▲ 이더리움 비트코인 비트코인과 함께 이더리움에 관심이 쏠리고 있다한 매체 보도에 ...  05-25   \n",
       "9199   2706  비트코인 © AFP뉴스1대표적인 전자화폐 비트코인의 랠리가 눈부시다 올 들어서만 그...  05-25   \n",
       "9200   3067  Photo  ⓒpixabay▲비트코인Bitcoin이 화제다 비트코인은 2009년 나...  05-25   \n",
       "9201   2801  사진게티이미지뱅크 비트코인 가상화폐비트코인 이더리움 등 가상화폐의 가격이 계속해서 ...  05-25   \n",
       "9202   2341  비트코인이 2000달러를 돌파한지 닷새만에 또다시 최고치를 새로 썼다고 24일현지시...  05-25   \n",
       "\n",
       "                                    title  \n",
       "9198  비트코인 이어 이더리움도 관심 스마트 콘트랙트 전자계약이 뭐길래  \n",
       "9199        비트코인보다 눈부신 이더리움…올해 들어 2300 급등  \n",
       "9200             비트코인 이더리움 가상화폐 수요 급증 이유는  \n",
       "9201            몸값 오르는 가상화폐…비트코인·이더리움 뭐길래  \n",
       "9202                  비트코인 2500달러 또 사상최고치  "
      ]
     },
     "execution_count": 3,
     "metadata": {},
     "output_type": "execute_result"
    }
   ],
   "source": [
    "df = pd.read_csv('concat_data.csv')\n",
    "df.tail()"
   ]
  },
  {
   "cell_type": "markdown",
   "metadata": {},
   "source": [
    "first-tuning"
   ]
  },
  {
   "cell_type": "code",
   "execution_count": 4,
   "metadata": {},
   "outputs": [],
   "source": [
    "content_ls = df['content'].tolist()\n",
    "# remove korean emotional emoji\n",
    "content_ls = [i.replace('ㅜ','').replace('ㅠ','').replace('ㅋ','').replace('ㅎ','') if type(i) == str else np.nan for i in content_ls] \n",
    "# eliminate etc words such as ▲\n",
    "content_ls = [','.join(re.findall('[가-힣a-zA-Z0-9\\s]',i)).replace(',','') if type(i) == str else np.nan for i in content_ls]\n",
    "df['content'] = content_ls"
   ]
  },
  {
   "cell_type": "markdown",
   "metadata": {},
   "source": [
    "nan-value eliminating and make new dataframe named new_df"
   ]
  },
  {
   "cell_type": "code",
   "execution_count": 5,
   "metadata": {
    "collapsed": true
   },
   "outputs": [],
   "source": [
    "new_df = df[df['content'].notnull()].reset_index(drop=True)"
   ]
  },
  {
   "cell_type": "markdown",
   "metadata": {},
   "source": [
    "- some content hasn't any spacing in their sentences. I thought they might have some problem to tune and interpret \n",
    "- Therefore, I remove them and make new dataframe named tuned_df"
   ]
  },
  {
   "cell_type": "code",
   "execution_count": 6,
   "metadata": {
    "collapsed": true
   },
   "outputs": [],
   "source": [
    "new_idx = sorted(list(set(new_df.index).difference(set([idx for idx,val in enumerate(new_df['content']) if ' ' not in val]))))"
   ]
  },
  {
   "cell_type": "code",
   "execution_count": 7,
   "metadata": {
    "collapsed": true
   },
   "outputs": [],
   "source": [
    "tuned_df = new_df.loc[new_idx]"
   ]
  },
  {
   "cell_type": "code",
   "execution_count": 8,
   "metadata": {
    "scrolled": true
   },
   "outputs": [
    {
     "data": {
      "text/plain": [
       "((9203, 4), (9179, 4), (8441, 4))"
      ]
     },
     "execution_count": 8,
     "metadata": {},
     "output_type": "execute_result"
    }
   ],
   "source": [
    "df.shape , new_df.shape , tuned_df.shape"
   ]
  },
  {
   "cell_type": "markdown",
   "metadata": {},
   "source": [
    "spacing_function"
   ]
  },
  {
   "cell_type": "code",
   "execution_count": 9,
   "metadata": {
    "collapsed": true
   },
   "outputs": [],
   "source": [
    "def split_and_spacing(content):\n",
    "    warnings.filterwarnings(\"error\")\n",
    "    tuning_process_1 = [i for i in content.split(\" \") if 'http' not in i]\n",
    "    \n",
    "    tuning_process_2 = []\n",
    "    for idx,i in enumerate(tuning_process_1) : \n",
    "        try : \n",
    "            tuning_process_2.append(spacing(i))\n",
    "        except :\n",
    "            display(Markdown(\"### some content's tuning gonna be passed!\"))\n",
    "            tuning_process_2.append(i)\n",
    "            \n",
    "    tuning_process_3 = ','.join(tuning_process_2).replace(',',' ')\n",
    "    return tuning_process_3"
   ]
  },
  {
   "cell_type": "code",
   "execution_count": null,
   "metadata": {},
   "outputs": [
    {
     "data": {
      "text/markdown": [
       "### some content's tuning gonna be passed!"
      ],
      "text/plain": [
       "<IPython.core.display.Markdown object>"
      ]
     },
     "metadata": {},
     "output_type": "display_data"
    },
    {
     "data": {
      "text/markdown": [
       "### some content's tuning gonna be passed!"
      ],
      "text/plain": [
       "<IPython.core.display.Markdown object>"
      ]
     },
     "metadata": {},
     "output_type": "display_data"
    },
    {
     "data": {
      "text/markdown": [
       "### some content's tuning gonna be passed!"
      ],
      "text/plain": [
       "<IPython.core.display.Markdown object>"
      ]
     },
     "metadata": {},
     "output_type": "display_data"
    },
    {
     "data": {
      "text/markdown": [
       "### some content's tuning gonna be passed!"
      ],
      "text/plain": [
       "<IPython.core.display.Markdown object>"
      ]
     },
     "metadata": {},
     "output_type": "display_data"
    },
    {
     "data": {
      "text/markdown": [
       "### some content's tuning gonna be passed!"
      ],
      "text/plain": [
       "<IPython.core.display.Markdown object>"
      ]
     },
     "metadata": {},
     "output_type": "display_data"
    },
    {
     "data": {
      "text/markdown": [
       "### some content's tuning gonna be passed!"
      ],
      "text/plain": [
       "<IPython.core.display.Markdown object>"
      ]
     },
     "metadata": {},
     "output_type": "display_data"
    },
    {
     "data": {
      "text/markdown": [
       "### some content's tuning gonna be passed!"
      ],
      "text/plain": [
       "<IPython.core.display.Markdown object>"
      ]
     },
     "metadata": {},
     "output_type": "display_data"
    },
    {
     "data": {
      "text/markdown": [
       "### some content's tuning gonna be passed!"
      ],
      "text/plain": [
       "<IPython.core.display.Markdown object>"
      ]
     },
     "metadata": {},
     "output_type": "display_data"
    },
    {
     "data": {
      "text/markdown": [
       "### some content's tuning gonna be passed!"
      ],
      "text/plain": [
       "<IPython.core.display.Markdown object>"
      ]
     },
     "metadata": {},
     "output_type": "display_data"
    }
   ],
   "source": [
    "%time tuned_df['tuned_content'] = [split_and_spacing(i) for i in tuned_df['content'].tolist()]"
   ]
  },
  {
   "cell_type": "code",
   "execution_count": null,
   "metadata": {
    "collapsed": true
   },
   "outputs": [],
   "source": [
    "tuned_df.to_csv('new_tuned_df.csv',index=False)"
   ]
  },
  {
   "cell_type": "code",
   "execution_count": null,
   "metadata": {
    "collapsed": true
   },
   "outputs": [],
   "source": [
    "%time tuned_df['tuned_content'] = tuned_df['content'].apply(lambda x : split_and_spacing(x))"
   ]
  }
 ],
 "metadata": {
  "kernelspec": {
   "display_name": "Python 3",
   "language": "python",
   "name": "python3"
  },
  "language_info": {
   "codemirror_mode": {
    "name": "ipython",
    "version": 3
   },
   "file_extension": ".py",
   "mimetype": "text/x-python",
   "name": "python",
   "nbconvert_exporter": "python",
   "pygments_lexer": "ipython3",
   "version": "3.6.3"
  }
 },
 "nbformat": 4,
 "nbformat_minor": 2
}
