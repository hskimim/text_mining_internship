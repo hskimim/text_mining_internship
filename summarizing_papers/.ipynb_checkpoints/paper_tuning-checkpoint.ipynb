{
 "cells": [
  {
   "cell_type": "code",
   "execution_count": 288,
   "metadata": {},
   "outputs": [],
   "source": [
    "from konlpy.tag import *\n",
    "from IPython.display import display\n",
    "import os\n",
    "import re\n",
    "import numpy as np\n",
    "import pandas as pd\n",
    "\n",
    "from konlpy.tag import Twitter\n",
    "twitter = Okt()\n",
    "\n",
    "import nltk\n",
    "from nltk.tokenize import word_tokenize\n",
    "from nltk.tokenize.stanford import StanfordTokenizer\n",
    "\n",
    "import function as ref\n",
    "# spacy for lemmatization\n",
    "import spacy\n",
    "\n",
    "import matplotlib.pyplot as plt\n",
    "%matplotlib inline\n",
    "\n",
    "import warnings\n",
    "warnings.filterwarnings(\"ignore\",category=DeprecationWarning)\n",
    "\n",
    "from pykospacing import spacing\n",
    "import warnings\n",
    "from IPython.display import display , Markdown"
   ]
  },
  {
   "cell_type": "code",
   "execution_count": 289,
   "metadata": {
    "scrolled": true
   },
   "outputs": [
    {
     "data": {
      "text/plain": [
       "32"
      ]
     },
     "execution_count": 289,
     "metadata": {},
     "output_type": "execute_result"
    }
   ],
   "source": [
    "len(os.listdir('cryptocurrency_paper_list_txt/'))"
   ]
  },
  {
   "cell_type": "code",
   "execution_count": 290,
   "metadata": {},
   "outputs": [
    {
     "data": {
      "text/plain": [
       "['cryptocurrency_paper_list_txt/KCI_FI002385959.txt',\n",
       " 'cryptocurrency_paper_list_txt/KCI_FI002353970.txt',\n",
       " 'cryptocurrency_paper_list_txt/KCI_FI002371799.txt',\n",
       " 'cryptocurrency_paper_list_txt/KCI_FI002344697.txt',\n",
       " 'cryptocurrency_paper_list_txt/KCI_FI001912885.txt']"
      ]
     },
     "execution_count": 290,
     "metadata": {},
     "output_type": "execute_result"
    }
   ],
   "source": [
    "paper_list = [\"cryptocurrency_paper_list_txt/\" + paper for paper in  os.listdir(\"cryptocurrency_paper_list_txt/\")]\n",
    "paper_list[:5]"
   ]
  },
  {
   "cell_type": "markdown",
   "metadata": {},
   "source": [
    "content_ls 는 리스트 형태이고 각각의 엘리먼트들은 튜플의 형태로 제목과 원문이 함께 들어있는 리스트이다."
   ]
  },
  {
   "cell_type": "code",
   "execution_count": 291,
   "metadata": {},
   "outputs": [
    {
     "data": {
      "text/plain": [
       "('cryptocurrency_paper_list_txt/KCI_FI002385959.txt', 'Journal of')"
      ]
     },
     "execution_count": 291,
     "metadata": {},
     "output_type": "execute_result"
    }
   ],
   "source": [
    "content_ls = [(paper,ref.extract_text_from_txt(paper)) for paper in paper_list]\n",
    "content_ls[0][0] , content_ls[0][1][:10]"
   ]
  },
  {
   "cell_type": "markdown",
   "metadata": {},
   "source": [
    "content_ls의 각각의 엘리먼트에서 두 번째 요소 즉, 원문에 해당하는 부분의 튜닝을 해준다."
   ]
  },
  {
   "cell_type": "code",
   "execution_count": 292,
   "metadata": {},
   "outputs": [
    {
     "data": {
      "text/plain": [
       "('cryptocurrency_paper_list_txt/KCI_FI002385959.txt', 'Journal of')"
      ]
     },
     "execution_count": 292,
     "metadata": {},
     "output_type": "execute_result"
    }
   ],
   "source": [
    "content_ls = [(val[0],val[1].replace('\\n','')) for val in content_ls]\n",
    "content_ls[0][0] , content_ls[0][1][:10]"
   ]
  },
  {
   "cell_type": "markdown",
   "metadata": {},
   "source": [
    "두 번째 엘리먼트는 이미지 파일로 제거해준다."
   ]
  },
  {
   "cell_type": "code",
   "execution_count": 293,
   "metadata": {},
   "outputs": [
    {
     "data": {
      "text/plain": [
       "('cryptocurrency_paper_list_txt/KCI_FI002371799.txt',\n",
       " '\\x02\\x02\\x03\\x04\\x05\\x06\\x06\\x07\\x08\\t')"
      ]
     },
     "execution_count": 293,
     "metadata": {},
     "output_type": "execute_result"
    }
   ],
   "source": [
    "content_ls[2][0] , content_ls[2][1][:10]"
   ]
  },
  {
   "cell_type": "code",
   "execution_count": 294,
   "metadata": {
    "collapsed": true
   },
   "outputs": [],
   "source": [
    "del content_ls[2]\n",
    "# 이미지 파일이므로 삭제"
   ]
  },
  {
   "cell_type": "markdown",
   "metadata": {},
   "source": [
    "- 페이지 별로 나눠서 세보자. 각 엘리먼트당 첫 번째 인자는 파일의 이름을 나타내고 두 번째 인자는 페이지 수를 나타낸다.\n",
    "- 또한 공백을 제거해주기 위해서 remove 메소드를 적용해주자"
   ]
  },
  {
   "cell_type": "code",
   "execution_count": 295,
   "metadata": {
    "scrolled": false
   },
   "outputs": [
    {
     "data": {
      "text/plain": [
       "[('cryptocurrency_paper_list_txt/KCI_FI002385959.txt', 17),\n",
       " ('cryptocurrency_paper_list_txt/KCI_FI002353970.txt', 33),\n",
       " ('cryptocurrency_paper_list_txt/KCI_FI002344697.txt', 10),\n",
       " ('cryptocurrency_paper_list_txt/KCI_FI001912885.txt', 23),\n",
       " ('cryptocurrency_paper_list_txt/KCI_FI002376679.txt', 34),\n",
       " ('cryptocurrency_paper_list_txt/KCI_FI002204070.txt', 33),\n",
       " ('cryptocurrency_paper_list_txt/KCI_FI002241679.txt', 35),\n",
       " ('cryptocurrency_paper_list_txt/KCI_FI002388194.txt', 21),\n",
       " ('cryptocurrency_paper_list_txt/KCI_FI002324641.txt', 23),\n",
       " ('cryptocurrency_paper_list_txt/KCI_FI002351239.txt', 4),\n",
       " ('cryptocurrency_paper_list_txt/KCI_FI002360945.txt', 22),\n",
       " ('cryptocurrency_paper_list_txt/KCI_FI002377770.txt', 47),\n",
       " ('cryptocurrency_paper_list_txt/KCI_FI002316868.txt', 11),\n",
       " ('cryptocurrency_paper_list_txt/KCI_FI002392716.txt', 21),\n",
       " ('cryptocurrency_paper_list_txt/KCI_FI001956926.txt', 57),\n",
       " ('cryptocurrency_paper_list_txt/KCI_FI002348676.txt', 43),\n",
       " ('cryptocurrency_paper_list_txt/KCI_FI002344707.txt', 15),\n",
       " ('cryptocurrency_paper_list_txt/KCI_FI002351215.txt', 8),\n",
       " ('cryptocurrency_paper_list_txt/KCI_FI001898850.txt', 11),\n",
       " ('cryptocurrency_paper_list_txt/KCI_FI001965080.txt', 57),\n",
       " ('cryptocurrency_paper_list_txt/KCI_FI002323730.txt', 47),\n",
       " ('cryptocurrency_paper_list_txt/KCI_FI002351036.txt', 20),\n",
       " ('cryptocurrency_paper_list_txt/KCI_FI002354621.txt', 33),\n",
       " ('cryptocurrency_paper_list_txt/KCI_FI002375909.txt', 10),\n",
       " ('cryptocurrency_paper_list_txt/KCI_FI002003102.txt', 43),\n",
       " ('cryptocurrency_paper_list_txt/KCI_FI002351180.txt', 13),\n",
       " ('cryptocurrency_paper_list_txt/KCI_FI002351848.txt', 22),\n",
       " ('cryptocurrency_paper_list_txt/KCI_FI002380143.txt', 14),\n",
       " ('cryptocurrency_paper_list_txt/KCI_FI002323456.txt', 45),\n",
       " ('cryptocurrency_paper_list_txt/KCI_FI002042216.txt', 19),\n",
       " ('cryptocurrency_paper_list_txt/KCI_FI002085696.txt', 58)]"
      ]
     },
     "execution_count": 295,
     "metadata": {},
     "output_type": "execute_result"
    }
   ],
   "source": [
    "[(val[0],len(val[1].split('\\x0c'))) for val in content_ls]"
   ]
  },
  {
   "cell_type": "code",
   "execution_count": 296,
   "metadata": {},
   "outputs": [],
   "source": [
    "split_ls = [val[1].split('\\x0c') for val in content_ls ]\n",
    "\n",
    "for i in split_ls : \n",
    "    i.remove('') "
   ]
  },
  {
   "cell_type": "markdown",
   "metadata": {},
   "source": [
    "- 논문을 하나씩 뜯어본 결과, 가상화폐에 대한 논문에서 숫자가 가지고 있는 정보의 비중은 없다고 판단,\n",
    "- 또한, 표와 같은 경우 숫자로 인해서 혼돈이 발생하는 경우를 찾았다. 숫자를 없애주자"
   ]
  },
  {
   "cell_type": "code",
   "execution_count": 297,
   "metadata": {},
   "outputs": [
    {
     "data": {
      "text/plain": [
       "'   124'"
      ]
     },
     "execution_count": 297,
     "metadata": {},
     "output_type": "execute_result"
    }
   ],
   "source": [
    "testing_ls = 'as dba fd a124t'\n",
    "','.join(re.findall('[0-9\\s]',testing_ls)).replace(',','')\n"
   ]
  },
  {
   "cell_type": "code",
   "execution_count": 298,
   "metadata": {},
   "outputs": [],
   "source": [
    "split_ls = [[','.join(re.findall('[A-Za-z가-힣\\s]',j)).replace(\",\",'') for j in i] for i in split_ls]"
   ]
  },
  {
   "cell_type": "markdown",
   "metadata": {},
   "source": [
    "- 두 칸이 뛰어져 있는 경우, 한 칸으로 줄여주었다.\n",
    "- 영어인 경우 모두 소문자로 만들어주었다."
   ]
  },
  {
   "cell_type": "code",
   "execution_count": 299,
   "metadata": {},
   "outputs": [
    {
     "data": {
      "text/plain": [
       "'Journal of The Korea Society of Computer and InformationVol No pp September wwwkscirekrhttpsdoiorgjksciEmpirical Validation of Personal Information Violation Risk forCryptocurrency with Use IntentionJeongWook Kim ChulYong ChoiAbstractThe purpose of this study is how personal information violation risks affect the intention to usedomestic cryptocurrency services VAMValue based Adoption Model model is validated as atheoretical background selecting perceived ease of use perceived usefulness and perceived securityas a benefit factors and considers perceived cost technical complexity and risk of personalinformation violation risks as sacrifice factors The method of this study used questionnaire survey tocollect data on users perception on cryptocurrency services and also performed a structuralequation modeling method using by AMOS The result of this paper shows that all hypotheses areaccepted statistically significant except hypothesis This research is concluded that perceived valueis affected on statistically positive impact on perceived ease of use perceived usefulness andperceived security and negative impact on risk of personal information violation risk not statisticallyperceived fee and technical complexityKeyword Cryptocurrency Services VAM Perceived Security Personal Information Violation RisksI Introduction컴퓨터와 인터넷의 발달 및 새로운 IT기술과 스마트폰의 진억달러에 달하고 있다 따라서 투자를 원하는 투자자들화 인공지능 블록체인 빅데이터 사물인터넷 등 다양한 기법에게 암호화폐들을 사고팔 수 있는 암호화폐 거래소도 증가하들이 경제활동 영역에서 글로벌화가 가속화 되고 있고 금융거는 추세에 있다 이들 거래소는 금융기관은 아니지만 고객에게래의 새로운 비즈니스모델의 태동으로 금융서비스 환경이 급변특정은행계정을 통해 거래소의 고객거래계정에 금전을 입금하하고 있다 년 월 사이버 전문가로만 알려진 나카모토 사도록 하고 있으며 더불어 각종 개인정보를 받고 있다토시라는 신원불명의 프로그래머에 의해 블록체인 기반의 비트최근 전자화폐의 위조 및 변조 부정사용과 해킹을 통한 전코인이라 불리우는 암호화폐가 처음 출현하였고 그 이후 이더자화폐의 개인정보 사용과 국내외 암호화폐 거래소에서 고객정리움 등 차츰 다양한 코인들이 나타나 일부는 사이버상에서 유보유출이라는 사고와 고객 소유인 암호화폐까지 도난을 당하는료서비스를 이용할 수 있는 물물 교환의 가치를 가진 지급결제사고가 발생하는 등 보안에 심각한 문제들이 발생하고 있다수단으로 이용되고 있으며 일부는 금 주식과 같은 무형 자산 이에 대한 다양한 보완조치들이 이루어지고 있지만 금융으로서의 상품으로 투자의 대상도 되고 있다 암호화폐기관의 경우에도 신용카드사 개인정보유출 시중은행 및 캐피의 유통규모가 점점 더 커지면서 국가경제에 큰 영향을 미치는탈사 고객대출정보유출 손해보험사의 고객정보 유출 등 정보상황으로 변화하고 있으며 다양한 부작용에 대한 우려도 커지유출 등에 대한 보안사고는 오히려 증가하고 있다 특히 대고 있는 상황이다 현재 전세계 암호화폐 거래소에 등록되어 거부분의 암호화폐 거래소들은 통신판매 허가업종으로 개설이 가래되고 있는 암호화폐 종류는 여종이 넘으며 시가총액은능하여 정부의 보안에 대한 규제의 사각지대에 놓여 있다 인터First Author JeongWook Kim Corresponding Author ChulYoung ChoiJeongWook Kim jukimsejongackr Div of Business Administration Sejong UniversityChulYong Choi schangupnavercom Information Strategy Center Sejong UniversityReceived  Revised  Accepted  '"
      ]
     },
     "execution_count": 299,
     "metadata": {},
     "output_type": "execute_result"
    }
   ],
   "source": [
    "split_ls = [[j.replace(\"  \",' ') for j in i] for i in split_ls]\n",
    "split_ls[0][0]"
   ]
  },
  {
   "cell_type": "code",
   "execution_count": 300,
   "metadata": {},
   "outputs": [
    {
     "data": {
      "text/plain": [
       "'journal of the korea society of computer and informationvol no pp september wwwkscirekrhttpsdoiorgjksciempirical validation of personal information violation risk forcryptocurrency with use intentionjeongwook kim chulyong choiabstractthe purpose of this study is how personal information violation risks affect the intention to usedomestic cryptocurrency services vamvalue based adoption model model is validated as atheoretical background selecting perceived ease of use perceived usefulness and perceived securityas a benefit factors and considers perceived cost technical complexity and risk of personalinformation violation risks as sacrifice factors the method of this study used questionnaire survey tocollect data on users perception on cryptocurrency services and also performed a structuralequation modeling method using by amos the result of this paper shows that all hypotheses areaccepted statistically significant except hypothesis this research is concluded that perceived valueis affected on statistically positive impact on perceived ease of use perceived usefulness andperceived security and negative impact on risk of personal information violation risk not statisticallyperceived fee and technical complexitykeyword cryptocurrency services vam perceived security personal information violation risksi introduction컴퓨터와 인터넷의 발달 및 새로운 it기술과 스마트폰의 진억달러에 달하고 있다 따라서 투자를 원하는 투자자들화 인공지능 블록체인 빅데이터 사물인터넷 등 다양한 기법에게 암호화폐들을 사고팔 수 있는 암호화폐 거래소도 증가하들이 경제활동 영역에서 글로벌화가 가속화 되고 있고 금융거는 추세에 있다 이들 거래소는 금융기관은 아니지만 고객에게래의 새로운 비즈니스모델의 태동으로 금융서비스 환경이 급변특정은행계정을 통해 거래소의 고객거래계정에 금전을 입금하하고 있다 년 월 사이버 전문가로만 알려진 나카모토 사도록 하고 있으며 더불어 각종 개인정보를 받고 있다토시라는 신원불명의 프로그래머에 의해 블록체인 기반의 비트최근 전자화폐의 위조 및 변조 부정사용과 해킹을 통한 전코인이라 불리우는 암호화폐가 처음 출현하였고 그 이후 이더자화폐의 개인정보 사용과 국내외 암호화폐 거래소에서 고객정리움 등 차츰 다양한 코인들이 나타나 일부는 사이버상에서 유보유출이라는 사고와 고객 소유인 암호화폐까지 도난을 당하는료서비스를 이용할 수 있는 물물 교환의 가치를 가진 지급결제사고가 발생하는 등 보안에 심각한 문제들이 발생하고 있다수단으로 이용되고 있으며 일부는 금 주식과 같은 무형 자산 이에 대한 다양한 보완조치들이 이루어지고 있지만 금융으로서의 상품으로 투자의 대상도 되고 있다 암호화폐기관의 경우에도 신용카드사 개인정보유출 시중은행 및 캐피의 유통규모가 점점 더 커지면서 국가경제에 큰 영향을 미치는탈사 고객대출정보유출 손해보험사의 고객정보 유출 등 정보상황으로 변화하고 있으며 다양한 부작용에 대한 우려도 커지유출 등에 대한 보안사고는 오히려 증가하고 있다 특히 대고 있는 상황이다 현재 전세계 암호화폐 거래소에 등록되어 거부분의 암호화폐 거래소들은 통신판매 허가업종으로 개설이 가래되고 있는 암호화폐 종류는 여종이 넘으며 시가총액은능하여 정부의 보안에 대한 규제의 사각지대에 놓여 있다 인터first author jeongwook kim corresponding author chulyoung choijeongwook kim jukimsejongackr div of business administration sejong universitychulyong choi schangupnavercom information strategy center sejong universityreceived  revised  accepted  '"
      ]
     },
     "execution_count": 300,
     "metadata": {},
     "output_type": "execute_result"
    }
   ],
   "source": [
    "split_ls = [[j.lower() for j in i] for i in split_ls]\n",
    "split_ls[0][0]"
   ]
  },
  {
   "cell_type": "markdown",
   "metadata": {},
   "source": [
    "- 먼저 한글을 잡는다.\n",
    "- konlpy 의 twitter 메소드를 사용하면 자동으로 한글만 잡고 그 중에서 명사만 잡아준다.\n",
    "- 자료형의 포맷은 리스트에서 각 엘리먼트는 다시 페이지 별로 리스트 형태를 띄고 있다."
   ]
  },
  {
   "cell_type": "code",
   "execution_count": 301,
   "metadata": {},
   "outputs": [
    {
     "data": {
      "text/plain": [
       "['컴퓨터', '인터넷', '발달', '및', '기술']"
      ]
     },
     "execution_count": 301,
     "metadata": {},
     "output_type": "execute_result"
    }
   ],
   "source": [
    "twitter.nouns(split_ls[0][0])[:5]"
   ]
  },
  {
   "cell_type": "code",
   "execution_count": 310,
   "metadata": {},
   "outputs": [
    {
     "data": {
      "text/plain": [
       "['컴퓨터', '인터넷', '발달', '및', '기술']"
      ]
     },
     "execution_count": 310,
     "metadata": {},
     "output_type": "execute_result"
    }
   ],
   "source": [
    "korean_word = [[twitter.nouns(j) for j in i] for i in split_ls]\n",
    "korean_word[0][0][:5]"
   ]
  },
  {
   "cell_type": "markdown",
   "metadata": {},
   "source": [
    "- 그 다음으로 영문을 잡는다.\n",
    "- nltk 의 tokenize , pos_tag 메소드를 이용해서 문장을 단어로 세분화시키고 태그가 NN인 것만 추출하면 된다.\n",
    "- 데이터의 포맷은 한글과 마찬가지로, 리스트 엘리먼트 각각은 페이지 별로 나뉘어져 있다."
   ]
  },
  {
   "cell_type": "code",
   "execution_count": 303,
   "metadata": {},
   "outputs": [
    {
     "name": "stdout",
     "output_type": "stream",
     "text": [
      "['i', 'me', 'my', 'myself', 'we']\n"
     ]
    }
   ],
   "source": [
    "from nltk.corpus import stopwords\n",
    "stop_words = stopwords.words('english')\n",
    "print(stop_words[:5])"
   ]
  },
  {
   "cell_type": "code",
   "execution_count": 304,
   "metadata": {
    "collapsed": true
   },
   "outputs": [],
   "source": [
    "def extract_eng(x):\n",
    "    if re.search('[가-힣]',x) :\n",
    "        x = re.sub('[가-힣]','',x)\n",
    "    if x :\n",
    "        return x"
   ]
  },
  {
   "cell_type": "code",
   "execution_count": 305,
   "metadata": {},
   "outputs": [
    {
     "data": {
      "text/plain": [
       "'ba'"
      ]
     },
     "execution_count": 305,
     "metadata": {},
     "output_type": "execute_result"
    }
   ],
   "source": [
    "extract_eng('김b현a식')"
   ]
  },
  {
   "cell_type": "code",
   "execution_count": 321,
   "metadata": {},
   "outputs": [
    {
     "data": {
      "text/plain": [
       "['journal', 'of', 'the', 'korea', 'society']"
      ]
     },
     "execution_count": 321,
     "metadata": {},
     "output_type": "execute_result"
    }
   ],
   "source": [
    "english_word = [[word_tokenize(page) for page in doc] for doc in split_ls]\n",
    "english_word[0][0][:5]"
   ]
  },
  {
   "cell_type": "code",
   "execution_count": 322,
   "metadata": {},
   "outputs": [
    {
     "data": {
      "text/plain": [
       "['journal', 'of', 'the', 'korea', 'society']"
      ]
     },
     "execution_count": 322,
     "metadata": {},
     "output_type": "execute_result"
    }
   ],
   "source": [
    "english_word = [[[i for i in list(map(extract_eng,page)) if i] for page in doc] for doc in english_word]\n",
    "english_word[0][0][:5]"
   ]
  },
  {
   "cell_type": "code",
   "execution_count": 324,
   "metadata": {
    "scrolled": true
   },
   "outputs": [
    {
     "data": {
      "text/plain": [
       "['journal', 'of', 'the', 'korea', 'society']"
      ]
     },
     "execution_count": 324,
     "metadata": {},
     "output_type": "execute_result"
    }
   ],
   "source": [
    "tuned_eng_word = [[page for page in doc if page not in stop_words] for doc in english_word]\n",
    "tuned_eng_word[0][0][:5]"
   ]
  },
  {
   "cell_type": "markdown",
   "metadata": {},
   "source": [
    "불용치 제거해주기"
   ]
  },
  {
   "cell_type": "code",
   "execution_count": 334,
   "metadata": {},
   "outputs": [
    {
     "data": {
      "text/plain": [
       "['journal', 'korea', 'society', 'computer', 'informationvol']"
      ]
     },
     "execution_count": 334,
     "metadata": {},
     "output_type": "execute_result"
    }
   ],
   "source": [
    "word_ls = []\n",
    "page_ls = []\n",
    "doc_ls = []\n",
    "\n",
    "for doc in english_word : \n",
    "    for page in doc :\n",
    "        for word in page :\n",
    "            if word not in stop_words:\n",
    "                word_ls.append(word)\n",
    "        page_ls.append(word_ls)\n",
    "    doc_ls.append(page_ls)\n",
    "tuned_eng_word = doc_ls.copy()\n",
    "tuned_eng_word[0][0][:5]"
   ]
  }
 ],
 "metadata": {
  "kernelspec": {
   "display_name": "Python 3",
   "language": "python",
   "name": "python3"
  },
  "language_info": {
   "codemirror_mode": {
    "name": "ipython",
    "version": 3
   },
   "file_extension": ".py",
   "mimetype": "text/x-python",
   "name": "python",
   "nbconvert_exporter": "python",
   "pygments_lexer": "ipython3",
   "version": "3.6.3"
  }
 },
 "nbformat": 4,
 "nbformat_minor": 2
}
