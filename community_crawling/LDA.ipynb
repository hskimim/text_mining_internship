{
 "cells": [
  {
   "cell_type": "code",
   "execution_count": 14,
   "metadata": {
    "collapsed": true
   },
   "outputs": [],
   "source": [
    "from konlpy.tag import *\n",
    "import datetime\n",
    "from IPython.display import display\n",
    "\n",
    "import re\n",
    "import numpy as np\n",
    "import pandas as pd\n",
    "from pprint import pprint\n",
    "from konlpy.tag import Hannanum\n",
    "\n",
    "# Gensim\n",
    "import gensim\n",
    "import gensim.corpora as corpora\n",
    "from gensim.utils import simple_preprocess\n",
    "from gensim.models import CoherenceModel\n",
    "\n",
    "# spacy for lemmatization\n",
    "import spacy\n",
    "\n",
    "# Plotting tools\n",
    "import pyLDAvis\n",
    "import pyLDAvis.gensim  # don't skip this\n",
    "import matplotlib.pyplot as plt\n",
    "%matplotlib inline\n",
    "\n",
    "# Enable logging for gensim - optional\n",
    "import logging\n",
    "logging.basicConfig(format='%(asctime)s : %(levelname)s : %(message)s', level=logging.ERROR)\n",
    "\n",
    "import warnings\n",
    "warnings.filterwarnings(\"ignore\",category=DeprecationWarning)"
   ]
  },
  {
   "cell_type": "markdown",
   "metadata": {},
   "source": [
    "stopwords는 불필요한 단어, 즉 조사나 관사들을 없애는 툴이다."
   ]
  },
  {
   "cell_type": "code",
   "execution_count": 15,
   "metadata": {},
   "outputs": [
    {
     "data": {
      "text/plain": [
       "['아', '휴', '아이구', '아이쿠', '아이고', '어', '나', '우리', '저희', '따라']"
      ]
     },
     "execution_count": 15,
     "metadata": {},
     "output_type": "execute_result"
    }
   ],
   "source": [
    "stop_words = list(pd.read_csv('kor_stop_words.csv').T.iloc[:1,:].values[0])\n",
    "stop_words[:10]"
   ]
  },
  {
   "cell_type": "markdown",
   "metadata": {},
   "source": [
    "# 전체 데이터프레임 병합하기"
   ]
  },
  {
   "cell_type": "code",
   "execution_count": 19,
   "metadata": {
    "scrolled": true
   },
   "outputs": [
    {
     "data": {
      "text/html": [
       "<div>\n",
       "<style>\n",
       "    .dataframe thead tr:only-child th {\n",
       "        text-align: right;\n",
       "    }\n",
       "\n",
       "    .dataframe thead th {\n",
       "        text-align: left;\n",
       "    }\n",
       "\n",
       "    .dataframe tbody tr th {\n",
       "        vertical-align: top;\n",
       "    }\n",
       "</style>\n",
       "<table border=\"1\" class=\"dataframe\">\n",
       "  <thead>\n",
       "    <tr style=\"text-align: right;\">\n",
       "      <th></th>\n",
       "      <th>click</th>\n",
       "      <th>content</th>\n",
       "      <th>time</th>\n",
       "      <th>title</th>\n",
       "    </tr>\n",
       "  </thead>\n",
       "  <tbody>\n",
       "    <tr>\n",
       "      <th>9198</th>\n",
       "      <td>3190</td>\n",
       "      <td>▲ 이더리움 비트코인 비트코인과 함께 이더리움에 관심이 쏠리고 있다한 매체 보도에 ...</td>\n",
       "      <td>05-25</td>\n",
       "      <td>비트코인 이어 이더리움도 관심 스마트 콘트랙트 전자계약이 뭐길래</td>\n",
       "    </tr>\n",
       "    <tr>\n",
       "      <th>9199</th>\n",
       "      <td>2706</td>\n",
       "      <td>비트코인 © AFP뉴스1대표적인 전자화폐 비트코인의 랠리가 눈부시다 올 들어서만 그...</td>\n",
       "      <td>05-25</td>\n",
       "      <td>비트코인보다 눈부신 이더리움…올해 들어 2300 급등</td>\n",
       "    </tr>\n",
       "    <tr>\n",
       "      <th>9200</th>\n",
       "      <td>3067</td>\n",
       "      <td>Photo  ⓒpixabay▲비트코인Bitcoin이 화제다 비트코인은 2009년 나...</td>\n",
       "      <td>05-25</td>\n",
       "      <td>비트코인 이더리움 가상화폐 수요 급증 이유는</td>\n",
       "    </tr>\n",
       "    <tr>\n",
       "      <th>9201</th>\n",
       "      <td>2801</td>\n",
       "      <td>사진게티이미지뱅크 비트코인 가상화폐비트코인 이더리움 등 가상화폐의 가격이 계속해서 ...</td>\n",
       "      <td>05-25</td>\n",
       "      <td>몸값 오르는 가상화폐…비트코인·이더리움 뭐길래</td>\n",
       "    </tr>\n",
       "    <tr>\n",
       "      <th>9202</th>\n",
       "      <td>2341</td>\n",
       "      <td>비트코인이 2000달러를 돌파한지 닷새만에 또다시 최고치를 새로 썼다고 24일현지시...</td>\n",
       "      <td>05-25</td>\n",
       "      <td>비트코인 2500달러 또 사상최고치</td>\n",
       "    </tr>\n",
       "  </tbody>\n",
       "</table>\n",
       "</div>"
      ],
      "text/plain": [
       "      click                                            content   time  \\\n",
       "9198   3190  ▲ 이더리움 비트코인 비트코인과 함께 이더리움에 관심이 쏠리고 있다한 매체 보도에 ...  05-25   \n",
       "9199   2706  비트코인 © AFP뉴스1대표적인 전자화폐 비트코인의 랠리가 눈부시다 올 들어서만 그...  05-25   \n",
       "9200   3067  Photo  ⓒpixabay▲비트코인Bitcoin이 화제다 비트코인은 2009년 나...  05-25   \n",
       "9201   2801  사진게티이미지뱅크 비트코인 가상화폐비트코인 이더리움 등 가상화폐의 가격이 계속해서 ...  05-25   \n",
       "9202   2341  비트코인이 2000달러를 돌파한지 닷새만에 또다시 최고치를 새로 썼다고 24일현지시...  05-25   \n",
       "\n",
       "                                    title  \n",
       "9198  비트코인 이어 이더리움도 관심 스마트 콘트랙트 전자계약이 뭐길래  \n",
       "9199        비트코인보다 눈부신 이더리움…올해 들어 2300 급등  \n",
       "9200             비트코인 이더리움 가상화폐 수요 급증 이유는  \n",
       "9201            몸값 오르는 가상화폐…비트코인·이더리움 뭐길래  \n",
       "9202                  비트코인 2500달러 또 사상최고치  "
      ]
     },
     "execution_count": 19,
     "metadata": {},
     "output_type": "execute_result"
    }
   ],
   "source": [
    "df = pd.read_csv('crawling_process/concat_data.csv')\n",
    "df.tail()"
   ]
  },
  {
   "cell_type": "code",
   "execution_count": 20,
   "metadata": {
    "collapsed": true
   },
   "outputs": [],
   "source": [
    "df.fillna('0',inplace=True)"
   ]
  },
  {
   "cell_type": "code",
   "execution_count": 21,
   "metadata": {
    "collapsed": true
   },
   "outputs": [],
   "source": [
    "df['content'] = [i.replace('  ','') for i in df['content'].values]"
   ]
  },
  {
   "cell_type": "markdown",
   "metadata": {},
   "source": [
    "________"
   ]
  },
  {
   "cell_type": "code",
   "execution_count": 22,
   "metadata": {
    "scrolled": true
   },
   "outputs": [
    {
     "name": "stdout",
     "output_type": "stream",
     "text": [
      "['넥시빗에서 이번에 이벤트 정말 크게 하네요이번 기회에 핸드폰 아이폰으로 바꿔야 겠어요도전 httpnatenewscCnm']\n"
     ]
    }
   ],
   "source": [
    "# Convert to list\n",
    "data = df.content.values.tolist()\n",
    "\n",
    "# Remove Emails\n",
    "data = [re.sub('\\S*@\\S*\\s?', '', sent) for sent in data]\n",
    "\n",
    "# Remove new line characters\n",
    "data = [re.sub('\\s+', ' ', sent) for sent in data]\n",
    "\n",
    "# Remove distracting single quotes\n",
    "data = [re.sub(\"\\'\", \"\", sent) for sent in data]\n",
    "\n",
    "# # ▶ 이후로 나온 단어들은 기사의 author 에 관한 내용으로 지워준다.\n",
    "# data = [data[i][:re.search('▶',data[i]).start()] if '▶' in i else data[i] for i in range(len(data))]\n",
    "\n",
    "pprint(data[:1])"
   ]
  },
  {
   "cell_type": "markdown",
   "metadata": {},
   "source": [
    "# tokenization process"
   ]
  },
  {
   "cell_type": "markdown",
   "metadata": {},
   "source": [
    "- 정규식 표현을 통해서 문장 내에 이메일과 기타 특수 문자들을 없애주었지만, 여전히 난잡해보인다.\n",
    "- LDA 알고리즘을 사용하기 위해서는, 문장들을 단어들의 묶음으로 변환시켜주는 과정이 필요하다.\n",
    "- 이러한 과정을 Tokenization 이라고 한다."
   ]
  },
  {
   "cell_type": "code",
   "execution_count": 23,
   "metadata": {
    "scrolled": true
   },
   "outputs": [
    {
     "name": "stdout",
     "output_type": "stream",
     "text": [
      "[['넥시빗에서', '이번에', '이벤트', '정말', '크게', '하네요이번', '기회에', '핸드폰', '아이폰으로', '바꿔야', '겠어요도전']]\n"
     ]
    }
   ],
   "source": [
    "def sent_to_words(sentences):\n",
    "    for sentence in sentences:\n",
    "        yield(gensim.utils.simple_preprocess(str(sentence), deacc=True))  \n",
    "        # deacc=True removes punctuations\n",
    "        # 구두점(말끝에 찍는 쉼표나 점들을 의미) 을 없애주는 것이다.\n",
    "\n",
    "data_words = list(sent_to_words(data))\n",
    "\n",
    "print(data_words[:1])"
   ]
  },
  {
   "cell_type": "markdown",
   "metadata": {},
   "source": [
    "### Bigram , Trigram 모델 만들기\n",
    "- Bigram : 문서에서 함께 자주 등장하는 2개의 단어\n",
    "- Trigram : 문서에서 함께 자주 등장하는 3개의 단어\n",
    "- ‘front_bumper’, ‘oil_leak’, ‘maryland_college_park’ etc.\n",
    "- Phrases : 모델을 빌드한다.\n",
    "- min_count , threshold : Pharases 의 중요한 두 개의 파라미터\n",
    "    - min_count (float, optional) : Ignore all words and bigrams with total collected count lower than this value.\n",
    "    - threshold (float, optional) : Represent a score threshold for forming the phrases (higher means fewer phrases). A phrase of words a followed by b is accepted if the score of the phrase is greater than threshold. Heavily depends on concrete scoring-function, see the scoring parameter."
   ]
  },
  {
   "cell_type": "code",
   "execution_count": 24,
   "metadata": {
    "scrolled": false
   },
   "outputs": [
    {
     "name": "stderr",
     "output_type": "stream",
     "text": [
      "/home/hskimim/anaconda3/lib/python3.6/site-packages/gensim/models/phrases.py:598: UserWarning: For a faster implementation, use the gensim.models.phrases.Phraser class\n",
      "  warnings.warn(\"For a faster implementation, use the gensim.models.phrases.Phraser class\")\n"
     ]
    },
    {
     "name": "stdout",
     "output_type": "stream",
     "text": [
      "['넥시빗에서', '이번에', '이벤트', '정말', '크게', '하네요이번', '기회에', '핸드폰', '아이폰으로', '바꿔야', '겠어요도전']\n"
     ]
    }
   ],
   "source": [
    "# Build the bigram and trigram models\n",
    "bigram = gensim.models.Phrases(data_words, min_count=5, threshold=100) # higher threshold fewer phrases.\n",
    "trigram = gensim.models.Phrases(bigram[data_words], threshold=100)  \n",
    "\n",
    "# Faster way to get a sentence clubbed as a trigram/bigram\n",
    "bigram_mod = gensim.models.phrases.Phraser(bigram)\n",
    "trigram_mod = gensim.models.phrases.Phraser(trigram)\n",
    "\n",
    "# See trigram example\n",
    "print(trigram_mod[bigram_mod[data_words[0]]])"
   ]
  },
  {
   "cell_type": "code",
   "execution_count": 25,
   "metadata": {
    "collapsed": true
   },
   "outputs": [],
   "source": [
    "# Define functions for stopwords, bigrams, trigrams and lemmatization\n",
    "def remove_stopwords(texts):\n",
    "    return [[word for word in simple_preprocess(str(doc)) if word not in stop_words] for doc in texts]\n",
    "\n",
    "def make_bigrams(texts):\n",
    "    return [bigram_mod[doc] for doc in texts]\n",
    "\n",
    "def make_trigrams(texts):\n",
    "    return [trigram_mod[bigram_mod[doc]] for doc in texts]\n",
    "\n",
    "# def lemmatization(texts, allowed_postags=['NOUN', 'ADJ', 'VERB', 'ADV']):\n",
    "#     \"\"\"https://spacy.io/api/annotation\"\"\"\n",
    "#     texts_out = []\n",
    "#     for sent in texts:\n",
    "#         doc = nlp(\" \".join(sent)) \n",
    "#         texts_out.append([token.lemma_ for token in doc if token.pos_ in allowed_postags])\n",
    "#     return texts_out"
   ]
  },
  {
   "cell_type": "code",
   "execution_count": 26,
   "metadata": {
    "scrolled": true
   },
   "outputs": [
    {
     "name": "stdout",
     "output_type": "stream",
     "text": [
      "[['넥시빗에서', '이번에', '이벤트', '정말', '크게', '하네요이번', '기회에', '핸드폰', '아이폰으로', '바꿔야', '겠어요도전']]\n"
     ]
    }
   ],
   "source": [
    "# Remove Stop Words\n",
    "data_words_nostops = remove_stopwords(data_words)\n",
    "\n",
    "# Form Bigrams\n",
    "data_words_bigrams = make_bigrams(data_words_nostops)\n",
    "\n",
    "# nlp = spacy.load('en', disable=['parser', 'ner'])\n",
    "\n",
    "# # Do lemmatization keeping only noun, adj, vb, adv\n",
    "# data_lemmatized = lemmatization(data_words_bigrams, allowed_postags=['NOUN', 'ADJ', 'VERB', 'ADV'])\n",
    "\n",
    "data_lemmatized = data_words_bigrams.copy()\n",
    "\n",
    "print(data_lemmatized[:1])"
   ]
  },
  {
   "cell_type": "markdown",
   "metadata": {},
   "source": [
    "- LDA 모델에 들어가야 하는 두 가지 입력변수는 딕셔너리와(id2word) 코퍼스(corpus)이다.\n",
    "- gensim 은 문서 내에 있는 단어별로 유니크한 아이디를 할당해준다.\n",
    "- 아래의 각각의 엘리먼트 튜플당 의미하는 것은 [word_id,word_frequency] 이다."
   ]
  },
  {
   "cell_type": "code",
   "execution_count": 27,
   "metadata": {
    "scrolled": true
   },
   "outputs": [
    {
     "name": "stdout",
     "output_type": "stream",
     "text": [
      "[[(0, 1), (1, 1), (2, 1), (3, 1), (4, 1), (5, 1), (6, 1), (7, 1), (8, 1), (9, 1), (10, 1)]]\n"
     ]
    }
   ],
   "source": [
    "# Create Dictionary\n",
    "id2word = corpora.Dictionary(data_lemmatized)\n",
    "\n",
    "# Create Corpus\n",
    "texts = data_lemmatized\n",
    "\n",
    "# Term Document Frequency\n",
    "corpus = [id2word.doc2bow(text) for text in texts]\n",
    "\n",
    "# View\n",
    "print(corpus[:1])"
   ]
  },
  {
   "cell_type": "markdown",
   "metadata": {},
   "source": [
    "만약 해당 id에 속한 단어를 보고싶으면"
   ]
  },
  {
   "cell_type": "code",
   "execution_count": 28,
   "metadata": {},
   "outputs": [
    {
     "data": {
      "text/plain": [
       "'겠어요도전'"
      ]
     },
     "execution_count": 28,
     "metadata": {},
     "output_type": "execute_result"
    }
   ],
   "source": [
    "id2word[0]"
   ]
  },
  {
   "cell_type": "markdown",
   "metadata": {},
   "source": [
    "위의 표는 컴퓨터가 읽기 쉽게끔 만들어준 것이고, Counter 객체처럼 사람이 읽기 쉽게 만든 것은 아래와 같다."
   ]
  },
  {
   "cell_type": "code",
   "execution_count": 29,
   "metadata": {
    "scrolled": true
   },
   "outputs": [
    {
     "data": {
      "text/plain": [
       "[[('겠어요도전', 1),\n",
       "  ('기회에', 1),\n",
       "  ('넥시빗에서', 1),\n",
       "  ('바꿔야', 1),\n",
       "  ('아이폰으로', 1),\n",
       "  ('이번에', 1),\n",
       "  ('이벤트', 1),\n",
       "  ('정말', 1),\n",
       "  ('크게', 1),\n",
       "  ('하네요이번', 1),\n",
       "  ('핸드폰', 1)]]"
      ]
     },
     "execution_count": 29,
     "metadata": {},
     "output_type": "execute_result"
    }
   ],
   "source": [
    "# Human readable format of corpus (term-frequency)\n",
    "[[(id2word[id], freq) for id, freq in cp] for cp in corpus[:1]]"
   ]
  },
  {
   "cell_type": "markdown",
   "metadata": {},
   "source": [
    "여태까지 해온 것이 LDA 모델 생성에 필요한 것들을 전부 한 것이다. 코퍼스와 딕셔너리를 생성한 것에 더해서, 우리는 몇 개의 토픽을 할당할 것인지에 대한 결정을 해주어야 한다."
   ]
  },
  {
   "cell_type": "markdown",
   "metadata": {},
   "source": [
    "- alpha , eta 는 토픽들의 떨어진 정도(sparsity)에 영향을 끼치는 하이퍼 파라미터이다. 도큐먼트에 따르면, 디폴트값은 1.0/num_topics prior 이다.\n",
    "- chunksize 는 각각의 training chunk 에 사용될 문서의 갯수를 의미한다. 확실하지는 않지만, batch_size 와 유사한 의미를 갖는 것로 해석된다.\n",
    "\n",
    "    - IN ADDITION : Text chunking, also referred to as shallow parsing, is a task that follows Part-Of-Speech Tagging and that adds more structure to the sentence. The result is a grouping of the words in “chunks”.\n"
   ]
  },
  {
   "cell_type": "code",
   "execution_count": 30,
   "metadata": {
    "collapsed": true
   },
   "outputs": [],
   "source": [
    "# Build LDA model\n",
    "lda_model = gensim.models.ldamodel.LdaModel(corpus=corpus,\n",
    "                                           id2word=id2word,\n",
    "                                           num_topics=5, \n",
    "                                           random_state=100,\n",
    "                                           update_every=1,\n",
    "                                           chunksize=100,\n",
    "                                           passes=10,\n",
    "                                           alpha='auto',\n",
    "                                           per_word_topics=True)"
   ]
  },
  {
   "cell_type": "markdown",
   "metadata": {},
   "source": [
    "위의 모델을 통해 반환되는 것은 토픽의 수는 20개이고 각각의 키워드(단어들의 집합)와 키워드들 간의 조합이 특정한 토픽의 가중치를 정해주는데 기여하는 것이다."
   ]
  },
  {
   "cell_type": "markdown",
   "metadata": {},
   "source": [
    "- lda_model 객체에 print_topics 메소드를 operating 하면, 각각의 키워드들이 토픽에 기여하는 가중치(importance)를 알 수 있다.\n",
    "- 0부터 19까지 총 20개에 해당하는 토픽이 있는 것을 알 수 있고, 각각의 토픽에 위치해있는 키워드들과 이들 키워드들이 해당 토픽에서 가지는 중요도가 순서대로 나와있다."
   ]
  },
  {
   "cell_type": "code",
   "execution_count": 31,
   "metadata": {
    "scrolled": true
   },
   "outputs": [
    {
     "name": "stdout",
     "output_type": "stream",
     "text": [
      "[(0,\n",
      "  '0.012*\"the\" + 0.008*\"and\" + 0.007*\"of\" + 0.007*\"to\" + 0.006*\"bitcoin\" + '\n",
      "  '0.005*\"segwit\" + 0.004*\"in\" + 0.004*\"for\" + 0.004*\"is\" + 0.003*\"as\"'),\n",
      " (1,\n",
      "  '0.021*\"비트코인\" + 0.016*\"가상화폐\" + 0.006*\"비트코인은\" + 0.006*\"있는\" + 0.006*\"가격이\" + '\n",
      "  '0.006*\"비트코인의\" + 0.006*\"이더리움\" + 0.005*\"비트코인을\" + 0.005*\"비트코인이\" + 0.004*\"같은\"'),\n",
      " (2,\n",
      "  '0.005*\"리플\" + 0.005*\"따르면\" + 0.005*\"비트코인\" + 0.003*\"기록했다\" + 0.003*\"억달러를\" + '\n",
      "  '0.003*\"비트코인bitcoin\" + 0.003*\"달러를_기록했다\" + 0.003*\"브라이언_켈리\" + 0.003*\"최고경영자는\" + '\n",
      "  '0.003*\"보도했다비트코인\"'),\n",
      " (3,\n",
      "  '0.008*\"대한\" + 0.006*\"관련\" + 0.006*\"암호화폐\" + 0.006*\"따르면\" + 0.004*\"있다고\" + '\n",
      "  '0.004*\"것이라고\" + 0.004*\"중국\" + 0.004*\"지난\" + 0.004*\"거래\" + 0.004*\"금융\"'),\n",
      " (4,\n",
      "  '0.023*\"블록체인\" + 0.006*\"있는\" + 0.006*\"통해\" + 0.005*\"기술을\" + 0.004*\"다양한\" + '\n",
      "  '0.004*\"디지털\" + 0.004*\"기반으로\" + 0.004*\"기반\" + 0.003*\"기술\" + 0.003*\"위해\"')]\n"
     ]
    }
   ],
   "source": [
    "# Print the Keyword in the 10 topics\n",
    "pprint(lda_model.print_topics())\n",
    "doc_lda = lda_model[corpus]"
   ]
  },
  {
   "cell_type": "code",
   "execution_count": 32,
   "metadata": {},
   "outputs": [
    {
     "name": "stdout",
     "output_type": "stream",
     "text": [
      "\n",
      "Perplexity:  -11.250579002602915\n",
      "\n",
      "Coherence Score:  0.5208918096675224\n"
     ]
    }
   ],
   "source": [
    "# Compute Perplexity\n",
    "print('\\nPerplexity: ', lda_model.log_perplexity(corpus))  # a measure of how good the model is. lower the better.\n",
    "\n",
    "# Compute Coherence Score\n",
    "coherence_model_lda = CoherenceModel(model=lda_model, texts=data_lemmatized, dictionary=id2word, coherence='c_v')\n",
    "coherence_lda = coherence_model_lda.get_coherence()\n",
    "print('\\nCoherence Score: ', coherence_lda)"
   ]
  },
  {
   "cell_type": "markdown",
   "metadata": {},
   "source": [
    "pyLDAvis 만큼 jupyter notebook에서 LDA랄 잘 작동하면서 시각화하는 툴도 없다."
   ]
  },
  {
   "cell_type": "code",
   "execution_count": 33,
   "metadata": {
    "scrolled": false
   },
   "outputs": [
    {
     "data": {
      "text/html": [
       "\n",
       "<link rel=\"stylesheet\" type=\"text/css\" href=\"https://cdn.rawgit.com/bmabey/pyLDAvis/files/ldavis.v1.0.0.css\">\n",
       "\n",
       "\n",
       "<div id=\"ldavis_el67811402643609504241613952900\"></div>\n",
       "<script type=\"text/javascript\">\n",
       "\n",
       "var ldavis_el67811402643609504241613952900_data = {\"mdsDat\": {\"Freq\": [37.67639711896516, 29.606871451901036, 22.230815766359097, 5.465395469718854, 5.020520193055845], \"cluster\": [1, 1, 1, 1, 1], \"topics\": [1, 2, 3, 4, 5], \"x\": [0.24278990581999615, 0.101373532477013, 0.01520092175106702, -0.22045451015641251, -0.13890984989166372], \"y\": [-0.17501789725015668, 0.14071409612885857, 0.18102085209594196, -0.06249049838806692, -0.08422655258657699]}, \"tinfo\": {\"Category\": [\"Default\", \"Default\", \"Default\", \"Default\", \"Default\", \"Default\", \"Default\", \"Default\", \"Default\", \"Default\", \"Default\", \"Default\", \"Default\", \"Default\", \"Default\", \"Default\", \"Default\", \"Default\", \"Default\", \"Default\", \"Default\", \"Default\", \"Default\", \"Default\", \"Default\", \"Default\", \"Default\", \"Default\", \"Default\", \"Default\", \"Topic1\", \"Topic1\", \"Topic1\", \"Topic1\", \"Topic1\", \"Topic1\", \"Topic1\", \"Topic1\", \"Topic1\", \"Topic1\", \"Topic1\", \"Topic1\", \"Topic1\", \"Topic1\", \"Topic1\", \"Topic1\", \"Topic1\", \"Topic1\", \"Topic1\", \"Topic1\", \"Topic1\", \"Topic1\", \"Topic1\", \"Topic1\", \"Topic1\", \"Topic1\", \"Topic1\", \"Topic1\", \"Topic1\", \"Topic1\", \"Topic1\", \"Topic1\", \"Topic1\", \"Topic1\", \"Topic1\", \"Topic1\", \"Topic1\", \"Topic1\", \"Topic1\", \"Topic1\", \"Topic1\", \"Topic1\", \"Topic1\", \"Topic1\", \"Topic1\", \"Topic1\", \"Topic1\", \"Topic1\", \"Topic1\", \"Topic1\", \"Topic1\", \"Topic1\", \"Topic2\", \"Topic2\", \"Topic2\", \"Topic2\", \"Topic2\", \"Topic2\", \"Topic2\", \"Topic2\", \"Topic2\", \"Topic2\", \"Topic2\", \"Topic2\", \"Topic2\", \"Topic2\", \"Topic2\", \"Topic2\", \"Topic2\", \"Topic2\", \"Topic2\", \"Topic2\", \"Topic2\", \"Topic2\", \"Topic2\", \"Topic2\", \"Topic2\", \"Topic2\", \"Topic2\", \"Topic2\", \"Topic2\", \"Topic2\", \"Topic2\", \"Topic2\", \"Topic2\", \"Topic2\", \"Topic2\", \"Topic2\", \"Topic2\", \"Topic2\", \"Topic2\", \"Topic2\", \"Topic2\", \"Topic2\", \"Topic2\", \"Topic2\", \"Topic2\", \"Topic2\", \"Topic2\", \"Topic2\", \"Topic2\", \"Topic2\", \"Topic2\", \"Topic2\", \"Topic2\", \"Topic2\", \"Topic2\", \"Topic2\", \"Topic2\", \"Topic2\", \"Topic2\", \"Topic3\", \"Topic3\", \"Topic3\", \"Topic3\", \"Topic3\", \"Topic3\", \"Topic3\", \"Topic3\", \"Topic3\", \"Topic3\", \"Topic3\", \"Topic3\", \"Topic3\", \"Topic3\", \"Topic3\", \"Topic3\", \"Topic3\", \"Topic3\", \"Topic3\", \"Topic3\", \"Topic3\", \"Topic3\", \"Topic3\", \"Topic3\", \"Topic3\", \"Topic3\", \"Topic3\", \"Topic3\", \"Topic3\", \"Topic3\", \"Topic3\", \"Topic3\", \"Topic3\", \"Topic3\", \"Topic3\", \"Topic3\", \"Topic3\", \"Topic3\", \"Topic3\", \"Topic3\", \"Topic3\", \"Topic3\", \"Topic3\", \"Topic3\", \"Topic3\", \"Topic3\", \"Topic3\", \"Topic3\", \"Topic3\", \"Topic3\", \"Topic3\", \"Topic3\", \"Topic3\", \"Topic3\", \"Topic3\", \"Topic3\", \"Topic3\", \"Topic3\", \"Topic3\", \"Topic3\", \"Topic3\", \"Topic3\", \"Topic3\", \"Topic3\", \"Topic4\", \"Topic4\", \"Topic4\", \"Topic4\", \"Topic4\", \"Topic4\", \"Topic4\", \"Topic4\", \"Topic4\", \"Topic4\", \"Topic4\", \"Topic4\", \"Topic4\", \"Topic4\", \"Topic4\", \"Topic4\", \"Topic4\", \"Topic4\", \"Topic4\", \"Topic4\", \"Topic4\", \"Topic4\", \"Topic4\", \"Topic4\", \"Topic4\", \"Topic4\", \"Topic4\", \"Topic4\", \"Topic4\", \"Topic4\", \"Topic4\", \"Topic4\", \"Topic4\", \"Topic4\", \"Topic4\", \"Topic4\", \"Topic5\", \"Topic5\", \"Topic5\", \"Topic5\", \"Topic5\", \"Topic5\", \"Topic5\", \"Topic5\", \"Topic5\", \"Topic5\", \"Topic5\", \"Topic5\", \"Topic5\", \"Topic5\", \"Topic5\", \"Topic5\", \"Topic5\", \"Topic5\", \"Topic5\", \"Topic5\", \"Topic5\", \"Topic5\", \"Topic5\", \"Topic5\", \"Topic5\", \"Topic5\", \"Topic5\", \"Topic5\", \"Topic5\", \"Topic5\", \"Topic5\", \"Topic5\", \"Topic5\", \"Topic5\", \"Topic5\", \"Topic5\", \"Topic5\", \"Topic5\", \"Topic5\", \"Topic5\", \"Topic5\", \"Topic5\", \"Topic5\", \"Topic5\", \"Topic5\"], \"Freq\": [9597.0, 6771.0, 7201.0, 2298.0, 2828.0, 2650.0, 2501.0, 2334.0, 2006.0, 2294.0, 762.0, 1377.0, 2101.0, 4439.0, 2936.0, 527.0, 3086.0, 1546.0, 1425.0, 1192.0, 1933.0, 1524.0, 1050.0, 1010.0, 475.0, 1336.0, 1066.0, 435.0, 1451.0, 2854.0, 7201.169887120505, 2828.3960802817337, 2649.730915808713, 2500.572541956089, 2293.563754919794, 2100.627565927116, 1545.7504028638893, 1336.2458122119456, 1100.0456469252283, 990.3380737675495, 896.7106769566466, 822.5682269131887, 816.0727916288895, 796.6128311247602, 839.9004868691806, 775.6852151496685, 713.2616885089817, 727.5439516198791, 637.9376182097591, 628.8298638685326, 627.5270236449236, 611.7303211599933, 611.2509299029432, 537.5326713381639, 499.91616555120567, 493.66892017950863, 485.08399555728937, 565.1585922375737, 466.8153779971607, 447.8192315398971, 9319.148583382394, 597.4082263908393, 884.7628522001928, 1089.1812223643499, 1050.7159677124125, 2470.1917548448096, 1045.8097737745418, 1703.7954183091492, 759.7700108677985, 934.006386304338, 2801.6687239563826, 1454.4572875898778, 1435.8542304634414, 1450.5099807111421, 1486.6907172627502, 971.4992675876517, 1207.1921803655462, 1495.505745506552, 1241.4907926557491, 1107.323444977412, 853.6107840947171, 886.1773465209623, 1191.6925851767385, 1065.8526684820717, 806.2492853256933, 753.5830812658969, 746.7018141371082, 662.9485671404512, 758.0055735006715, 601.7218354279228, 598.8716808154054, 713.9003489383701, 607.9183523565175, 571.0547616600356, 541.8144904238667, 510.58371977551985, 472.0331050405275, 438.6907405834719, 389.6681305403289, 378.3216513082471, 369.80174860740425, 365.6392314186421, 345.71098782995915, 329.6666169799473, 319.6863109277248, 306.36027924977304, 344.95279231735077, 294.21417855565903, 293.32786451429206, 295.09065470422775, 278.332512897187, 272.6982346227708, 1994.0436825001275, 348.556952609218, 311.9245421242954, 714.6232184058575, 2171.0138596741676, 1404.0090172557207, 1953.3697670693805, 746.9828615798033, 1267.3055201504167, 1407.020110757522, 864.7669612222052, 630.4357896685858, 2791.0700768270704, 1438.7534149361131, 1088.0507337001682, 1046.219520600539, 975.3427402808725, 952.5169394563354, 1231.7345751677865, 1367.7620303537867, 1317.4497732029477, 1003.0039373001333, 1104.3822108203813, 1020.5004345269995, 918.0283680654936, 1110.2340112714699, 844.0253970598063, 810.0309795326918, 774.8046688739746, 612.1876432453528, 572.8528767108412, 480.4611725012432, 484.3005650531814, 410.86213146911064, 388.7308082157996, 360.57497496503964, 350.077090411129, 306.3839944613316, 299.7802182986209, 290.0525810129645, 284.84316429858745, 286.6154146503228, 284.9212284412996, 262.4285153973293, 248.35027491833475, 246.3073908960233, 276.21058403499876, 288.1226910589367, 1375.0339619537947, 214.23280553615464, 288.7505044231827, 205.25845175798923, 260.94307597529786, 196.3876540284829, 195.96322073418722, 185.65141321424835, 182.33761965715738, 166.7096316812381, 167.31698058136334, 255.84541960114905, 249.97210297690248, 248.4729383302535, 6053.205278291943, 954.1612068262958, 603.2271997510132, 971.333035826074, 451.4604514348709, 1161.5228873301114, 742.8102049685965, 388.5444227498139, 904.1124991121528, 417.4303762638227, 372.7150132472325, 373.43230273870404, 1598.1926665987348, 417.22647185944885, 1089.0134818150386, 515.4471093264965, 369.1132675619862, 583.8446534485726, 441.994457026586, 723.4281521573779, 1678.5912695375507, 834.9306432219898, 443.93107079851626, 577.7657668870771, 691.7329381745776, 566.8915644330356, 566.4481625698864, 498.0062967674164, 458.2493793355117, 443.14857877931115, 461.24604309593474, 762.1602382099228, 526.671130074722, 434.80643649083135, 278.59317213727826, 252.87338310238505, 237.5198392914101, 295.68316131912036, 190.99481108864506, 181.10382110518304, 181.32325017130597, 148.3056741201652, 146.2942334313074, 134.4036318191559, 113.79208592880995, 110.12804212439362, 103.69124386832281, 105.29808520303773, 90.3839075672774, 89.0393149799487, 85.37309493177062, 80.85029927278629, 80.48575190313647, 77.09001544807718, 75.87497381778456, 69.99264759164353, 63.85302414137908, 57.554178508156255, 56.75260044440194, 57.468876577153765, 57.39440657720928, 380.23179350534946, 438.68318347908263, 94.44097189578724, 87.35804914167457, 107.23971168870963, 114.94216630367802, 311.8661965302241, 175.52363008327472, 143.0111483549766, 148.73648909065136, 158.86871142816472, 152.89527324405807, 154.00348549756782, 147.5230558798725, 113.76964808243845, 174.19830295897995, 108.46441103899296, 161.05962824648307, 88.25890152346935, 166.41079584680878, 78.99723528687304, 74.74126140641904, 70.58924772636502, 153.04698199881258, 63.49280951618921, 72.60320582500759, 58.7219662130911, 57.09866164069517, 59.36652642107839, 55.66528556306008, 55.28843419005246, 60.304856910597884, 63.6713145785443, 58.97396434575908, 53.30955787025842, 51.72514172659502, 141.6822548908088, 147.03737889943113, 103.11678191651, 139.70272729605747, 136.86134351933714, 124.01300509314319, 196.9867410930436, 126.53202517977908, 132.86811554972314, 110.7679113560761, 130.8809258966509, 290.57996761954774, 277.435581190848, 85.25665631505478, 82.34445422292634], \"Term\": [\"\\ube44\\ud2b8\\ucf54\\uc778\", \"\\ube14\\ub85d\\uccb4\\uc778\", \"\\uac00\\uc0c1\\ud654\\ud3d0\", \"\\ub530\\ub974\\uba74\", \"\\ube44\\ud2b8\\ucf54\\uc778\\uc740\", \"\\uac00\\uaca9\\uc774\", \"\\ube44\\ud2b8\\ucf54\\uc778\\uc758\", \"\\uad00\\ub828\", \"\\uc554\\ud638\\ud654\\ud3d0\", \"\\ube44\\ud2b8\\ucf54\\uc778\\uc744\", \"the\", \"\\uae30\\uc220\\uc744\", \"\\ube44\\ud2b8\\ucf54\\uc778\\uc774\", \"\\ub300\\ud55c\", \"\\uc774\\ub354\\ub9ac\\uc6c0\", \"and\", \"\\ud1b5\\ud574\", \"\\uac00\\uaca9\\uc740\", \"\\ub2e4\\uc591\\ud55c\", \"\\uc77c\\ubcf8\", \"\\ub514\\uc9c0\\ud138\", \"\\uc911\\uad6d\", \"\\uae30\\ubc18\\uc73c\\ub85c\", \"\\uae30\\ubc18\", \"of\", \"\\uac00\\uc0c1\\ud654\\ud3d0\\ub97c\", \"\\uaddc\\uc81c\", \"to\", \"\\uae08\\uc735\", \"\\uc9c0\\ub09c\", \"\\uac00\\uc0c1\\ud654\\ud3d0\", \"\\ube44\\ud2b8\\ucf54\\uc778\\uc740\", \"\\uac00\\uaca9\\uc774\", \"\\ube44\\ud2b8\\ucf54\\uc778\\uc758\", \"\\ube44\\ud2b8\\ucf54\\uc778\\uc744\", \"\\ube44\\ud2b8\\ucf54\\uc778\\uc774\", \"\\uac00\\uaca9\\uc740\", \"\\uac00\\uc0c1\\ud654\\ud3d0\\ub97c\", \"\\uac00\\uc0c1\\ud654\\ud3d0\\uc758\", \"\\ube44\\ud2b8\\ucf54\\uc778\\uacfc\", \"\\uac00\\uce58\\uac00\", \"\\uac00\\uc0c1\\ud654\\ud3d0\\uac00\", \"\\uc774\\ub354\\ub9ac\\uc6c0\\uc740\", \"\\uac00\\uaca9\", \"\\uac00\\uc0c1\\ud654\\ud3d0\\uc778\", \"\\uac00\\uc0c1\\ud1b5\\ud654\", \"\\uac00\\uc0c1\\ud654\\ud3d0\\ub294\", \"\\uc774\\ub354\\ub9ac\\uc6c0\\uc758\", \"\\ub3c8\\uc744\", \"\\ub2e4\\uc2dc\", \"\\uc5ed\\uc2dc\", \"\\ube44\\ud2b8\\ucf54\\uc778\\uc5d0\", \"\\uc804\\uc790\\ud654\\ud3d0\", \"\\uc54a\\uace0\", \"\\ub300\\ube44\", \"\\uac00\\uc0c1\\ud654\\ud3d0\\uc5d0\", \"\\uc5c6\\ub2e4\", \"\\ucc44\\uad74\", \"\\uc62c\\ub790\\ub2e4\", \"\\ud558\\ub8e8\", \"\\ube44\\ud2b8\\ucf54\\uc778\", \"\\ud22c\\uc790\\uc790\\ub4e4\\uc758\", \"\\uc774\\ub0a0\", \"\\uac83\\uc740\", \"\\uac70\\ub798\\uac00\", \"\\uc774\\ub354\\ub9ac\\uc6c0\", \"\\ub2ec\\ub7ec\\ub97c\", \"\\uac19\\uc740\", \"\\uc5c6\\ub294\", \"\\ub2ec\\ub7ec\", \"\\uc788\\ub294\", \"\\ucd5c\\uadfc\", \"\\ud604\\uc7ac\", \"\\uac83\\uc73c\\ub85c\", \"\\uc9c0\\ub09c\", \"\\uacbd\\uc6b0\", \"\\uad6d\\ub0b4\", \"\\ub300\\ud55c\", \"\\uac70\\ub798\", \"\\uac70\\ub798\\uc18c\", \"\\uac83\\uc774\", \"\\uc788\\ub2e4\\uace0\", \"\\uc77c\\ubcf8\", \"\\uaddc\\uc81c\", \"\\ud540\\ud14c\\ud06c\", \"ico\", \"\\ubc1d\\ud614\\ub2e4\", \"\\ub9d0\\ud588\\ub2e4\", \"\\uc911\\uc559\", \"\\uc815\\ubd80\", \"\\uc815\\ubd80\\ub294\", \"\\ud1b5\\ud654\\ub85c\", \"\\uae30\\uc220\\uc5d0\", \"\\ub7ec\\uc2dc\\uc544\", \"\\uaddc\\uc81c\\ub97c\", \"ico\\ub97c\", \"\\ud22c\\uc790\\uc790\\ub4e4\\uc740\", \"\\ub2ec\\ub7ec\\uc758\", \"\\uc624\\ub294\", \"\\uc2dc\\uc7a5\\uc740\", \"\\ud68c\\uc0ac\", \"\\ubc95\\uc801\", \"\\uacbd\\uc81c\", \"\\ud654\\ud3d0\\uc758\", \"\\uc601\\uad6d\", \"\\ubc1c\\ud45c\\ud55c\", \"\\uc2dc\\uc7a5\\uc73c\\ub85c\", \"\\uc790\\uae08\", \"\\uc5c5\\uacc4\", \"\\uc788\\uc5c8\\ub2e4\", \"\\uc8fc\\uc2dd\", \"\\ub0b4\\ub144\", \"\\uc554\\ud638\\ud654\\ud3d0\", \"\\uad6d\\uc81c\", \"\\uc8fc\\uc18c\\ub97c\", \"\\uac00\\ub2a5\\uc131\\uc774\", \"\\uad00\\ub828\", \"\\uc911\\uad6d\", \"\\ub530\\ub974\\uba74\", \"\\uc740\\ud589\", \"\\uae08\\uc735\", \"\\uac83\\uc774\\ub77c\\uace0\", \"\\uc2dc\\uc7a5\", \"\\ud5a5\\ud6c4\", \"\\ub300\\ud55c\", \"\\uc788\\ub2e4\\uace0\", \"\\ubbf8\\uad6d\", \"\\uc704\\ud55c\", \"\\ud22c\\uc790\", \"\\uc138\\uacc4\", \"\\uac70\\ub798\\uc18c\", \"\\uc9c0\\ub09c\", \"\\uac70\\ub798\", \"\\uc704\\ud574\", \"\\ud1b5\\ud574\", \"\\uac83\\uc73c\\ub85c\", \"\\uc0c8\\ub85c\\uc6b4\", \"\\uc788\\ub294\", \"\\ub514\\uc9c0\\ud138\", \"\\ub300\\ud574\", \"\\ucd5c\\uadfc\", \"\\ud50c\\ub7ab\\ud3fc\", \"\\uad6c\\uc870\\ub97c\", \"\\ubd84\\uc0b0\", \"\\uae30\\ubc18\\uc758\", \"\\uc9c0\\uac11\", \"\\ud50c\\ub7ab\\ud3fc\\uc744\", \"\\ube14\\ub85d_\\uccb4\\uc778\", \"\\ube14\\ub85d\\uccb4\\uc778\\uc5d0\", \"\\uae30\\uc220\\uc740\", \"\\uac1c\\ubc1c\\ud55c\", \"\\ub370\\uc774\\ud130\\ub97c\", \"\\ubaa8\\ubc14\\uc77c\", \"\\ub370\\uc774\\ud130\", \"\\uad50\\ud658\", \"\\uc18c\\ud504\\ud2b8\\uc6e8\\uc5b4\", \"\\ud074\\ub77c\\uc6b0\\ub4dc\", \"\\uc0ac\\uc6a9\\uc790\", \"\\uace0\\uc720\", \"\\uad6c\\ud604\\ud55c\", \"\\uae30\\uc220\\uc744\", \"\\uc5d0\\ub108\\uc9c0\", \"\\uc8fc\\uace0\\ubc1b\\uc744\", \"\\uc0ac\\uc6a9\\uc790\\uac00\", \"\\ub370\\uc774\\ud130\\ubca0\\uc774\\uc2a4\\uc5d0\", \"\\uc624\\ud508\", \"\\ub124\\ud2b8\\uc6cc\\ud06c\\ub97c\", \"\\uc2a4\\ub9c8\\ud2b8\", \"\\uc778\\uc99d\", \"\\uc81c\\uacf5\\ud560\", \"\\uc2e4\\uc2dc\\uac04\\uc73c\\ub85c\", \"\\ucef4\\ud4e8\\ud130\\uc640\", \"\\uc774\\ub8e8\\uc5b4\\uc9c0\\uba70\", \"\\uc218\\ud589\\ud55c\\ub2e4\", \"\\ube14\\ub85d\\uccb4\\uc778\", \"\\uae30\\ubc18\", \"\\ube14\\ub85d\\uccb4\\uc778\\uc744\", \"\\uae30\\ubc18\\uc73c\\ub85c\", \"\\uac1c\\ubc1c\", \"\\ub2e4\\uc591\\ud55c\", \"\\uc11c\\ube44\\uc2a4\\ub97c\", \"\\ub124\\ud2b8\\uc6cc\\ud06c\", \"\\uae30\\uc220\", \"\\uae30\\uc220\\uc774\", \"\\ube14\\ub85d\\uccb4\\uc778\\uc740\", \"\\uc0ac\\uc6a9\\ud560\", \"\\ud1b5\\ud574\", \"\\uc2dc\\uc2a4\\ud15c\\uc744\", \"\\ub514\\uc9c0\\ud138\", \"\\uc815\\ubcf4\\ub97c\", \"\\ube14\\ub85d\\uccb4\\uc778\\uc774\", \"\\uc11c\\ube44\\uc2a4\", \"\\ubcf4\\uc548\", \"\\ubaa8\\ub4e0\", \"\\uc788\\ub294\", \"\\uc704\\ud574\", \"\\uacb0\\uc81c\", \"\\uc788\\uc2b5\\ub2c8\\ub2e4\", \"\\uc0c8\\ub85c\\uc6b4\", \"\\uae00\\ub85c\\ubc8c\", \"\\uc704\\ud55c\", \"\\ub9ce\\uc740\", \"\\uae30\\uc874\", \"\\uc774\\ub97c\", \"\\uc774\\ub354\\ub9ac\\uc6c0\", \"the\", \"and\", \"to\", \"in\", \"for\", \"is\", \"segwit\", \"as\", \"that\", \"on\", \"in_the\", \"ethereum\", \"with\", \"of_the\", \"this\", \"cryptocurrency\", \"ripple\", \"by\", \"has\", \"its\", \"at\", \"an\", \"are\", \"it_is\", \"more\", \"was\", \"will\", \"from\", \"\\ubd81\\ud55c\\uc758\", \"litecoin\", \"bitcoin\", \"of\", \"hicoin\", \"\\ubd81\\ud55c\", \"blockchain\", \"it\", \"\\ub9ac\\ud50c\", \"\\uc5b5\\ub2ec\\ub7ec\\ub97c\", \"\\uc138\\uadf8\\uc717\", \"\\ub274\\uc2a4\", \"\\ucd5c\\uace0\\uacbd\\uc601\\uc790\\ub294\", \"\\uae30\\ub85d_\\uc911\\uc774\\ub2e4\", \"\\ubcf4\\ub3c4\\ud588\\ub2e4\\ube44\\ud2b8\\ucf54\\uc778\", \"\\ud22c\\uc790\\uc2ec\\ub9ac\\ub97c\", \"\\uc0c1\\uc2b9\\ud55c\", \"\\ube44\\ud2b8\\ucf54\\uc778bitcoin\", \"\\ub9e4\\ub3c4_\\ubb3c\\ub7c9\\uc774\", \"\\ube0c\\ub77c\\uc774\\uc5b8_\\ucf08\\ub9ac\", \"\\uc0ac\\uc0c1_\\ucd5c\\uace0\\uce58\\ub97c\", \"\\ub2ec\\ub7ec\\ub97c_\\uae30\\ub85d\\ud588\\ub2e4\", \"\\uae09\\ub4f1\\ud55c\", \"\\ube44\\ud2b8\\ucf54\\uc778_\\uce90\\uc2dc\", \"\\ub098\\ud0c0\\ub0b4\\uace0\", \"\\uc0c1\\uc2b9_\\uace1\\uc120\\uc744\", \"\\ub9cc\\uc6d0\\uc120\\uc744\", \"\\uc774\\ub370\\uc77c\\ub9ac\", \"\\uce90\\uc2dc\\ub294\", \"\\ub2ec\\ub7ec\\uc5d0_\\uac70\\ub798\\ub418\\uace0\", \"\\uc704\\ub294\", \"\\uc804\\uc77c_\\ub300\\ube44\", \"\\ud558\\ub8e8\\ub9cc\\uc5d0\", \"\\uc788\\ub2e4\\uac00\\uc0c1\\ud654\\ud3d0\", \"\\ud53c\\uc2f1\", \"bch\", \"\\ub098\\uc624\\uba74\\uc11c\", \"\\uae09\\ub4f1\", \"\\ubcf4\\ub3c4\\ud588\\ub2e4\\ucd5c\\uadfc\", \"\\ub77c\\uc774\\ud2b8\\ucf54\\uc778litecoin\", \"xrp\", \"\\ud655\\uc0b0\\ub428\\uc5d0\", \"\\uac70\\ud488\\ub17c\\ub780\", \"\\uba54\\uc77c\\ub9c1\", \"\\uae30\\ub85d\\ud588\\ub2e4\", \"\\ub3d9\\ubc18\", \"\\ub118\\uac8c\", \"\\uae09\\ub4f1\\ud588\\ub2e4\\uac00\\uc0c1\\ud654\\ud3d0\\uac00\", \"\\uc774\\ub354\\ub9ac\\uc6c0_\\ub9ac\\ud50c\", \"\\ub530\\ub974\\uba74\", \"\\ube44\\ud2b8\\ucf54\\uc778\", \"\\ub77c\\uc774\\ud2b8\\ucf54\\uc778\", \"\\ub2f7\\uc0c8\\ub9cc\\uc5d0\"], \"Total\": [9597.0, 6771.0, 7201.0, 2298.0, 2828.0, 2650.0, 2501.0, 2334.0, 2006.0, 2294.0, 762.0, 1377.0, 2101.0, 4439.0, 2936.0, 527.0, 3086.0, 1546.0, 1425.0, 1192.0, 1933.0, 1524.0, 1050.0, 1010.0, 475.0, 1336.0, 1066.0, 435.0, 1451.0, 2854.0, 7201.697783216556, 2828.923072939006, 2650.25724328026, 2501.100244750778, 2294.0894773957343, 2101.1542500327273, 1546.2771043436453, 1336.772246467719, 1100.5757351124319, 990.8706964786836, 897.2367694255528, 823.094506402719, 816.6053100364048, 797.1408460177408, 840.4600429508492, 776.2060659725347, 713.7889475293758, 728.0830463371118, 638.4636179634573, 629.3563206121503, 628.0571851380066, 612.2561856087448, 611.8177697980386, 538.0588761820018, 500.4469654589904, 494.1963338305328, 485.60562990882386, 565.7916476085358, 467.3508489820815, 448.34798436651954, 9597.015405099268, 600.2172105618833, 904.8493561631213, 1154.2809104429195, 1120.2165851541627, 2936.123535796081, 1153.318548207105, 2216.4178569197466, 813.9207710931929, 1070.1922849766395, 5590.6858737191515, 2229.622044567046, 2279.877454636109, 2541.881841873751, 2854.8121247896665, 1288.8736768892484, 2063.4609741103914, 4439.56530918354, 2988.4325405408404, 2339.415150210314, 1007.9670619478284, 2325.288048797054, 1192.1691596532064, 1066.316479397797, 806.7190805980922, 754.0522542981712, 747.1679223585088, 663.4183166628305, 758.551437530883, 602.1880046984429, 599.3371395649651, 714.4552775809442, 608.4171107893346, 571.5239814690402, 542.2798833046552, 511.0498736241668, 472.51598224711506, 439.19382407999956, 390.13732831114334, 378.7986879861778, 370.2749855982682, 366.1075988727998, 346.1798363822497, 330.1497707587937, 320.1552186577016, 306.8260055584827, 345.4829631481399, 294.6841037879732, 293.7971406320435, 295.5717571250295, 278.81070300041915, 273.1706047870866, 2006.240024872997, 349.4233984081028, 312.6581529901897, 732.594835312204, 2334.7672217150016, 1524.9881262604035, 2298.759340066563, 807.8161045282269, 1451.0108932157286, 1708.526096191565, 1007.9124948875974, 708.3929591282895, 4439.56530918354, 2325.288048797054, 1642.6990514316908, 1612.9692898506275, 1486.878749915986, 1445.2972783748075, 2339.415150210314, 2854.8121247896665, 2988.4325405408404, 1906.555829539462, 3086.862711861431, 2541.881841873751, 2063.9007908705694, 5590.6858737191515, 1933.3437485367322, 1615.2804510979431, 2229.622044567046, 612.6520944384916, 573.37964215072, 480.93855786815953, 484.7968314477343, 411.3465674956025, 389.1954360914943, 361.04888651864525, 350.5580636711071, 306.84943186350074, 300.2593791910043, 290.51788534929057, 285.3054794824948, 287.08293008544433, 285.43030666900097, 262.90569192470116, 248.81286212285588, 246.7718984428393, 276.7502556149629, 288.6972602118627, 1377.8025292961947, 214.69812118752554, 289.38524576923356, 205.7236943864619, 261.5527434721109, 196.85794521379432, 196.43821418649878, 186.1195481841891, 182.801223569175, 167.17727801241514, 167.7892821385247, 256.9054220331953, 251.30743843256602, 250.03699787980113, 6771.416449646552, 1010.3789583725313, 627.951790107013, 1050.7004556845677, 491.18110571850104, 1425.0371750004485, 915.4938784577023, 428.71209585780184, 1208.1120660511633, 470.4332625288849, 410.6686679507765, 421.7113749791605, 3086.862711861431, 492.03041183621934, 1933.3437485367322, 680.6398233314715, 419.8630819066292, 846.5667135006353, 562.9194098999404, 1260.5818838760995, 5590.6858737191515, 1906.555829539462, 608.7031928878048, 1247.0156239170858, 2063.9007908705694, 1606.3829487241694, 1612.9692898506275, 1515.6288779460679, 1101.341954276672, 1327.4863693612635, 2936.123535796081, 762.6890730458701, 527.2023382206864, 435.3360192054443, 279.12335468352495, 253.40697535413344, 238.04748560424386, 296.4017383049341, 191.52331282258456, 181.63066047428748, 181.88482220586314, 148.83238726901396, 146.85452628723468, 134.93097768794541, 114.3202524566969, 110.65599228553344, 104.23173073717963, 105.87102317854014, 90.91331572020655, 89.56614441262332, 85.9000074002681, 81.37747076076722, 81.01386748920113, 77.61704893113142, 76.40276279842762, 70.51978987002246, 64.3817500182209, 58.081491555099795, 57.28005118225962, 58.00822880964242, 57.937794767157996, 389.62465608330433, 475.1208683224958, 99.75771319213669, 120.08202461481216, 197.6747136510925, 333.08022853363036, 312.4131410255017, 176.10385681369198, 143.55857100699626, 149.30805221698992, 159.50691764909246, 153.55334172488023, 154.6935968313815, 148.21170281823603, 114.31274804404173, 175.04328596590503, 109.02511711187681, 162.03722459802975, 88.80754293524896, 167.44634529869103, 79.55251097098355, 75.28732535623871, 71.13088116719871, 154.22431104137326, 64.04011627419253, 73.23811679099046, 59.26240219751615, 57.63872640386961, 59.93876548620185, 56.203193653576484, 55.83438637399162, 60.908429290507144, 64.30864293925583, 59.580211906449854, 53.859913182426546, 52.269044594937505, 143.24048148031162, 150.81632560432544, 105.31223554207371, 143.85382878502935, 143.76771831395087, 150.40480735996434, 305.8207649709693, 180.70310863607506, 201.67010574561522, 156.12744376081642, 288.56173485085094, 2298.759340066563, 9597.015405099268, 216.0238714518063, 513.8003233918819], \"loglift\": [30.0, 29.0, 28.0, 27.0, 26.0, 25.0, 24.0, 23.0, 22.0, 21.0, 20.0, 19.0, 18.0, 17.0, 16.0, 15.0, 14.0, 13.0, 12.0, 11.0, 10.0, 9.0, 8.0, 7.0, 6.0, 5.0, 4.0, 3.0, 2.0, 1.0, 0.9761, 0.976, 0.9759, 0.9759, 0.9759, 0.9759, 0.9758, 0.9757, 0.9757, 0.9756, 0.9755, 0.9755, 0.9755, 0.9755, 0.9755, 0.9755, 0.9754, 0.9754, 0.9753, 0.9753, 0.9753, 0.9753, 0.9752, 0.9752, 0.9751, 0.9751, 0.9751, 0.975, 0.975, 0.975, 0.9468, 0.9714, 0.9537, 0.9181, 0.9121, 0.8033, 0.8783, 0.7131, 0.9073, 0.84, 0.2852, 0.5489, 0.5138, 0.4151, 0.3237, 0.6935, 0.44, -0.112, 0.0977, 0.2282, 0.8099, 0.0115, 1.2168, 1.2167, 1.2166, 1.2165, 1.2165, 1.2165, 1.2164, 1.2164, 1.2164, 1.2164, 1.2163, 1.2163, 1.2163, 1.2163, 1.2161, 1.216, 1.216, 1.2159, 1.2159, 1.2159, 1.2158, 1.2157, 1.2157, 1.2156, 1.2156, 1.2156, 1.2156, 1.2155, 1.2154, 1.2154, 1.2111, 1.2147, 1.2148, 1.1923, 1.1444, 1.1345, 1.0544, 1.1389, 1.0818, 1.023, 1.064, 1.1006, 0.753, 0.7371, 0.8052, 0.7843, 0.7955, 0.8002, 0.5757, 0.4813, 0.3981, 0.5749, 0.1893, 0.3046, 0.407, -0.3994, 0.3883, 0.527, 0.1602, 1.5029, 1.5028, 1.5027, 1.5027, 1.5025, 1.5025, 1.5024, 1.5023, 1.5022, 1.5021, 1.5021, 1.5021, 1.5021, 1.5019, 1.5019, 1.5018, 1.5018, 1.5017, 1.5017, 1.5017, 1.5015, 1.5015, 1.5014, 1.5014, 1.5013, 1.5013, 1.5012, 1.5012, 1.5009, 1.5009, 1.4996, 1.4984, 1.4974, 1.3916, 1.4464, 1.4635, 1.4251, 1.4194, 1.2992, 1.2947, 1.4053, 1.2138, 1.3842, 1.4067, 1.3821, 0.8454, 1.3388, 0.9297, 1.2257, 1.3749, 1.1321, 1.2619, 0.9484, 0.3005, 0.678, 1.188, 0.7344, 0.4105, 0.4621, 0.4572, 0.3907, 0.6268, 0.4066, -0.3472, 2.906, 2.9057, 2.9055, 2.9048, 2.9046, 2.9045, 2.9043, 2.904, 2.9038, 2.9036, 2.9032, 2.9029, 2.9028, 2.9021, 2.902, 2.9015, 2.9013, 2.9009, 2.9008, 2.9006, 2.9002, 2.9002, 2.8999, 2.8998, 2.8992, 2.8985, 2.8976, 2.8975, 2.8974, 2.8973, 2.8823, 2.8269, 2.852, 2.5886, 2.2952, 1.8428, 2.9899, 2.9883, 2.9878, 2.9878, 2.9876, 2.9873, 2.9872, 2.987, 2.9869, 2.9868, 2.9865, 2.9856, 2.9854, 2.9854, 2.9846, 2.9844, 2.984, 2.984, 2.9831, 2.9829, 2.9825, 2.9822, 2.982, 2.982, 2.9818, 2.9817, 2.9817, 2.9814, 2.9814, 2.9812, 2.9807, 2.9663, 2.9706, 2.9624, 2.9424, 2.7987, 2.5518, 2.6353, 2.5744, 2.6484, 2.201, 0.9234, -0.552, 2.0619, 1.1607], \"logprob\": [30.0, 29.0, 28.0, 27.0, 26.0, 25.0, 24.0, 23.0, 22.0, 21.0, 20.0, 19.0, 18.0, 17.0, 16.0, 15.0, 14.0, 13.0, 12.0, 11.0, 10.0, 9.0, 8.0, 7.0, 6.0, 5.0, 4.0, 3.0, 2.0, 1.0, -4.132800102233887, -5.067399978637695, -5.132599830627441, -5.190499782562256, -5.2769999504089355, -5.364799976348877, -5.671599864959717, -5.817200183868408, -6.01170015335083, -6.116799831390381, -6.216100215911865, -6.3024001121521, -6.310299873352051, -6.334400177001953, -6.281499862670898, -6.361100196838379, -6.445000171661377, -6.425099849700928, -6.556600093841553, -6.571000099182129, -6.572999954223633, -6.598499774932861, -6.599299907684326, -6.727799892425537, -6.8003997802734375, -6.813000202178955, -6.83050012588501, -6.677700042724609, -6.868899822235107, -6.910399913787842, -3.875, -6.622200012207031, -6.229499816894531, -6.021599769592285, -6.057600021362305, -5.2027997970581055, -6.062300205230713, -5.57420015335083, -6.381800174713135, -6.175300121307373, -5.0767998695373535, -5.732399940490723, -5.745299816131592, -5.735099792480469, -5.7104997634887695, -6.136000156402588, -5.918799877166748, -5.704599857330322, -5.890699863433838, -6.005099773406982, -6.2652997970581055, -6.22790002822876, -5.690700054168701, -5.802299976348877, -6.081399917602539, -6.14900016784668, -6.158100128173828, -6.277100086212158, -6.143099784851074, -6.374000072479248, -6.378699779510498, -6.203000068664551, -6.363699913024902, -6.426300048828125, -6.478899955749512, -6.5381999015808105, -6.616700172424316, -6.690000057220459, -6.808499813079834, -6.8379998207092285, -6.860799789428711, -6.872099876403809, -6.928199768066406, -6.9756999015808105, -7.006400108337402, -7.048999786376953, -6.9303998947143555, -7.0894999504089355, -7.09250020980835, -7.08650016784668, -7.144999980926514, -7.16540002822876, -5.175899982452393, -6.920000076293945, -7.031000137329102, -6.202000141143799, -5.090799808502197, -5.526700019836426, -5.196499824523926, -6.157700061798096, -5.6290998458862305, -5.524600028991699, -6.011300086975098, -6.327400207519531, -4.839600086212158, -5.502299785614014, -5.781599998474121, -5.820899963378906, -5.890999794006348, -5.914700031280518, -5.657599925994873, -5.5528998374938965, -5.5903000831604, -5.86299991607666, -5.76669979095459, -5.845699787139893, -5.951600074768066, -5.761499881744385, -6.035600185394287, -6.076700210571289, -6.121200084686279, -6.070199966430664, -6.136600017547607, -6.3125, -6.304599761962891, -6.468999862670898, -6.524400234222412, -6.599599838256836, -6.6290998458862305, -6.762400150299072, -6.784200191497803, -6.817200183868408, -6.835299968719482, -6.829100131988525, -6.835000038146973, -6.917300224304199, -6.972400188446045, -6.9807000160217285, -6.866099834442139, -6.82390022277832, -5.261000156402588, -7.120200157165527, -6.821700096130371, -7.163000106811523, -6.922999858856201, -7.207200050354004, -7.2093000411987305, -7.263400077819824, -7.281400203704834, -7.370999813079834, -7.367400169372559, -6.942699909210205, -6.96589994430542, -6.97189998626709, -3.778899908065796, -5.626399993896484, -6.085000038146973, -5.60860013961792, -6.374800205230713, -5.429800033569336, -5.876800060272217, -6.524899959564209, -5.680300235748291, -6.453100204467773, -6.566400051116943, -6.564499855041504, -5.110599994659424, -6.45359992980957, -5.494200229644775, -6.242199897766113, -6.576200008392334, -6.117599964141846, -6.395999908447266, -5.903299808502197, -5.061600208282471, -5.759900093078613, -6.391600131988525, -6.1280999183654785, -5.9481000900268555, -6.14709997177124, -6.147900104522705, -6.276599884033203, -6.359799861907959, -6.393400192260742, -6.353300094604492, -4.4481000900268555, -4.817599773406982, -5.009300231933594, -5.454500198364258, -5.551300048828125, -5.613999843597412, -5.394899845123291, -5.831999778747559, -5.8850998878479, -5.883900165557861, -6.08489990234375, -6.098599910736084, -6.1834001541137695, -6.349800109863281, -6.382599830627441, -6.442800045013428, -6.4274001121521, -6.5802001953125, -6.595099925994873, -6.637199878692627, -6.6915998458862305, -6.696100234985352, -6.739200115203857, -6.755099773406982, -6.8358001708984375, -6.927599906921387, -7.031499862670898, -7.045499801635742, -7.0329999923706055, -7.034299850463867, -5.143400192260742, -5.000400066375732, -6.536200046539307, -6.614200115203857, -6.409200191497803, -6.339799880981445, -5.256700038909912, -5.831500053405762, -6.036399841308594, -5.997099876403809, -5.93120002746582, -5.969600200653076, -5.962299823760986, -6.005300045013428, -6.265100002288818, -5.839099884033203, -6.312900066375732, -5.917500019073486, -6.519000053405762, -5.884900093078613, -6.629899978637695, -6.685299873352051, -6.742400169372559, -5.968599796295166, -6.848400115966797, -6.714300155639648, -6.926499843597412, -6.954500198364258, -6.915599822998047, -6.980000019073486, -6.986800193786621, -6.899899959564209, -6.845600128173828, -6.9222002029418945, -7.023200035095215, -7.053400039672852, -6.0457000732421875, -6.008600234985352, -6.363500118255615, -6.059800148010254, -6.0802998542785645, -6.178899765014648, -5.71619987487793, -6.15880012512207, -6.110000133514404, -6.291900157928467, -6.125, -5.327400207519531, -5.373700141906738, -6.553699970245361, -6.588399887084961]}, \"token.table\": {\"Topic\": [4, 4, 4, 4, 4, 5, 2, 4, 3, 4, 4, 4, 4, 4, 4, 4, 1, 2, 3, 4, 2, 2, 4, 4, 4, 2, 3, 4, 4, 4, 4, 4, 3, 4, 4, 4, 4, 4, 4, 4, 4, 4, 4, 4, 4, 4, 5, 1, 1, 1, 2, 3, 1, 1, 1, 1, 1, 1, 1, 1, 1, 1, 2, 3, 2, 3, 3, 1, 2, 3, 1, 2, 3, 1, 2, 1, 2, 5, 1, 2, 3, 1, 2, 3, 1, 2, 3, 1, 2, 3, 2, 3, 1, 2, 3, 2, 3, 1, 2, 3, 3, 3, 1, 2, 3, 2, 3, 2, 2, 1, 2, 3, 2, 3, 5, 5, 1, 2, 3, 5, 5, 2, 5, 2, 3, 2, 3, 3, 2, 3, 2, 3, 2, 3, 2, 3, 1, 2, 3, 5, 5, 2, 2, 5, 1, 3, 3, 5, 1, 2, 3, 1, 2, 1, 2, 5, 5, 2, 1, 2, 3, 5, 1, 1, 2, 3, 1, 2, 3, 3, 3, 1, 2, 5, 2, 3, 2, 3, 5, 2, 5, 1, 3, 5, 2, 5, 5, 1, 2, 3, 5, 2, 5, 1, 2, 3, 5, 1, 2, 3, 3, 1, 2, 2, 2, 2, 5, 1, 5, 1, 3, 1, 4, 4, 3, 5, 3, 2, 3, 5, 3, 1, 2, 3, 2, 3, 1, 2, 3, 1, 5, 5, 5, 1, 1, 1, 1, 1, 1, 5, 3, 3, 2, 3, 1, 5, 5, 1, 2, 3, 2, 3, 2, 3, 1, 2, 3, 5, 3, 1, 3, 3, 1, 2, 3, 1, 2, 2, 2, 3, 1, 2, 5, 5, 2, 1, 3, 1, 3, 1, 2, 2, 3, 1, 5, 2, 3, 1, 2, 3, 2, 3, 1, 2, 1, 2, 3, 1, 5, 1, 1, 5, 3, 1, 2, 3, 3, 2, 1, 2, 3, 5, 1, 2, 1, 3, 2, 2, 5, 1, 1, 3, 2, 2, 3, 3, 2, 2, 1, 2, 3, 2, 3, 1, 2, 1, 5, 1, 2, 5, 1, 3, 3, 1, 2, 3, 2, 1, 2, 5, 2, 1, 2, 3, 3, 5, 2, 1, 5, 2, 3, 1, 2, 3, 2, 1, 2, 3, 5, 2], \"Freq\": [0.9874852599854429, 0.9996162038632656, 0.9920500851342735, 0.9972676285989825, 0.9953614832552745, 0.9902616676261428, 0.023099154171792816, 0.9752976205868077, 0.45529343808159145, 0.5412933097192254, 0.9899539939449864, 0.9977767735838144, 0.9941811375594696, 0.9983939851949036, 0.9951108426672224, 0.9936790355738085, 0.010024287526258412, 0.030072862578775235, 0.020048575052516823, 0.9422830274682906, 0.9999307020198225, 0.9999024094775464, 0.9995580639116894, 0.9944072168411205, 0.999800520454466, 0.21015957719307335, 0.44433739177964077, 0.3452621625314776, 0.9947284262548173, 0.9895226155677225, 0.98381376490205, 0.9926291630905238, 0.07577019322915622, 0.9239754118777662, 0.9971986376008204, 0.9951352609022996, 0.9917727896416827, 0.9986446155571436, 0.9965277862633949, 0.9990965216754473, 0.9940717870583932, 0.9992281382871613, 0.9940705243626826, 0.9985969445185049, 0.9931003413456435, 0.018991145612904325, 0.9780439990645727, 0.9998233110015069, 0.9998207925714823, 0.9999029364862931, 0.9759828564656673, 0.024570197785149666, 0.9997345215638369, 0.9999031085116926, 0.9998851815897398, 0.998894704755367, 0.9994223051310651, 0.9996027209894274, 0.9994768782428471, 0.9994526295988635, 0.999736112658753, 0.7688080993753243, 0.08076094471137504, 0.15069360633295678, 0.07940044831926239, 0.9181949279996754, 0.9991361495793964, 0.4152678647299853, 0.4406992569294042, 0.1435535164940884, 0.9382114261907333, 0.033029327087590044, 0.028565904508185982, 0.47319519149924305, 0.5266273495276128, 0.034778321994937106, 0.013911328797974843, 0.9529260226612768, 0.5708369193630156, 0.40167091293565743, 0.027932061526377745, 0.9434445204349173, 0.05457943506648282, 0.001732680478301042, 0.8472499075016425, 0.06250204235667856, 0.09028072784853568, 0.1539338501098971, 0.8235168330974343, 0.022241392791544065, 0.26942523370372434, 0.7294195351491074, 0.7533709605611234, 0.14663966173640816, 0.09931151694317589, 0.9994805116781813, 0.9972890517723434, 0.06981424035937445, 0.9298571522711774, 0.9984924282427374, 0.9993378869377085, 0.9975848048874761, 0.5849395821601944, 0.23164964397064863, 0.18318737535754223, 0.9987882940580634, 0.0028618575760976026, 0.999703203125984, 0.9994838766598725, 0.24776159403092632, 0.3990331200347331, 0.3529668940088825, 0.8731843474945086, 0.12611897047473958, 0.9948526972891415, 0.9930547639007262, 0.14731554841335556, 0.08967033381682513, 0.0512401907524715, 0.7109576466905421, 0.9963964201712285, 0.3531480277680037, 0.6441681617620068, 0.0554247488389921, 0.9442001855785439, 0.07518793731609145, 0.9241454067585417, 0.9983563600336357, 0.2516322852346428, 0.7482749534609117, 0.9993144328423087, 0.9972317632842201, 0.001451586825741737, 0.9979659426974442, 0.11266210155950818, 0.8864169122700927, 0.23153571786655153, 0.35229748444008624, 0.41585630895247294, 0.9840342634880608, 0.9981599951378212, 0.99937546432853, 0.3371843325444306, 0.659492885711901, 0.09330270917587423, 0.9073688467353769, 0.9977692009250159, 0.9979368010471249, 0.9994338332666561, 0.1845565888482293, 0.8154173241127091, 0.872740359944183, 0.12707996675846775, 0.9069480427814697, 0.09277575581034155, 0.9913623358209996, 0.9889184504287255, 0.9995586821367409, 0.6169711959449666, 0.08369009913449074, 0.13818597764067078, 0.15959507276809864, 0.9991068674807919, 0.3369699274173134, 0.6286651520198674, 0.0344628334858616, 0.49836546926128095, 0.5014609069585559, 0.9997111284693254, 0.9982173718885916, 0.997886684479875, 0.9992738537476323, 0.29883271188628346, 0.7028102668436667, 0.43654937237042746, 0.5632728276201369, 0.8495887176877981, 0.023925949550859648, 0.1265900239872756, 0.6017853449543528, 0.3934750332393845, 0.013261163816224412, 0.006630581908112206, 0.9746955404924943, 0.9990831855074683, 0.998677581153771, 0.9837583637459496, 0.44140093246745704, 0.22828807568571022, 0.3285764788771205, 0.0013195842525185561, 0.9993694526480144, 0.9905974225111368, 0.06648723651543242, 0.02659489460617297, 0.0797846838185189, 0.824441732791362, 0.26575028904106207, 0.16024345786953595, 0.5735446536617549, 0.9989292898157832, 0.33724984470963354, 0.6623246047727098, 0.9973079023827228, 0.9997752548610777, 0.9997061004111056, 0.9955163184153153, 0.006981266675911375, 0.9913398679794153, 0.21495083998170872, 0.7851923245612831, 0.2664845142530416, 0.7245047731254568, 0.9826192105787097, 0.9980484869578354, 0.9935988498901853, 0.9998645986167783, 0.10455714919689447, 0.8939045537977433, 0.001476795892611504, 0.998408070648089, 0.05600622057380043, 0.034090742957965485, 0.9082747945229375, 0.03821949451869548, 0.960264799782224, 0.06907013559827375, 0.050016305088405134, 0.8788579322676903, 0.9710310556601225, 0.028863140081323523, 0.99618361583601, 0.9940398401449786, 0.9991212814328067, 0.9995815712200766, 0.9996737016471617, 0.9999609965537021, 0.9999599197389275, 0.9999265879538711, 0.9909068204281054, 0.9968720164341642, 0.9964822020690413, 0.11382192382733805, 0.8844911997416061, 0.006484062034368455, 0.9920614912583736, 0.9972641017787339, 0.21997181357176537, 0.4447888212750674, 0.3352874339023384, 0.30948535516664083, 0.6898452191500697, 0.18787673412930064, 0.8115837991748277, 0.23040242653362517, 0.6593799173770114, 0.11070386860474482, 0.9961091072230788, 0.9965550691654079, 0.003999408121516178, 0.9918532141360121, 0.9993576806662414, 0.0264211310668481, 0.12600847124189093, 0.8475085888365891, 0.14187739583082298, 0.8582094223332999, 0.9986020637783727, 0.9978915238845628, 0.9952959919223382, 0.9998905766922395, 0.9938990226885879, 0.005981338150583277, 0.9994102524750389, 0.9972867651797814, 0.9337518183486448, 0.06634552393529845, 0.9987528358990864, 0.996748359120871, 0.9999089491540583, 0.9995151768621722, 0.9996480000728517, 0.9956418055016141, 0.9992492813849687, 0.9843379242367286, 0.64849343789854, 0.35090562700819655, 0.035666409001212276, 0.5260795327678811, 0.4379625222942978, 0.924715409624392, 0.07551223559181781, 0.9780633582508258, 0.022103126740131655, 0.8412452575263666, 0.0013623404980184074, 0.15700974239662144, 0.5440776826530679, 0.4539756460353624, 0.9992587483463978, 0.9998859383726492, 0.9967487313789074, 0.9947974543025043, 0.4760877509454915, 0.1898324576554808, 0.3337134077038809, 0.9956169682372406, 0.9998581076755453, 0.501190741760634, 0.19854451226063663, 0.30032093341045846, 0.9850853272512688, 0.3810280625053555, 0.6188480608862376, 0.5364808484905413, 0.46350662246268, 0.9980655894507958, 0.9976785181854757, 0.9963846600100891, 0.9986633768445323, 0.24241896278179573, 0.7566410050462109, 0.9996877973374162, 0.999437479270499, 0.9989395806982694, 0.9986687442609262, 0.9978949757622013, 0.9970922816387794, 0.043279025497625405, 0.920662906040395, 0.03606585458135451, 0.9992730387108909, 0.9991574805213216, 0.5208749069991978, 0.47919090300934947, 0.998600814254007, 0.9968219707548506, 0.6521284643480199, 0.3475925446146598, 0.9955721977546305, 0.003892483047207886, 0.9964756600852188, 0.9967330381720599, 0.124398146546803, 0.3576446713220586, 0.5176777035984146, 0.9993627626595667, 0.3436729457791184, 0.6557360511441105, 0.9985716187439283, 0.998908011016556, 0.9946399228391475, 0.003332127044687261, 0.998935620322837, 0.9994978458805762, 0.9952005994039189, 0.9991086356882013, 0.999223852055427, 0.9850560482853218, 0.889336902466174, 0.11010837840057393, 0.6298584150125734, 0.2706285808236475, 0.09956675501939705, 0.999546355102869, 0.01390300151821984, 0.00695150075910992, 0.01390300151821984, 0.9732101062753888, 0.9992573476228109], \"Term\": [\"an\", \"and\", \"are\", \"as\", \"at\", \"bch\", \"bitcoin\", \"bitcoin\", \"blockchain\", \"blockchain\", \"by\", \"cryptocurrency\", \"ethereum\", \"for\", \"from\", \"has\", \"hicoin\", \"hicoin\", \"hicoin\", \"hicoin\", \"ico\", \"ico\\ub97c\", \"in\", \"in_the\", \"is\", \"it\", \"it\", \"it\", \"it_is\", \"its\", \"litecoin\", \"more\", \"of\", \"of\", \"of_the\", \"on\", \"ripple\", \"segwit\", \"that\", \"the\", \"this\", \"to\", \"was\", \"will\", \"with\", \"xrp\", \"xrp\", \"\\uac00\\uaca9\", \"\\uac00\\uaca9\\uc740\", \"\\uac00\\uaca9\\uc774\", \"\\uac00\\ub2a5\\uc131\\uc774\", \"\\uac00\\ub2a5\\uc131\\uc774\", \"\\uac00\\uc0c1\\ud1b5\\ud654\", \"\\uac00\\uc0c1\\ud654\\ud3d0\", \"\\uac00\\uc0c1\\ud654\\ud3d0\\uac00\", \"\\uac00\\uc0c1\\ud654\\ud3d0\\ub294\", \"\\uac00\\uc0c1\\ud654\\ud3d0\\ub97c\", \"\\uac00\\uc0c1\\ud654\\ud3d0\\uc5d0\", \"\\uac00\\uc0c1\\ud654\\ud3d0\\uc758\", \"\\uac00\\uc0c1\\ud654\\ud3d0\\uc778\", \"\\uac00\\uce58\\uac00\", \"\\uac19\\uc740\", \"\\uac19\\uc740\", \"\\uac19\\uc740\", \"\\uac1c\\ubc1c\", \"\\uac1c\\ubc1c\", \"\\uac1c\\ubc1c\\ud55c\", \"\\uac70\\ub798\", \"\\uac70\\ub798\", \"\\uac70\\ub798\", \"\\uac70\\ub798\\uac00\", \"\\uac70\\ub798\\uac00\", \"\\uac70\\ub798\\uac00\", \"\\uac70\\ub798\\uc18c\", \"\\uac70\\ub798\\uc18c\", \"\\uac70\\ud488\\ub17c\\ub780\", \"\\uac70\\ud488\\ub17c\\ub780\", \"\\uac70\\ud488\\ub17c\\ub780\", \"\\uac83\\uc73c\\ub85c\", \"\\uac83\\uc73c\\ub85c\", \"\\uac83\\uc73c\\ub85c\", \"\\uac83\\uc740\", \"\\uac83\\uc740\", \"\\uac83\\uc740\", \"\\uac83\\uc774\", \"\\uac83\\uc774\", \"\\uac83\\uc774\", \"\\uac83\\uc774\\ub77c\\uace0\", \"\\uac83\\uc774\\ub77c\\uace0\", \"\\uac83\\uc774\\ub77c\\uace0\", \"\\uacb0\\uc81c\", \"\\uacb0\\uc81c\", \"\\uacbd\\uc6b0\", \"\\uacbd\\uc6b0\", \"\\uacbd\\uc6b0\", \"\\uacbd\\uc81c\", \"\\uace0\\uc720\", \"\\uad00\\ub828\", \"\\uad00\\ub828\", \"\\uad50\\ud658\", \"\\uad6c\\uc870\\ub97c\", \"\\uad6c\\ud604\\ud55c\", \"\\uad6d\\ub0b4\", \"\\uad6d\\ub0b4\", \"\\uad6d\\ub0b4\", \"\\uad6d\\uc81c\", \"\\uad6d\\uc81c\", \"\\uaddc\\uc81c\", \"\\uaddc\\uc81c\\ub97c\", \"\\uae00\\ub85c\\ubc8c\", \"\\uae00\\ub85c\\ubc8c\", \"\\uae00\\ub85c\\ubc8c\", \"\\uae08\\uc735\", \"\\uae08\\uc735\", \"\\uae09\\ub4f1\", \"\\uae09\\ub4f1\\ud55c\", \"\\uae09\\ub4f1\\ud588\\ub2e4\\uac00\\uc0c1\\ud654\\ud3d0\\uac00\", \"\\uae09\\ub4f1\\ud588\\ub2e4\\uac00\\uc0c1\\ud654\\ud3d0\\uac00\", \"\\uae09\\ub4f1\\ud588\\ub2e4\\uac00\\uc0c1\\ud654\\ud3d0\\uac00\", \"\\uae09\\ub4f1\\ud588\\ub2e4\\uac00\\uc0c1\\ud654\\ud3d0\\uac00\", \"\\uae30\\ub85d_\\uc911\\uc774\\ub2e4\", \"\\uae30\\ub85d\\ud588\\ub2e4\", \"\\uae30\\ub85d\\ud588\\ub2e4\", \"\\uae30\\ubc18\", \"\\uae30\\ubc18\", \"\\uae30\\ubc18\\uc73c\\ub85c\", \"\\uae30\\ubc18\\uc73c\\ub85c\", \"\\uae30\\ubc18\\uc758\", \"\\uae30\\uc220\", \"\\uae30\\uc220\", \"\\uae30\\uc220\\uc5d0\", \"\\uae30\\uc220\\uc740\", \"\\uae30\\uc220\\uc744\", \"\\uae30\\uc220\\uc744\", \"\\uae30\\uc220\\uc774\", \"\\uae30\\uc220\\uc774\", \"\\uae30\\uc874\", \"\\uae30\\uc874\", \"\\uae30\\uc874\", \"\\ub098\\uc624\\uba74\\uc11c\", \"\\ub098\\ud0c0\\ub0b4\\uace0\", \"\\ub0b4\\ub144\", \"\\ub118\\uac8c\", \"\\ub118\\uac8c\", \"\\ub124\\ud2b8\\uc6cc\\ud06c\", \"\\ub124\\ud2b8\\uc6cc\\ud06c\", \"\\ub124\\ud2b8\\uc6cc\\ud06c\\ub97c\", \"\\ub274\\uc2a4\", \"\\ub2e4\\uc2dc\", \"\\ub2e4\\uc591\\ud55c\", \"\\ub2e4\\uc591\\ud55c\", \"\\ub2ec\\ub7ec\", \"\\ub2ec\\ub7ec\", \"\\ub2ec\\ub7ec\\ub97c\", \"\\ub2ec\\ub7ec\\ub97c\", \"\\ub2ec\\ub7ec\\ub97c_\\uae30\\ub85d\\ud588\\ub2e4\", \"\\ub2ec\\ub7ec\\uc5d0_\\uac70\\ub798\\ub418\\uace0\", \"\\ub2ec\\ub7ec\\uc758\", \"\\ub2f7\\uc0c8\\ub9cc\\uc5d0\", \"\\ub2f7\\uc0c8\\ub9cc\\uc5d0\", \"\\ub2f7\\uc0c8\\ub9cc\\uc5d0\", \"\\ub2f7\\uc0c8\\ub9cc\\uc5d0\", \"\\ub300\\ube44\", \"\\ub300\\ud55c\", \"\\ub300\\ud55c\", \"\\ub300\\ud55c\", \"\\ub300\\ud574\", \"\\ub300\\ud574\", \"\\ub370\\uc774\\ud130\", \"\\ub370\\uc774\\ud130\\ub97c\", \"\\ub370\\uc774\\ud130\\ubca0\\uc774\\uc2a4\\uc5d0\", \"\\ub3c8\\uc744\", \"\\ub3d9\\ubc18\", \"\\ub3d9\\ubc18\", \"\\ub514\\uc9c0\\ud138\", \"\\ub514\\uc9c0\\ud138\", \"\\ub530\\ub974\\uba74\", \"\\ub530\\ub974\\uba74\", \"\\ub530\\ub974\\uba74\", \"\\ub77c\\uc774\\ud2b8\\ucf54\\uc778\", \"\\ub77c\\uc774\\ud2b8\\ucf54\\uc778\", \"\\ub77c\\uc774\\ud2b8\\ucf54\\uc778litecoin\", \"\\ub77c\\uc774\\ud2b8\\ucf54\\uc778litecoin\", \"\\ub77c\\uc774\\ud2b8\\ucf54\\uc778litecoin\", \"\\ub7ec\\uc2dc\\uc544\", \"\\ub9ac\\ud50c\", \"\\ub9cc\\uc6d0\\uc120\\uc744\", \"\\ub9ce\\uc740\", \"\\ub9ce\\uc740\", \"\\ub9ce\\uc740\", \"\\ub9ce\\uc740\", \"\\ub9d0\\ud588\\ub2e4\", \"\\ub9e4\\ub3c4_\\ubb3c\\ub7c9\\uc774\", \"\\uba54\\uc77c\\ub9c1\", \"\\uba54\\uc77c\\ub9c1\", \"\\uba54\\uc77c\\ub9c1\", \"\\uba54\\uc77c\\ub9c1\", \"\\ubaa8\\ub4e0\", \"\\ubaa8\\ub4e0\", \"\\ubaa8\\ub4e0\", \"\\ubaa8\\ubc14\\uc77c\", \"\\ubbf8\\uad6d\", \"\\ubbf8\\uad6d\", \"\\ubc1c\\ud45c\\ud55c\", \"\\ubc1d\\ud614\\ub2e4\", \"\\ubc95\\uc801\", \"\\ubcf4\\ub3c4\\ud588\\ub2e4\\ube44\\ud2b8\\ucf54\\uc778\", \"\\ubcf4\\ub3c4\\ud588\\ub2e4\\ucd5c\\uadfc\", \"\\ubcf4\\ub3c4\\ud588\\ub2e4\\ucd5c\\uadfc\", \"\\ubcf4\\uc548\", \"\\ubcf4\\uc548\", \"\\ubd81\\ud55c\", \"\\ubd81\\ud55c\", \"\\ubd81\\ud55c\\uc758\", \"\\ubd84\\uc0b0\", \"\\ube0c\\ub77c\\uc774\\uc5b8_\\ucf08\\ub9ac\", \"\\ube14\\ub85d_\\uccb4\\uc778\", \"\\ube14\\ub85d\\uccb4\\uc778\", \"\\ube14\\ub85d\\uccb4\\uc778\", \"\\ube14\\ub85d\\uccb4\\uc778\", \"\\ube14\\ub85d\\uccb4\\uc778\\uc5d0\", \"\\ube14\\ub85d\\uccb4\\uc778\\uc740\", \"\\ube14\\ub85d\\uccb4\\uc778\\uc740\", \"\\ube14\\ub85d\\uccb4\\uc778\\uc740\", \"\\ube14\\ub85d\\uccb4\\uc778\\uc744\", \"\\ube14\\ub85d\\uccb4\\uc778\\uc744\", \"\\ube14\\ub85d\\uccb4\\uc778\\uc774\", \"\\ube14\\ub85d\\uccb4\\uc778\\uc774\", \"\\ube14\\ub85d\\uccb4\\uc778\\uc774\", \"\\ube44\\ud2b8\\ucf54\\uc778\", \"\\ube44\\ud2b8\\ucf54\\uc778\", \"\\ube44\\ud2b8\\ucf54\\uc778_\\uce90\\uc2dc\", \"\\ube44\\ud2b8\\ucf54\\uc778bitcoin\", \"\\ube44\\ud2b8\\ucf54\\uc778\\uacfc\", \"\\ube44\\ud2b8\\ucf54\\uc778\\uc5d0\", \"\\ube44\\ud2b8\\ucf54\\uc778\\uc740\", \"\\ube44\\ud2b8\\ucf54\\uc778\\uc744\", \"\\ube44\\ud2b8\\ucf54\\uc778\\uc758\", \"\\ube44\\ud2b8\\ucf54\\uc778\\uc774\", \"\\uc0ac\\uc0c1_\\ucd5c\\uace0\\uce58\\ub97c\", \"\\uc0ac\\uc6a9\\uc790\", \"\\uc0ac\\uc6a9\\uc790\\uac00\", \"\\uc0ac\\uc6a9\\ud560\", \"\\uc0ac\\uc6a9\\ud560\", \"\\uc0c1\\uc2b9_\\uace1\\uc120\\uc744\", \"\\uc0c1\\uc2b9_\\uace1\\uc120\\uc744\", \"\\uc0c1\\uc2b9\\ud55c\", \"\\uc0c8\\ub85c\\uc6b4\", \"\\uc0c8\\ub85c\\uc6b4\", \"\\uc0c8\\ub85c\\uc6b4\", \"\\uc11c\\ube44\\uc2a4\", \"\\uc11c\\ube44\\uc2a4\", \"\\uc11c\\ube44\\uc2a4\\ub97c\", \"\\uc11c\\ube44\\uc2a4\\ub97c\", \"\\uc138\\uacc4\", \"\\uc138\\uacc4\", \"\\uc138\\uacc4\", \"\\uc138\\uadf8\\uc717\", \"\\uc18c\\ud504\\ud2b8\\uc6e8\\uc5b4\", \"\\uc218\\ud589\\ud55c\\ub2e4\", \"\\uc218\\ud589\\ud55c\\ub2e4\", \"\\uc2a4\\ub9c8\\ud2b8\", \"\\uc2dc\\uc2a4\\ud15c\\uc744\", \"\\uc2dc\\uc2a4\\ud15c\\uc744\", \"\\uc2dc\\uc2a4\\ud15c\\uc744\", \"\\uc2dc\\uc7a5\", \"\\uc2dc\\uc7a5\", \"\\uc2dc\\uc7a5\\uc73c\\ub85c\", \"\\uc2dc\\uc7a5\\uc740\", \"\\uc2e4\\uc2dc\\uac04\\uc73c\\ub85c\", \"\\uc54a\\uace0\", \"\\uc554\\ud638\\ud654\\ud3d0\", \"\\uc554\\ud638\\ud654\\ud3d0\", \"\\uc5b5\\ub2ec\\ub7ec\\ub97c\", \"\\uc5c5\\uacc4\", \"\\uc5c6\\ub294\", \"\\uc5c6\\ub294\", \"\\uc5c6\\ub2e4\", \"\\uc5d0\\ub108\\uc9c0\", \"\\uc5ed\\uc2dc\", \"\\uc601\\uad6d\", \"\\uc624\\ub294\", \"\\uc624\\ud508\", \"\\uc62c\\ub790\\ub2e4\", \"\\uc704\\ub294\", \"\\uc704\\ud55c\", \"\\uc704\\ud55c\", \"\\uc704\\ud574\", \"\\uc704\\ud574\", \"\\uc704\\ud574\", \"\\uc740\\ud589\", \"\\uc740\\ud589\", \"\\uc774\\ub0a0\", \"\\uc774\\ub0a0\", \"\\uc774\\ub354\\ub9ac\\uc6c0\", \"\\uc774\\ub354\\ub9ac\\uc6c0\", \"\\uc774\\ub354\\ub9ac\\uc6c0\", \"\\uc774\\ub354\\ub9ac\\uc6c0_\\ub9ac\\ud50c\", \"\\uc774\\ub354\\ub9ac\\uc6c0_\\ub9ac\\ud50c\", \"\\uc774\\ub354\\ub9ac\\uc6c0\\uc740\", \"\\uc774\\ub354\\ub9ac\\uc6c0\\uc758\", \"\\uc774\\ub370\\uc77c\\ub9ac\", \"\\uc774\\ub8e8\\uc5b4\\uc9c0\\uba70\", \"\\uc774\\ub97c\", \"\\uc774\\ub97c\", \"\\uc774\\ub97c\", \"\\uc778\\uc99d\", \"\\uc77c\\ubcf8\", \"\\uc788\\ub294\", \"\\uc788\\ub294\", \"\\uc788\\ub294\", \"\\uc788\\ub2e4\\uac00\\uc0c1\\ud654\\ud3d0\", \"\\uc788\\ub2e4\\uace0\", \"\\uc788\\ub2e4\\uace0\", \"\\uc788\\uc2b5\\ub2c8\\ub2e4\", \"\\uc788\\uc2b5\\ub2c8\\ub2e4\", \"\\uc788\\uc5c8\\ub2e4\", \"\\uc790\\uae08\", \"\\uc804\\uc77c_\\ub300\\ube44\", \"\\uc804\\uc790\\ud654\\ud3d0\", \"\\uc815\\ubcf4\\ub97c\", \"\\uc815\\ubcf4\\ub97c\", \"\\uc815\\ubd80\", \"\\uc815\\ubd80\\ub294\", \"\\uc81c\\uacf5\\ud560\", \"\\uc8fc\\uace0\\ubc1b\\uc744\", \"\\uc8fc\\uc18c\\ub97c\", \"\\uc8fc\\uc2dd\", \"\\uc911\\uad6d\", \"\\uc911\\uad6d\", \"\\uc911\\uad6d\", \"\\uc911\\uc559\", \"\\uc9c0\\uac11\", \"\\uc9c0\\ub09c\", \"\\uc9c0\\ub09c\", \"\\ucc44\\uad74\", \"\\ucd5c\\uace0\\uacbd\\uc601\\uc790\\ub294\", \"\\ucd5c\\uadfc\", \"\\ucd5c\\uadfc\", \"\\uce90\\uc2dc\\ub294\", \"\\ucef4\\ud4e8\\ud130\\uc640\", \"\\ucef4\\ud4e8\\ud130\\uc640\", \"\\ud074\\ub77c\\uc6b0\\ub4dc\", \"\\ud1b5\\ud574\", \"\\ud1b5\\ud574\", \"\\ud1b5\\ud574\", \"\\ud1b5\\ud654\\ub85c\", \"\\ud22c\\uc790\", \"\\ud22c\\uc790\", \"\\ud22c\\uc790\\uc2ec\\ub9ac\\ub97c\", \"\\ud22c\\uc790\\uc790\\ub4e4\\uc740\", \"\\ud22c\\uc790\\uc790\\ub4e4\\uc758\", \"\\ud22c\\uc790\\uc790\\ub4e4\\uc758\", \"\\ud50c\\ub7ab\\ud3fc\", \"\\ud50c\\ub7ab\\ud3fc\\uc744\", \"\\ud53c\\uc2f1\", \"\\ud540\\ud14c\\ud06c\", \"\\ud558\\ub8e8\", \"\\ud558\\ub8e8\\ub9cc\\uc5d0\", \"\\ud5a5\\ud6c4\", \"\\ud5a5\\ud6c4\", \"\\ud604\\uc7ac\", \"\\ud604\\uc7ac\", \"\\ud604\\uc7ac\", \"\\ud654\\ud3d0\\uc758\", \"\\ud655\\uc0b0\\ub428\\uc5d0\", \"\\ud655\\uc0b0\\ub428\\uc5d0\", \"\\ud655\\uc0b0\\ub428\\uc5d0\", \"\\ud655\\uc0b0\\ub428\\uc5d0\", \"\\ud68c\\uc0ac\"]}, \"R\": 30, \"lambda.step\": 0.01, \"plot.opts\": {\"xlab\": \"PC1\", \"ylab\": \"PC2\"}, \"topic.order\": [2, 4, 5, 1, 3]};\n",
       "\n",
       "function LDAvis_load_lib(url, callback){\n",
       "  var s = document.createElement('script');\n",
       "  s.src = url;\n",
       "  s.async = true;\n",
       "  s.onreadystatechange = s.onload = callback;\n",
       "  s.onerror = function(){console.warn(\"failed to load library \" + url);};\n",
       "  document.getElementsByTagName(\"head\")[0].appendChild(s);\n",
       "}\n",
       "\n",
       "if(typeof(LDAvis) !== \"undefined\"){\n",
       "   // already loaded: just create the visualization\n",
       "   !function(LDAvis){\n",
       "       new LDAvis(\"#\" + \"ldavis_el67811402643609504241613952900\", ldavis_el67811402643609504241613952900_data);\n",
       "   }(LDAvis);\n",
       "}else if(typeof define === \"function\" && define.amd){\n",
       "   // require.js is available: use it to load d3/LDAvis\n",
       "   require.config({paths: {d3: \"https://cdnjs.cloudflare.com/ajax/libs/d3/3.5.5/d3.min\"}});\n",
       "   require([\"d3\"], function(d3){\n",
       "      window.d3 = d3;\n",
       "      LDAvis_load_lib(\"https://cdn.rawgit.com/bmabey/pyLDAvis/files/ldavis.v1.0.0.js\", function(){\n",
       "        new LDAvis(\"#\" + \"ldavis_el67811402643609504241613952900\", ldavis_el67811402643609504241613952900_data);\n",
       "      });\n",
       "    });\n",
       "}else{\n",
       "    // require.js not available: dynamically load d3 & LDAvis\n",
       "    LDAvis_load_lib(\"https://cdnjs.cloudflare.com/ajax/libs/d3/3.5.5/d3.min.js\", function(){\n",
       "         LDAvis_load_lib(\"https://cdn.rawgit.com/bmabey/pyLDAvis/files/ldavis.v1.0.0.js\", function(){\n",
       "                 new LDAvis(\"#\" + \"ldavis_el67811402643609504241613952900\", ldavis_el67811402643609504241613952900_data);\n",
       "            })\n",
       "         });\n",
       "}\n",
       "</script>"
      ],
      "text/plain": [
       "PreparedData(topic_coordinates=            Freq  cluster  topics         x         y\n",
       "topic                                                \n",
       "1      37.676397        1       1  0.242790 -0.175018\n",
       "3      29.606871        1       2  0.101374  0.140714\n",
       "4      22.230816        1       3  0.015201  0.181021\n",
       "0       5.465395        1       4 -0.220455 -0.062490\n",
       "2       5.020520        1       5 -0.138910 -0.084227, topic_info=       Category         Freq           Term        Total  loglift  logprob\n",
       "term                                                                      \n",
       "72      Default  9597.000000           비트코인  9597.000000  30.0000  30.0000\n",
       "69      Default  6771.000000           블록체인  6771.000000  29.0000  29.0000\n",
       "2989    Default  7201.000000           가상화폐  7201.000000  28.0000  28.0000\n",
       "2487    Default  2298.000000            따르면  2298.000000  27.0000  27.0000\n",
       "1932    Default  2828.000000          비트코인은  2828.000000  26.0000  26.0000\n",
       "957     Default  2650.000000            가격이  2650.000000  25.0000  25.0000\n",
       "2391    Default  2501.000000          비트코인의  2501.000000  24.0000  24.0000\n",
       "872     Default  2334.000000             관련  2334.000000  23.0000  23.0000\n",
       "88      Default  2006.000000           암호화폐  2006.000000  22.0000  22.0000\n",
       "6322    Default  2294.000000          비트코인을  2294.000000  21.0000  21.0000\n",
       "3318    Default   762.000000            the   762.000000  20.0000  20.0000\n",
       "2090    Default  1377.000000            기술을  1377.000000  19.0000  19.0000\n",
       "2307    Default  2101.000000          비트코인이  2101.000000  18.0000  18.0000\n",
       "54      Default  4439.000000             대한  4439.000000  17.0000  17.0000\n",
       "98      Default  2936.000000           이더리움  2936.000000  16.0000  16.0000\n",
       "6953    Default   527.000000            and   527.000000  15.0000  15.0000\n",
       "233     Default  3086.000000             통해  3086.000000  14.0000  14.0000\n",
       "7459    Default  1546.000000            가격은  1546.000000  13.0000  13.0000\n",
       "774     Default  1425.000000            다양한  1425.000000  12.0000  12.0000\n",
       "1956    Default  1192.000000             일본  1192.000000  11.0000  11.0000\n",
       "3430    Default  1933.000000            디지털  1933.000000  10.0000  10.0000\n",
       "501     Default  1524.000000             중국  1524.000000   9.0000   9.0000\n",
       "2627    Default  1050.000000           기반으로  1050.000000   8.0000   8.0000\n",
       "1908    Default  1010.000000             기반  1010.000000   7.0000   7.0000\n",
       "6979    Default   475.000000             of   475.000000   6.0000   6.0000\n",
       "12377   Default  1336.000000          가상화폐를  1336.000000   5.0000   5.0000\n",
       "3719    Default  1066.000000             규제  1066.000000   4.0000   4.0000\n",
       "6993    Default   435.000000             to   435.000000   3.0000   3.0000\n",
       "3206    Default  1451.000000             금융  1451.000000   2.0000   2.0000\n",
       "3988    Default  2854.000000             지난  2854.000000   1.0000   1.0000\n",
       "...         ...          ...            ...          ...      ...      ...\n",
       "8370     Topic5    74.741261        비트코인_캐시    75.287325   2.9844  -6.6853\n",
       "24275    Topic5    70.589248           나타내고    71.130881   2.9840  -6.7424\n",
       "172825   Topic5   153.046982         상승_곡선을   154.224311   2.9840  -5.9686\n",
       "139309   Topic5    63.492810           만원선을    64.040116   2.9831  -6.8484\n",
       "1952     Topic5    72.603206           이데일리    73.238117   2.9829  -6.7143\n",
       "18103    Topic5    58.721966            캐시는    59.262402   2.9825  -6.9265\n",
       "69973    Topic5    57.098662       달러에_거래되고    57.638726   2.9822  -6.9545\n",
       "45529    Topic5    59.366526             위는    59.938765   2.9820  -6.9156\n",
       "73543    Topic5    55.665286          전일_대비    56.203194   2.9820  -6.9800\n",
       "7751     Topic5    55.288434           하루만에    55.834386   2.9818  -6.9868\n",
       "90278    Topic5    60.304857         있다가상화폐    60.908429   2.9817  -6.8999\n",
       "5925     Topic5    63.671315             피싱    64.308643   2.9817  -6.8456\n",
       "8867     Topic5    58.973964            bch    59.580212   2.9814  -6.9222\n",
       "26578    Topic5    53.309558           나오면서    53.859913   2.9814  -7.0232\n",
       "5875     Topic5    51.725142             급등    52.269045   2.9812  -7.0534\n",
       "127481   Topic5   141.682255         보도했다최근   143.240481   2.9807  -6.0457\n",
       "92358    Topic5   147.037379  라이트코인litecoin   150.816326   2.9663  -6.0086\n",
       "5932     Topic5   103.116782            xrp   105.312236   2.9706  -6.3635\n",
       "148916   Topic5   139.702727           확산됨에   143.853829   2.9624  -6.0598\n",
       "147365   Topic5   136.861344           거품논란   143.767718   2.9424  -6.0803\n",
       "21734    Topic5   124.013005            메일링   150.404807   2.7987  -6.1789\n",
       "37031    Topic5   196.986741           기록했다   305.820765   2.5518  -5.7162\n",
       "60540    Topic5   126.532025             동반   180.703109   2.6353  -6.1588\n",
       "8532     Topic5   132.868116             넘게   201.670106   2.5744  -6.1100\n",
       "206197   Topic5   110.767911      급등했다가상화폐가   156.127444   2.6484  -6.2919\n",
       "3752     Topic5   130.880926        이더리움_리플   288.561735   2.2010  -6.1250\n",
       "2487     Topic5   290.579968            따르면  2298.759340   0.9234  -5.3274\n",
       "72       Topic5   277.435581           비트코인  9597.015405  -0.5520  -5.3737\n",
       "6017     Topic5    85.256656          라이트코인   216.023871   2.0619  -6.5537\n",
       "229336   Topic5    82.344454           닷새만에   513.800323   1.1607  -6.5884\n",
       "\n",
       "[286 rows x 6 columns], token_table=        Topic      Freq            Term\n",
       "term                                   \n",
       "27835       4  0.987485              an\n",
       "6953        4  0.999616             and\n",
       "8982        4  0.992050             are\n",
       "16127       4  0.997268              as\n",
       "1628        4  0.995361              at\n",
       "8867        5  0.990262             bch\n",
       "14734       2  0.023099         bitcoin\n",
       "14734       4  0.975298         bitcoin\n",
       "1633        3  0.455293      blockchain\n",
       "1633        4  0.541293      blockchain\n",
       "6957        4  0.989954              by\n",
       "9072        4  0.997777  cryptocurrency\n",
       "23627       4  0.994181        ethereum\n",
       "4370        4  0.998394             for\n",
       "27919       4  0.995111            from\n",
       "6964        4  0.993679             has\n",
       "226965      1  0.010024          hicoin\n",
       "226965      2  0.030073          hicoin\n",
       "226965      3  0.020049          hicoin\n",
       "226965      4  0.942283          hicoin\n",
       "285         2  0.999931             ico\n",
       "2455        2  0.999902            ico를\n",
       "1658        4  0.999558              in\n",
       "6969        4  0.994407          in_the\n",
       "8995        4  0.999801              is\n",
       "655         2  0.210160              it\n",
       "655         3  0.444337              it\n",
       "655         4  0.345262              it\n",
       "48501       4  0.994728           it_is\n",
       "24944       4  0.989523             its\n",
       "...       ...       ...             ...\n",
       "69464       1  0.003892            컴퓨터와\n",
       "69464       3  0.996476            컴퓨터와\n",
       "9063        3  0.996733            클라우드\n",
       "233         1  0.124398              통해\n",
       "233         2  0.357645              통해\n",
       "233         3  0.517678              통해\n",
       "124         2  0.999363             통화로\n",
       "2582        1  0.343673              투자\n",
       "2582        2  0.655736              투자\n",
       "95373       5  0.998572           투자심리를\n",
       "3769        2  0.998908           투자자들은\n",
       "4812        1  0.994640           투자자들의\n",
       "4812        2  0.003332           투자자들의\n",
       "523         3  0.998936             플랫폼\n",
       "524         3  0.999498            플랫폼을\n",
       "5925        5  0.995201              피싱\n",
       "4605        2  0.999109             핀테크\n",
       "7700        1  0.999224              하루\n",
       "7751        5  0.985056            하루만에\n",
       "4827        2  0.889337              향후\n",
       "4827        3  0.110108              향후\n",
       "241         1  0.629858              현재\n",
       "241         2  0.270629              현재\n",
       "241         3  0.099567              현재\n",
       "15036       2  0.999546             화폐의\n",
       "148916      1  0.013903            확산됨에\n",
       "148916      2  0.006952            확산됨에\n",
       "148916      3  0.013903            확산됨에\n",
       "148916      5  0.973210            확산됨에\n",
       "4352        2  0.999257              회사\n",
       "\n",
       "[370 rows x 3 columns], R=30, lambda_step=0.01, plot_opts={'xlab': 'PC1', 'ylab': 'PC2'}, topic_order=[2, 4, 5, 1, 3])"
      ]
     },
     "execution_count": 33,
     "metadata": {},
     "output_type": "execute_result"
    }
   ],
   "source": [
    "# Visualize the topics\n",
    "pyLDAvis.enable_notebook()\n",
    "vis = pyLDAvis.gensim.prepare(lda_model, corpus, id2word)\n",
    "vis"
   ]
  },
  {
   "cell_type": "markdown",
   "metadata": {},
   "source": [
    "- Gensim 의 LDA 알고리즘보다 Mallet 버젼이 더 나은 퀄리티를 보여준다.\n",
    "- https://www.machinelearningplus.com/wp-content/uploads/2018/03/mallet-2.0.8.zip 깔고 해당 경로를 아래에 넣어주면 된다."
   ]
  },
  {
   "cell_type": "markdown",
   "metadata": {},
   "source": [
    "# Q. What is diff between Mallet and LDA_model ?"
   ]
  },
  {
   "cell_type": "markdown",
   "metadata": {},
   "source": [
    "It's not that one is more complete than the other it is more a question of one having some stuff the other doesn't and vice versa. It also a question of intended audience and purpose.\n",
    "\n",
    "Mallet is a Java based machine learning toolkit that aims to provide robust and fast implementations for various natural language processing tasks.\n",
    "\n",
    "NLTK is built using Python and comes with a lot of extra stuff like corpora such as WordNet. NLTK is aimed more at people learning NLP, and as such is used more as a learning platform and perhaps less as an engineering solution.\n",
    "\n",
    "In my opinion the main difference between the two is that NLTK is better positioned as a learning resource for people interested in machine learning and NLP as it comes with a whole ton of documentation, examples, corpora etc. etc.\n",
    "\n",
    "Mallet is more aimed at researchers and practitioners that work in the field and already know what they want to do. It comes with less documentation (although it has good examples and the API is well documented) compared to NLTK's extensive collection of general NLP stuff.\n",
    "\n",
    "UPDATE: Good articles describing these would be the Mallet docs and examples at http://mallet.cs.umass.edu/ - the sidebar has links to sequence tagging, topic modelling etc.\n",
    "\n",
    "and for NLTK the NLTK book Natural Language Processing with Python is a good introduction both to NLTK and to NLP."
   ]
  },
  {
   "cell_type": "markdown",
   "metadata": {},
   "source": [
    "The inference algorithms in Mallet and Gensim are indeed different. Mallet uses Gibbs Sampling which is more precise than Gensim's faster and online Variational Bayes. There is a way to get relatively performance by increasing number of passes.\n"
   ]
  },
  {
   "cell_type": "code",
   "execution_count": 22,
   "metadata": {
    "scrolled": true
   },
   "outputs": [
    {
     "name": "stdout",
     "output_type": "stream",
     "text": [
      "[(0,\n",
      "  [('비트코인', 0.027623536766943887),\n",
      "   ('가상화폐', 0.008592252576853154),\n",
      "   ('비트코인을', 0.006190205901466729),\n",
      "   ('가격이', 0.005651390636953678),\n",
      "   ('비트코인은', 0.005421057394108405),\n",
      "   ('현재', 0.005038539687240361),\n",
      "   ('지난', 0.004594325576038762),\n",
      "   ('비트코인이', 0.004561420827060865),\n",
      "   ('이더리움', 0.0045038375163495474),\n",
      "   ('것으로', 0.004479158954616125)]),\n",
      " (1,\n",
      "  [('블록체인', 0.03641037272246163),\n",
      "   ('있는', 0.008743479246994784),\n",
      "   ('통해', 0.007227640432448779),\n",
      "   ('기술을', 0.0055908369244726695),\n",
      "   ('기술', 0.005072956830725032),\n",
      "   ('다양한', 0.004619339230362138),\n",
      "   ('위해', 0.004475693656913888),\n",
      "   ('기반', 0.004211083390035533),\n",
      "   ('디지털', 0.003534437136160883),\n",
      "   ('모든', 0.003447493762757995)]),\n",
      " (2,\n",
      "  [('암호화폐', 0.035044202760287475),\n",
      "   ('통해', 0.006123876759251688),\n",
      "   ('따르면', 0.005642325619429226),\n",
      "   ('암호화폐를', 0.00560143920189713),\n",
      "   ('거래소', 0.0051925750265761714),\n",
      "   ('중국', 0.004588364634157422),\n",
      "   ('금융', 0.004533849410781294),\n",
      "   ('관련', 0.00450659179909323),\n",
      "   ('밝혔다', 0.004361217870090223),\n",
      "   ('있다고', 0.004333960258402159)]),\n",
      " (3,\n",
      "  [('가상화폐', 0.015040301359997784),\n",
      "   ('대한', 0.006920675369280749),\n",
      "   ('거래소', 0.006572465287807503),\n",
      "   ('있는', 0.006137202685965947),\n",
      "   ('관련', 0.005571361303571923),\n",
      "   ('국내', 0.005393299330091287),\n",
      "   ('대해', 0.005262720549538819),\n",
      "   ('가상통화', 0.0041112531210307016),\n",
      "   ('정부가', 0.0036997321156532303),\n",
      "   ('경우', 0.0036878613174211876)]),\n",
      " (4,\n",
      "  [('있습니다', 0.007857607346247068),\n",
      "   ('대한', 0.007473348178217432),\n",
      "   ('많은', 0.004911620391353184),\n",
      "   ('있는', 0.0041972924507852685),\n",
      "   ('대해', 0.0034287741147259938),\n",
      "   ('것을', 0.002960766153664256),\n",
      "   ('현재', 0.0028228269651407963),\n",
      "   ('같은', 0.0026799613770272135),\n",
      "   ('많이', 0.0025223165901432595),\n",
      "   ('모든', 0.002507537391372889)])]\n"
     ]
    }
   ],
   "source": [
    "# Download File: http://mallet.cs.umass.edu/dist/mallet-2.0.8.zip\n",
    "mallet_path = '/home/hskimim/Documents/mallet-2.0.8/bin/mallet' # update this path\n",
    "ldamallet = gensim.models.wrappers.LdaMallet(mallet_path, corpus=corpus, num_topics=5, id2word=id2word)\n",
    "# Show Topics\n",
    "pprint(ldamallet.show_topics(formatted=False))\n"
   ]
  },
  {
   "cell_type": "code",
   "execution_count": 23,
   "metadata": {},
   "outputs": [
    {
     "name": "stdout",
     "output_type": "stream",
     "text": [
      "\n",
      "Coherence Score:  0.4368632464144686\n"
     ]
    }
   ],
   "source": [
    "# Compute Coherence Score\n",
    "coherence_model_ldamallet = CoherenceModel(model=ldamallet, texts=data_lemmatized, dictionary=id2word, coherence='c_v')\n",
    "coherence_ldamallet = coherence_model_ldamallet.get_coherence()\n",
    "print('\\nCoherence Score: ', coherence_ldamallet)"
   ]
  },
  {
   "cell_type": "markdown",
   "metadata": {},
   "source": [
    "#### LDA 에서 최적의 토픽 갯수 찾기\n",
    "- 많은 LDA 모델을 토픽 갯수(k)를 다르게 해서, 많이 시행해본 후, Coherance value 가 가장 높은 것을 선택한다.\n",
    "- 높은 Coherance Value 를 가지는 k를 선택하는 것은 유의미하고, 세부적인 토픽을 할당할 수 있게끔 한다.\n",
    "- 여러개의 토픽에 키워드가 많이 중첩되면, 이것은 k를 너무 높게 할당했다는 신호가 될 수 있다.\n",
    "- compute_coherence_values라는 메소드는 다수의 LDA 모델에 대한 Coherance value 를 알려준다."
   ]
  },
  {
   "cell_type": "code",
   "execution_count": 33,
   "metadata": {
    "collapsed": true
   },
   "outputs": [],
   "source": [
    "def compute_coherence_values(dictionary, corpus, texts, limit, start=2, step=3):\n",
    "    \"\"\"\n",
    "    Compute c_v coherence for various number of topics\n",
    "\n",
    "    Parameters:\n",
    "    ----------\n",
    "    dictionary : Gensim dictionary\n",
    "    corpus : Gensim corpus\n",
    "    texts : List of input texts\n",
    "    limit : Max num of topics\n",
    "\n",
    "    Returns:\n",
    "    -------\n",
    "    model_list : List of LDA topic models\n",
    "    coherence_values : Coherence values corresponding to the LDA model with respective number of topics\n",
    "    \"\"\"\n",
    "    coherence_values = []\n",
    "    model_list = []\n",
    "    for num_topics in range(start, limit, step):\n",
    "        model = gensim.models.wrappers.LdaMallet(mallet_path, corpus=corpus, num_topics=num_topics, id2word=id2word)\n",
    "        model_list.append(model)\n",
    "        coherencemodel = CoherenceModel(model=model, texts=texts, dictionary=dictionary, coherence='c_v')\n",
    "        coherence_values.append(coherencemodel.get_coherence())\n",
    "\n",
    "    return model_list, coherence_values"
   ]
  },
  {
   "cell_type": "code",
   "execution_count": 34,
   "metadata": {
    "collapsed": true
   },
   "outputs": [],
   "source": [
    "# Can take a long time to run.\n",
    "model_list, coherence_values = compute_coherence_values(dictionary=id2word, corpus=corpus, texts=data_lemmatized, start=2, limit=40, step=6)"
   ]
  },
  {
   "cell_type": "code",
   "execution_count": 35,
   "metadata": {},
   "outputs": [
    {
     "data": {
      "image/png": "[encoded data removed]",
      "text/plain": [
       "<matplotlib.figure.Figure at 0x7f70d60afef0>"
      ]
     },
     "metadata": {},
     "output_type": "display_data"
    }
   ],
   "source": [
    "# Show graph\n",
    "limit=40; start=2; step=6;\n",
    "x = range(start, limit, step)\n",
    "plt.plot(x, coherence_values)\n",
    "plt.xlabel(\"Num Topics\")\n",
    "plt.ylabel(\"Coherence score\")\n",
    "plt.legend((\"coherence_values\"), loc='best')\n",
    "plt.show()"
   ]
  },
  {
   "cell_type": "code",
   "execution_count": 36,
   "metadata": {},
   "outputs": [
    {
     "name": "stdout",
     "output_type": "stream",
     "text": [
      "Num Topics = 2  has Coherence Value of 0.3932\n",
      "Num Topics = 8  has Coherence Value of 0.4377\n",
      "Num Topics = 14  has Coherence Value of 0.431\n",
      "Num Topics = 20  has Coherence Value of 0.4168\n",
      "Num Topics = 26  has Coherence Value of 0.4578\n",
      "Num Topics = 32  has Coherence Value of 0.4338\n",
      "Num Topics = 38  has Coherence Value of 0.4356\n"
     ]
    }
   ],
   "source": [
    "# Print the coherence scores\n",
    "for m, cv in zip(x, coherence_values):\n",
    "    print(\"Num Topics =\", m, \" has Coherence Value of\", round(cv, 4))"
   ]
  },
  {
   "cell_type": "markdown",
   "metadata": {},
   "source": [
    "# 토픽이 26개일 때,  coherance value 가 maximized 된다."
   ]
  },
  {
   "cell_type": "markdown",
   "metadata": {},
   "source": [
    "#### 해당 문장에서 지배적인 토픽을 찾기\n",
    "- 토픽 모델링의 주요 활용점은 해당 문서의 토픽이 무엇이냐에 관한 것이다.\n",
    "- 이를 알아내기 위해서는 해당 문서에서 가장 기여를 많이 한, 즉 중요도가 가장 높은 토픽의 넘버를 찾아야 한다.\n",
    "- format_topics_sentences() 메소드는 보여지는 테이블로 훌륭하게 정보를 병합해준다."
   ]
  },
  {
   "cell_type": "code",
   "execution_count": 24,
   "metadata": {},
   "outputs": [
    {
     "data": {
      "text/html": [
       "<div>\n",
       "<style>\n",
       "    .dataframe thead tr:only-child th {\n",
       "        text-align: right;\n",
       "    }\n",
       "\n",
       "    .dataframe thead th {\n",
       "        text-align: left;\n",
       "    }\n",
       "\n",
       "    .dataframe tbody tr th {\n",
       "        vertical-align: top;\n",
       "    }\n",
       "</style>\n",
       "<table border=\"1\" class=\"dataframe\">\n",
       "  <thead>\n",
       "    <tr style=\"text-align: right;\">\n",
       "      <th></th>\n",
       "      <th>Document_No</th>\n",
       "      <th>Dominant_Topic</th>\n",
       "      <th>Topic_Perc_Contrib</th>\n",
       "      <th>Keywords</th>\n",
       "      <th>Text</th>\n",
       "    </tr>\n",
       "  </thead>\n",
       "  <tbody>\n",
       "    <tr>\n",
       "      <th>0</th>\n",
       "      <td>0</td>\n",
       "      <td>4.0</td>\n",
       "      <td>0.2477</td>\n",
       "      <td>있습니다, 대한, 많은, 있는, 대해, 것을, 현재, 같은, 많이, 모든</td>\n",
       "      <td>넥시빗에서 이번에 이벤트 정말 크게 하네요이번 기회에 핸드폰 아이폰으로 바꿔야 겠어...</td>\n",
       "    </tr>\n",
       "    <tr>\n",
       "      <th>1</th>\n",
       "      <td>1</td>\n",
       "      <td>2.0</td>\n",
       "      <td>0.3830</td>\n",
       "      <td>암호화폐, 통해, 따르면, 암호화폐를, 거래소, 중국, 금융, 관련, 밝혔다, 있다고</td>\n",
       "      <td>안녕하세요 최고로 안전한 암호화폐 거래소 트래빗입니다11월 5일 암호화폐블록체인 시...</td>\n",
       "    </tr>\n",
       "    <tr>\n",
       "      <th>2</th>\n",
       "      <td>2</td>\n",
       "      <td>4.0</td>\n",
       "      <td>0.2561</td>\n",
       "      <td>있습니다, 대한, 많은, 있는, 대해, 것을, 현재, 같은, 많이, 모든</td>\n",
       "      <td>에어드랍받으려고 지난주 목요일인가 뮤지카 텔방 들어가있는데상장얘기는 계속나오는데 계...</td>\n",
       "    </tr>\n",
       "    <tr>\n",
       "      <th>3</th>\n",
       "      <td>3</td>\n",
       "      <td>1.0</td>\n",
       "      <td>0.3093</td>\n",
       "      <td>블록체인, 있는, 통해, 기술을, 기술, 다양한, 위해, 기반, 디지털, 모든</td>\n",
       "      <td>사이버 마일스CMT는 기존 100만명 이상의 회원이 등록되어 있는 5miles의 R...</td>\n",
       "    </tr>\n",
       "    <tr>\n",
       "      <th>4</th>\n",
       "      <td>4</td>\n",
       "      <td>4.0</td>\n",
       "      <td>0.2920</td>\n",
       "      <td>있습니다, 대한, 많은, 있는, 대해, 것을, 현재, 같은, 많이, 모든</td>\n",
       "      <td>저는 예상 되는곳 2곳에 이더 넣어놓고 홀더중이긴한데뮤지카 대기타시는 분들 대충 각...</td>\n",
       "    </tr>\n",
       "    <tr>\n",
       "      <th>5</th>\n",
       "      <td>5</td>\n",
       "      <td>4.0</td>\n",
       "      <td>0.3598</td>\n",
       "      <td>있습니다, 대한, 많은, 있는, 대해, 것을, 현재, 같은, 많이, 모든</td>\n",
       "      <td>◆ 심볼CMT◆ 유형C2C 전자상거래 플랫폼◆ 백서◆ 위치홍콩◆ 총 발행량10억개◆...</td>\n",
       "    </tr>\n",
       "    <tr>\n",
       "      <th>6</th>\n",
       "      <td>6</td>\n",
       "      <td>1.0</td>\n",
       "      <td>0.2619</td>\n",
       "      <td>블록체인, 있는, 통해, 기술을, 기술, 다양한, 위해, 기반, 디지털, 모든</td>\n",
       "      <td>요즘 여기저기서 이거 정보가 자주 보이더라고요 큐포라뷰티산업과 블록체인을 접목했다고...</td>\n",
       "    </tr>\n",
       "    <tr>\n",
       "      <th>7</th>\n",
       "      <td>7</td>\n",
       "      <td>4.0</td>\n",
       "      <td>0.3084</td>\n",
       "      <td>있습니다, 대한, 많은, 있는, 대해, 것을, 현재, 같은, 많이, 모든</td>\n",
       "      <td>레퍼럴 없는 순수 소개입니다약 3만원 가량의 코인을 획득가능해요세계최초 블록체인기반...</td>\n",
       "    </tr>\n",
       "    <tr>\n",
       "      <th>8</th>\n",
       "      <td>8</td>\n",
       "      <td>4.0</td>\n",
       "      <td>0.2203</td>\n",
       "      <td>있습니다, 대한, 많은, 있는, 대해, 것을, 현재, 같은, 많이, 모든</td>\n",
       "      <td>Benepit을 만나기 위해나는 그토록 힘들게 버티며힘든 전장에 뛰어들었나보다너만 믿는다</td>\n",
       "    </tr>\n",
       "    <tr>\n",
       "      <th>9</th>\n",
       "      <td>9</td>\n",
       "      <td>0.0</td>\n",
       "      <td>0.2320</td>\n",
       "      <td>비트코인, 가상화폐, 비트코인을, 가격이, 비트코인은, 현재, 지난, 비트코인이, ...</td>\n",
       "      <td>존버하려다가 빠르게 매도했는데키야 딱 2주만에 박살나는거 보고소름 돋더라요ㅎㅎ</td>\n",
       "    </tr>\n",
       "  </tbody>\n",
       "</table>\n",
       "</div>"
      ],
      "text/plain": [
       "   Document_No  Dominant_Topic  Topic_Perc_Contrib  \\\n",
       "0            0             4.0              0.2477   \n",
       "1            1             2.0              0.3830   \n",
       "2            2             4.0              0.2561   \n",
       "3            3             1.0              0.3093   \n",
       "4            4             4.0              0.2920   \n",
       "5            5             4.0              0.3598   \n",
       "6            6             1.0              0.2619   \n",
       "7            7             4.0              0.3084   \n",
       "8            8             4.0              0.2203   \n",
       "9            9             0.0              0.2320   \n",
       "\n",
       "                                            Keywords  \\\n",
       "0           있습니다, 대한, 많은, 있는, 대해, 것을, 현재, 같은, 많이, 모든   \n",
       "1    암호화폐, 통해, 따르면, 암호화폐를, 거래소, 중국, 금융, 관련, 밝혔다, 있다고   \n",
       "2           있습니다, 대한, 많은, 있는, 대해, 것을, 현재, 같은, 많이, 모든   \n",
       "3        블록체인, 있는, 통해, 기술을, 기술, 다양한, 위해, 기반, 디지털, 모든   \n",
       "4           있습니다, 대한, 많은, 있는, 대해, 것을, 현재, 같은, 많이, 모든   \n",
       "5           있습니다, 대한, 많은, 있는, 대해, 것을, 현재, 같은, 많이, 모든   \n",
       "6        블록체인, 있는, 통해, 기술을, 기술, 다양한, 위해, 기반, 디지털, 모든   \n",
       "7           있습니다, 대한, 많은, 있는, 대해, 것을, 현재, 같은, 많이, 모든   \n",
       "8           있습니다, 대한, 많은, 있는, 대해, 것을, 현재, 같은, 많이, 모든   \n",
       "9  비트코인, 가상화폐, 비트코인을, 가격이, 비트코인은, 현재, 지난, 비트코인이, ...   \n",
       "\n",
       "                                                Text  \n",
       "0  넥시빗에서 이번에 이벤트 정말 크게 하네요이번 기회에 핸드폰 아이폰으로 바꿔야 겠어...  \n",
       "1  안녕하세요 최고로 안전한 암호화폐 거래소 트래빗입니다11월 5일 암호화폐블록체인 시...  \n",
       "2  에어드랍받으려고 지난주 목요일인가 뮤지카 텔방 들어가있는데상장얘기는 계속나오는데 계...  \n",
       "3  사이버 마일스CMT는 기존 100만명 이상의 회원이 등록되어 있는 5miles의 R...  \n",
       "4  저는 예상 되는곳 2곳에 이더 넣어놓고 홀더중이긴한데뮤지카 대기타시는 분들 대충 각...  \n",
       "5  ◆ 심볼CMT◆ 유형C2C 전자상거래 플랫폼◆ 백서◆ 위치홍콩◆ 총 발행량10억개◆...  \n",
       "6  요즘 여기저기서 이거 정보가 자주 보이더라고요 큐포라뷰티산업과 블록체인을 접목했다고...  \n",
       "7  레퍼럴 없는 순수 소개입니다약 3만원 가량의 코인을 획득가능해요세계최초 블록체인기반...  \n",
       "8  Benepit을 만나기 위해나는 그토록 힘들게 버티며힘든 전장에 뛰어들었나보다너만 믿는다  \n",
       "9        존버하려다가 빠르게 매도했는데키야 딱 2주만에 박살나는거 보고소름 돋더라요ㅎㅎ  "
      ]
     },
     "execution_count": 24,
     "metadata": {},
     "output_type": "execute_result"
    }
   ],
   "source": [
    "def format_topics_sentences(ldamodel=lda_model, corpus=corpus, texts=data):\n",
    "    # Init output\n",
    "    sent_topics_df = pd.DataFrame()\n",
    "\n",
    "    # Get main topic in each document\n",
    "    for i, row in enumerate(ldamodel[corpus]):\n",
    "        row = sorted(row, key=lambda x: (x[1]), reverse=True)\n",
    "        # Get the Dominant topic, Perc Contribution and Keywords for each document\n",
    "        for j, (topic_num, prop_topic) in enumerate(row):\n",
    "            if j == 0:  # => dominant topic\n",
    "                wp = ldamodel.show_topic(topic_num)\n",
    "                topic_keywords = \", \".join([word for word, prop in wp])\n",
    "                sent_topics_df = sent_topics_df.append(pd.Series([int(topic_num), round(prop_topic,4), topic_keywords]), ignore_index=True)\n",
    "            else:\n",
    "                break\n",
    "    sent_topics_df.columns = ['Dominant_Topic', 'Perc_Contribution', 'Topic_Keywords']\n",
    "\n",
    "    # Add original text to the end of the output\n",
    "    contents = pd.Series(texts)\n",
    "    sent_topics_df = pd.concat([sent_topics_df, contents], axis=1)\n",
    "    return(sent_topics_df)\n",
    "\n",
    "\n",
    "df_topic_sents_keywords = format_topics_sentences(ldamodel=ldamallet , corpus=corpus, texts=data)\n",
    "\n",
    "#ldamallet 파라미터를 optimal_params 로 바꿔주는 시퀀스로 업데이트할 것!\n",
    "\n",
    "# Format\n",
    "df_dominant_topic = df_topic_sents_keywords.reset_index()\n",
    "df_dominant_topic.columns = ['Document_No', 'Dominant_Topic', 'Topic_Perc_Contrib', 'Keywords', 'Text']\n",
    "\n",
    "# Show\n",
    "df_dominant_topic.head(10)"
   ]
  },
  {
   "cell_type": "markdown",
   "metadata": {},
   "source": [
    "________________"
   ]
  },
  {
   "cell_type": "markdown",
   "metadata": {},
   "source": [
    "#### 각각의 토픽을 대표하는 문서찾기\n",
    "- 가끔 토픽 키워드(단어)는 단지 토픽들을 구성하는 것에 그치지 않는 경우가 있다.\n",
    "- 토픽을 이해하는 것을 넘어서, 토픽을 형성하는데 가장 많은 기여를 한 문서를 찾아낼 수도 있다."
   ]
  },
  {
   "cell_type": "code",
   "execution_count": 31,
   "metadata": {},
   "outputs": [
    {
     "data": {
      "text/html": [
       "<div>\n",
       "<style>\n",
       "    .dataframe thead tr:only-child th {\n",
       "        text-align: right;\n",
       "    }\n",
       "\n",
       "    .dataframe thead th {\n",
       "        text-align: left;\n",
       "    }\n",
       "\n",
       "    .dataframe tbody tr th {\n",
       "        vertical-align: top;\n",
       "    }\n",
       "</style>\n",
       "<table border=\"1\" class=\"dataframe\">\n",
       "  <thead>\n",
       "    <tr style=\"text-align: right;\">\n",
       "      <th></th>\n",
       "      <th>Topic_Num</th>\n",
       "      <th>Topic_Perc_Contrib</th>\n",
       "      <th>Keywords</th>\n",
       "      <th>Text</th>\n",
       "    </tr>\n",
       "  </thead>\n",
       "  <tbody>\n",
       "    <tr>\n",
       "      <th>0</th>\n",
       "      <td>0.0</td>\n",
       "      <td>0.8289</td>\n",
       "      <td>비트코인, 가상화폐, 비트코인을, 가격이, 비트코인은, 현재, 지난, 비트코인이, ...</td>\n",
       "      <td>글로벌 비트코인 가격이 이틀째 8400달러한화 약 908만8800원선을 횡보했다 해...</td>\n",
       "    </tr>\n",
       "    <tr>\n",
       "      <th>1</th>\n",
       "      <td>1.0</td>\n",
       "      <td>0.7465</td>\n",
       "      <td>블록체인, 있는, 통해, 기술을, 기술, 다양한, 위해, 기반, 디지털, 모든</td>\n",
       "      <td>과학기술정보통신부와 한국인터넷진흥원KISA은 블록체인 우수 활용사례 발굴을 위한 시...</td>\n",
       "    </tr>\n",
       "    <tr>\n",
       "      <th>2</th>\n",
       "      <td>2.0</td>\n",
       "      <td>0.6312</td>\n",
       "      <td>암호화폐, 통해, 따르면, 암호화폐를, 거래소, 중국, 금융, 관련, 밝혔다, 있다고</td>\n",
       "      <td>헤지펀드의 귀재 조지 소로스의 예언이 적중하고 있다최근 암호화폐가상화폐 회사에 투자...</td>\n",
       "    </tr>\n",
       "    <tr>\n",
       "      <th>3</th>\n",
       "      <td>3.0</td>\n",
       "      <td>0.7721</td>\n",
       "      <td>가상화폐, 대한, 거래소, 있는, 관련, 국내, 대해, 가상통화, 정부가, 경우</td>\n",
       "      <td>정부가 13일 가상통화 투기과열과 가상통화를 이용한 범죄행위를 막기 위해 긴급대책을...</td>\n",
       "    </tr>\n",
       "    <tr>\n",
       "      <th>4</th>\n",
       "      <td>4.0</td>\n",
       "      <td>0.9662</td>\n",
       "      <td>있습니다, 대한, 많은, 있는, 대해, 것을, 현재, 같은, 많이, 모든</td>\n",
       "      <td>시간이 되는데로 핵심 내용을 번역하겠습니다Hudson Vitalik whats yo...</td>\n",
       "    </tr>\n",
       "  </tbody>\n",
       "</table>\n",
       "</div>"
      ],
      "text/plain": [
       "   Topic_Num  Topic_Perc_Contrib  \\\n",
       "0        0.0              0.8289   \n",
       "1        1.0              0.7465   \n",
       "2        2.0              0.6312   \n",
       "3        3.0              0.7721   \n",
       "4        4.0              0.9662   \n",
       "\n",
       "                                            Keywords  \\\n",
       "0  비트코인, 가상화폐, 비트코인을, 가격이, 비트코인은, 현재, 지난, 비트코인이, ...   \n",
       "1        블록체인, 있는, 통해, 기술을, 기술, 다양한, 위해, 기반, 디지털, 모든   \n",
       "2    암호화폐, 통해, 따르면, 암호화폐를, 거래소, 중국, 금융, 관련, 밝혔다, 있다고   \n",
       "3       가상화폐, 대한, 거래소, 있는, 관련, 국내, 대해, 가상통화, 정부가, 경우   \n",
       "4           있습니다, 대한, 많은, 있는, 대해, 것을, 현재, 같은, 많이, 모든   \n",
       "\n",
       "                                                Text  \n",
       "0  글로벌 비트코인 가격이 이틀째 8400달러한화 약 908만8800원선을 횡보했다 해...  \n",
       "1  과학기술정보통신부와 한국인터넷진흥원KISA은 블록체인 우수 활용사례 발굴을 위한 시...  \n",
       "2  헤지펀드의 귀재 조지 소로스의 예언이 적중하고 있다최근 암호화폐가상화폐 회사에 투자...  \n",
       "3  정부가 13일 가상통화 투기과열과 가상통화를 이용한 범죄행위를 막기 위해 긴급대책을...  \n",
       "4  시간이 되는데로 핵심 내용을 번역하겠습니다Hudson Vitalik whats yo...  "
      ]
     },
     "execution_count": 31,
     "metadata": {},
     "output_type": "execute_result"
    }
   ],
   "source": [
    "# Group top 5 sentences under each topic\n",
    "sent_topics_sorteddf_mallet = pd.DataFrame()\n",
    "\n",
    "sent_topics_outdf_grpd = df_topic_sents_keywords.groupby('Dominant_Topic')\n",
    "\n",
    "for i, grp in sent_topics_outdf_grpd:\n",
    "    sent_topics_sorteddf_mallet = pd.concat([sent_topics_sorteddf_mallet, \n",
    "                                             grp.sort_values(['Perc_Contribution'], ascending=[0]).head(1)], \n",
    "                                            axis=0)\n",
    "\n",
    "# Reset Index    \n",
    "sent_topics_sorteddf_mallet.reset_index(drop=True, inplace=True)\n",
    "\n",
    "# Format\n",
    "sent_topics_sorteddf_mallet.columns = ['Topic_Num', \"Topic_Perc_Contrib\", \"Keywords\", \"Text\"]\n",
    "\n",
    "# Show\n",
    "sent_topics_sorteddf_mallet.head()"
   ]
  },
  {
   "cell_type": "markdown",
   "metadata": {},
   "source": [
    "#### 문서를 넘어선 토픽 분배\n",
    "- 마지막으로 우리는 해당 정보에서 어떤 것들이 가장 많이 거론되었는지를 토픽의 크기(volume)과 분포(distribution)로 이해할 수 있게 된다."
   ]
  },
  {
   "cell_type": "code",
   "execution_count": 32,
   "metadata": {},
   "outputs": [
    {
     "data": {
      "text/html": [
       "<div>\n",
       "<style>\n",
       "    .dataframe thead tr:only-child th {\n",
       "        text-align: right;\n",
       "    }\n",
       "\n",
       "    .dataframe thead th {\n",
       "        text-align: left;\n",
       "    }\n",
       "\n",
       "    .dataframe tbody tr th {\n",
       "        vertical-align: top;\n",
       "    }\n",
       "</style>\n",
       "<table border=\"1\" class=\"dataframe\">\n",
       "  <thead>\n",
       "    <tr style=\"text-align: right;\">\n",
       "      <th></th>\n",
       "      <th>Dominant_Topic</th>\n",
       "      <th>Topic_Keywords</th>\n",
       "      <th>Num_Documents</th>\n",
       "      <th>Perc_Documents</th>\n",
       "    </tr>\n",
       "  </thead>\n",
       "  <tbody>\n",
       "    <tr>\n",
       "      <th>0</th>\n",
       "      <td>4.0</td>\n",
       "      <td>있습니다, 대한, 많은, 있는, 대해, 것을, 현재, 같은, 많이, 모든</td>\n",
       "      <td>2245.0</td>\n",
       "      <td>0.2439</td>\n",
       "    </tr>\n",
       "    <tr>\n",
       "      <th>1</th>\n",
       "      <td>2.0</td>\n",
       "      <td>암호화폐, 통해, 따르면, 암호화폐를, 거래소, 중국, 금융, 관련, 밝혔다, 있다고</td>\n",
       "      <td>1499.0</td>\n",
       "      <td>0.1629</td>\n",
       "    </tr>\n",
       "    <tr>\n",
       "      <th>2</th>\n",
       "      <td>4.0</td>\n",
       "      <td>있습니다, 대한, 많은, 있는, 대해, 것을, 현재, 같은, 많이, 모든</td>\n",
       "      <td>1651.0</td>\n",
       "      <td>0.1794</td>\n",
       "    </tr>\n",
       "    <tr>\n",
       "      <th>3</th>\n",
       "      <td>1.0</td>\n",
       "      <td>블록체인, 있는, 통해, 기술을, 기술, 다양한, 위해, 기반, 디지털, 모든</td>\n",
       "      <td>1213.0</td>\n",
       "      <td>0.1318</td>\n",
       "    </tr>\n",
       "    <tr>\n",
       "      <th>4</th>\n",
       "      <td>4.0</td>\n",
       "      <td>있습니다, 대한, 많은, 있는, 대해, 것을, 현재, 같은, 많이, 모든</td>\n",
       "      <td>2595.0</td>\n",
       "      <td>0.2820</td>\n",
       "    </tr>\n",
       "    <tr>\n",
       "      <th>5</th>\n",
       "      <td>4.0</td>\n",
       "      <td>있습니다, 대한, 많은, 있는, 대해, 것을, 현재, 같은, 많이, 모든</td>\n",
       "      <td>NaN</td>\n",
       "      <td>NaN</td>\n",
       "    </tr>\n",
       "    <tr>\n",
       "      <th>6</th>\n",
       "      <td>1.0</td>\n",
       "      <td>블록체인, 있는, 통해, 기술을, 기술, 다양한, 위해, 기반, 디지털, 모든</td>\n",
       "      <td>NaN</td>\n",
       "      <td>NaN</td>\n",
       "    </tr>\n",
       "    <tr>\n",
       "      <th>7</th>\n",
       "      <td>4.0</td>\n",
       "      <td>있습니다, 대한, 많은, 있는, 대해, 것을, 현재, 같은, 많이, 모든</td>\n",
       "      <td>NaN</td>\n",
       "      <td>NaN</td>\n",
       "    </tr>\n",
       "    <tr>\n",
       "      <th>8</th>\n",
       "      <td>4.0</td>\n",
       "      <td>있습니다, 대한, 많은, 있는, 대해, 것을, 현재, 같은, 많이, 모든</td>\n",
       "      <td>NaN</td>\n",
       "      <td>NaN</td>\n",
       "    </tr>\n",
       "    <tr>\n",
       "      <th>9</th>\n",
       "      <td>0.0</td>\n",
       "      <td>비트코인, 가상화폐, 비트코인을, 가격이, 비트코인은, 현재, 지난, 비트코인이, ...</td>\n",
       "      <td>NaN</td>\n",
       "      <td>NaN</td>\n",
       "    </tr>\n",
       "  </tbody>\n",
       "</table>\n",
       "</div>"
      ],
      "text/plain": [
       "   Dominant_Topic                                     Topic_Keywords  \\\n",
       "0             4.0           있습니다, 대한, 많은, 있는, 대해, 것을, 현재, 같은, 많이, 모든   \n",
       "1             2.0    암호화폐, 통해, 따르면, 암호화폐를, 거래소, 중국, 금융, 관련, 밝혔다, 있다고   \n",
       "2             4.0           있습니다, 대한, 많은, 있는, 대해, 것을, 현재, 같은, 많이, 모든   \n",
       "3             1.0        블록체인, 있는, 통해, 기술을, 기술, 다양한, 위해, 기반, 디지털, 모든   \n",
       "4             4.0           있습니다, 대한, 많은, 있는, 대해, 것을, 현재, 같은, 많이, 모든   \n",
       "5             4.0           있습니다, 대한, 많은, 있는, 대해, 것을, 현재, 같은, 많이, 모든   \n",
       "6             1.0        블록체인, 있는, 통해, 기술을, 기술, 다양한, 위해, 기반, 디지털, 모든   \n",
       "7             4.0           있습니다, 대한, 많은, 있는, 대해, 것을, 현재, 같은, 많이, 모든   \n",
       "8             4.0           있습니다, 대한, 많은, 있는, 대해, 것을, 현재, 같은, 많이, 모든   \n",
       "9             0.0  비트코인, 가상화폐, 비트코인을, 가격이, 비트코인은, 현재, 지난, 비트코인이, ...   \n",
       "\n",
       "   Num_Documents  Perc_Documents  \n",
       "0         2245.0          0.2439  \n",
       "1         1499.0          0.1629  \n",
       "2         1651.0          0.1794  \n",
       "3         1213.0          0.1318  \n",
       "4         2595.0          0.2820  \n",
       "5            NaN             NaN  \n",
       "6            NaN             NaN  \n",
       "7            NaN             NaN  \n",
       "8            NaN             NaN  \n",
       "9            NaN             NaN  "
      ]
     },
     "execution_count": 32,
     "metadata": {},
     "output_type": "execute_result"
    }
   ],
   "source": [
    "# Number of Documents for Each Topic\n",
    "topic_counts = df_topic_sents_keywords['Dominant_Topic'].value_counts()\n",
    "\n",
    "# Percentage of Documents for Each Topic\n",
    "topic_contribution = round(topic_counts/topic_counts.sum(), 4)\n",
    "\n",
    "# Topic Number and Keywords\n",
    "topic_num_keywords = df_topic_sents_keywords[['Dominant_Topic', 'Topic_Keywords']]\n",
    "\n",
    "# Concatenate Column wise\n",
    "df_dominant_topics = pd.concat([topic_num_keywords, topic_counts, topic_contribution], axis=1)\n",
    "\n",
    "# Change Column names\n",
    "df_dominant_topics.columns = ['Dominant_Topic', 'Topic_Keywords', 'Num_Documents', 'Perc_Documents']\n",
    "\n",
    "# Show\n",
    "df_dominant_topics.iloc[:10]"
   ]
  }
 ],
 "metadata": {
  "kernelspec": {
   "display_name": "Python 3",
   "language": "python",
   "name": "python3"
  },
  "language_info": {
   "codemirror_mode": {
    "name": "ipython",
    "version": 3
   },
   "file_extension": ".py",
   "mimetype": "text/x-python",
   "name": "python",
   "nbconvert_exporter": "python",
   "pygments_lexer": "ipython3",
   "version": "3.6.3"
  }
 },
 "nbformat": 4,
 "nbformat_minor": 2
}
