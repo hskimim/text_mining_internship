{
 "cells": [
  {
   "cell_type": "code",
   "execution_count": 2,
   "metadata": {
    "collapsed": true
   },
   "outputs": [],
   "source": [
    "from selenium import webdriver\n",
    "import pandas as pd\n",
    "import re\n",
    "import requests\n",
    "from bs4 import BeautifulSoup\n",
    "import time\n",
    "from scrapy.http import TextResponse"
   ]
  },
  {
   "cell_type": "markdown",
   "metadata": {},
   "source": [
    "# scrapy + selenium ( not optimal)"
   ]
  },
  {
   "cell_type": "markdown",
   "metadata": {},
   "source": [
    "## scrapy 를 통해서 link , title , click , time 을 가져오는 코드"
   ]
  },
  {
   "cell_type": "code",
   "execution_count": null,
   "metadata": {
    "collapsed": true
   },
   "outputs": [],
   "source": [
    "title_ls = []\n",
    "clicked_ls = []\n",
    "time_ls = []\n",
    "link_ls = []\n",
    "\n",
    "for page in range(1,100+1):\n",
    "    if page % 10 == 0 : time.sleep(1)\n",
    "    url = 'https://www.ddengle.com/index.php?mid=board_all&page={}'.format(page)\n",
    "    driver.set_window_size(5000, 5000)\n",
    "    driver.get(url)\n",
    "    for i in range(1,20+1):\n",
    "        try : \n",
    "            driver.execute_script('window.scrollTo(100,{})'.format(100))\n",
    "            title_ls.append(\\\n",
    "                driver.find_element_by_css_selector(\\\n",
    "            '#bd_1598876_0 > div.bd_lst_wrp > table > tbody > tr:nth-child({}) > td.title > a'.format(i)).text)\n",
    "\n",
    "            clicked_ls.append(\\\n",
    "            driver.find_element_by_css_selector(\\\n",
    "            '#bd_1598876_0 > div.bd_lst_wrp > table > tbody > tr:nth-child({}) > td:nth-child(4)'.format(i)).text)\n",
    "\n",
    "            time_ls.append(\\\n",
    "                          driver.find_element_by_css_selector(\\\n",
    "            '#bd_1598876_0 > div.bd_lst_wrp > table > tbody > tr:nth-child({}) > td.time'.format(i)).text)\n",
    "\n",
    "            link_ls.append(\\\n",
    "            driver.find_element_by_css_selector(\\\n",
    "            '#bd_1598876_0 > div.bd_lst_wrp > table > tbody > tr:nth-child({}) > td.title > a'.format(i)).get_attribute('href')        )\n",
    "        except : print('pass')\n"
   ]
  },
  {
   "cell_type": "markdown",
   "metadata": {},
   "source": [
    "### Link 만 가져오는 코드"
   ]
  },
  {
   "cell_type": "code",
   "execution_count": 169,
   "metadata": {
    "scrolled": true
   },
   "outputs": [
    {
     "name": "stdout",
     "output_type": "stream",
     "text": [
      "0\n",
      "500\n",
      "1000\n",
      "1500\n",
      "CPU times: user 1min 30s, sys: 1.71 s, total: 1min 31s\n",
      "Wall time: 19min 21s\n"
     ]
    }
   ],
   "source": [
    "%%time\n",
    "content_ls = []\n",
    "for idx in range(len(df1)):\n",
    "    if idx % 500 ==0 : print(idx)\n",
    "    req = requests.get(df1['link'].values[idx])\n",
    "    response = TextResponse(req.url, body=req.text, encoding='utf-8')\n",
    "    process_ls = ','.join(response.xpath('//*[@id=\"zema9_body\"]/article/div/p/text()').extract()).replace('\\xa0','').replace(',','')\n",
    "    try : start_idx = re.search('-{30,}',process_ls).start()\n",
    "    except : start_idx = len(process_ls) + 1\n",
    "    content_ls.append(process_ls[:start_idx])"
   ]
  },
  {
   "cell_type": "code",
   "execution_count": 173,
   "metadata": {
    "collapsed": true
   },
   "outputs": [],
   "source": [
    "df2 = pd.DataFrame()\n",
    "\n",
    "df2['title'] = title_ls\n",
    "df2['time'] = time_ls\n",
    "df2['click'] = clicked_ls\n",
    "df2['link'] = content_ls"
   ]
  },
  {
   "cell_type": "code",
   "execution_count": 174,
   "metadata": {
    "collapsed": true
   },
   "outputs": [],
   "source": [
    "df1.to_csv('link.csv',index=False)\n",
    "df2.to_csv('content_1999.csv',index=False)"
   ]
  },
  {
   "cell_type": "code",
   "execution_count": null,
   "metadata": {
    "collapsed": true
   },
   "outputs": [],
   "source": [
    "df2"
   ]
  },
  {
   "cell_type": "markdown",
   "metadata": {},
   "source": [
    "# lastest vers of function ( Maybe it is optimal)"
   ]
  },
  {
   "cell_type": "code",
   "execution_count": 1,
   "metadata": {
    "collapsed": true
   },
   "outputs": [],
   "source": [
    "from selenium import webdriver\n",
    "import pandas as pd\n",
    "import re\n",
    "import requests\n",
    "from bs4 import BeautifulSoup\n",
    "import time\n",
    "from scrapy.http import TextResponse"
   ]
  },
  {
   "cell_type": "code",
   "execution_count": null,
   "metadata": {
    "scrolled": true
   },
   "outputs": [
    {
     "name": "stdout",
     "output_type": "stream",
     "text": [
      "pass\n",
      "100 page is over.\n",
      "pass\n",
      "pass\n",
      "200 page is over.\n",
      "pass\n",
      "300 page is over.\n",
      "pass\n",
      "pass\n",
      "400 page is over.\n",
      "pass\n",
      "500 page is over.\n",
      "600 page is over.\n",
      "700 page is over.\n",
      "800 page is over.\n",
      "900 page is over.\n",
      "1000 page is over.\n",
      "1100 page is over.\n",
      "1200 page is over.\n",
      "1300 page is over.\n",
      "1400 page is over.\n",
      "1500 page is over.\n",
      "1600 page is over.\n",
      "1700 page is over.\n",
      "1800 page is over.\n",
      "pass\n",
      "pass\n",
      "1900 page is over.\n",
      "2000 page is over.\n",
      "2100 page is over.\n",
      "2200 page is over.\n",
      "2300 page is over.\n",
      "2400 page is over.\n",
      "2500 page is over.\n",
      "2600 page is over.\n",
      "2700 page is over.\n",
      "2800 page is over.\n",
      "2900 page is over.\n",
      "3000 page is over.\n",
      "3100 page is over.\n",
      "3200 page is over.\n",
      "pass\n",
      "3300 page is over.\n",
      "3400 page is over.\n",
      "3500 page is over.\n",
      "3600 page is over.\n",
      "3700 page is over.\n",
      "pass\n",
      "3800 page is over.\n",
      "3900 page is over.\n",
      "4000 page is over.\n",
      "4100 page is over.\n",
      "pass\n",
      "4200 page is over.\n",
      "4300 page is over.\n",
      "4400 page is over.\n",
      "4500 page is over.\n",
      "4600 page is over.\n",
      "4700 page is over.\n",
      "4800 page is over.\n"
     ]
    }
   ],
   "source": [
    "%%time\n",
    "title_ls = []\n",
    "clicked_ls = []\n",
    "time_ls = []\n",
    "link_ls = []\n",
    "\n",
    "for page in range(1,5490+1):\n",
    "    if page % 100 ==0 : print('{} page is over.'.format(page))\n",
    "    url = 'https://www.ddengle.com/index.php?mid=board_all&page={}'.format(page)\n",
    "    req = requests.get(url)\n",
    "    response = TextResponse(req.url, body=req.text, encoding='utf-8')\n",
    "    for content in range(1,20+1):\n",
    "        try : \n",
    "            title_ls.append(response.xpath('//*[@id=\"bd_1598876_0\"]/div[2]/table/tbody/tr[{}]/td[2]/a/text()'.format(content)).extract()[0])\n",
    "            clicked_ls.append(response.xpath('//*[@id=\"bd_1598876_0\"]/div[2]/table/tbody/tr[{}]/td[4]/text()'.format(content)).extract()[0])\n",
    "            time_ls.append(response.xpath('//*[@id=\"bd_1598876_0\"]/div[2]/table/tbody/tr[{}]/td[6]/text()'.format(content)).extract()[0])\n",
    "            link_ls.append(response.xpath('//*[@id=\"bd_1598876_0\"]/div[2]/table/tbody/tr[{}]/td[2]/a/@href'.format(content)).extract()[0])\n",
    "        except : print('pass')"
   ]
  },
  {
   "cell_type": "code",
   "execution_count": null,
   "metadata": {
    "collapsed": true
   },
   "outputs": [],
   "source": [
    "df3 = pd.DataFrame()\n",
    "\n",
    "df3['title'] = title_ls\n",
    "df3['time'] = time_ls\n",
    "df3['click'] = clicked_ls\n",
    "df3['link'] = link_ls\n",
    "df3.tail()"
   ]
  },
  {
   "cell_type": "code",
   "execution_count": 2,
   "metadata": {},
   "outputs": [
    {
     "ename": "NameError",
     "evalue": "name 'df3' is not defined",
     "output_type": "error",
     "traceback": [
      "\u001b[0;31m---------------------------------------------------------------------------\u001b[0m",
      "\u001b[0;31mNameError\u001b[0m                                 Traceback (most recent call last)",
      "\u001b[0;32m<ipython-input-2-e193af747ca5>\u001b[0m in \u001b[0;36m<module>\u001b[0;34m()\u001b[0m\n\u001b[0;32m----> 1\u001b[0;31m \u001b[0mdf3\u001b[0m\u001b[0;34m.\u001b[0m\u001b[0mto_csv\u001b[0m\u001b[0;34m(\u001b[0m\u001b[0;34m'link.csv'\u001b[0m\u001b[0;34m,\u001b[0m\u001b[0mindex\u001b[0m\u001b[0;34m=\u001b[0m\u001b[0;32mFalse\u001b[0m\u001b[0;34m)\u001b[0m\u001b[0;34m\u001b[0m\u001b[0m\n\u001b[0m",
      "\u001b[0;31mNameError\u001b[0m: name 'df3' is not defined"
     ]
    }
   ],
   "source": [
    "df3.to_csv('link.csv',index=False)"
   ]
  },
  {
   "cell_type": "code",
   "execution_count": 3,
   "metadata": {},
   "outputs": [
    {
     "data": {
      "text/html": [
       "<div>\n",
       "<style>\n",
       "    .dataframe thead tr:only-child th {\n",
       "        text-align: right;\n",
       "    }\n",
       "\n",
       "    .dataframe thead th {\n",
       "        text-align: left;\n",
       "    }\n",
       "\n",
       "    .dataframe tbody tr th {\n",
       "        vertical-align: top;\n",
       "    }\n",
       "</style>\n",
       "<table border=\"1\" class=\"dataframe\">\n",
       "  <thead>\n",
       "    <tr style=\"text-align: right;\">\n",
       "      <th></th>\n",
       "      <th>title</th>\n",
       "      <th>time</th>\n",
       "      <th>click</th>\n",
       "      <th>link</th>\n",
       "    </tr>\n",
       "  </thead>\n",
       "  <tbody>\n",
       "    <tr>\n",
       "      <th>109775</th>\n",
       "      <td>\\n현재 각 나라의 비트코인 거래소.</td>\n",
       "      <td>2013.11.04</td>\n",
       "      <td>5176</td>\n",
       "      <td>https://www.ddengle.com/index.php?mid=board_al...</td>\n",
       "    </tr>\n",
       "    <tr>\n",
       "      <th>109776</th>\n",
       "      <td>\\n비트코인 시작하기 - 비트코인 채굴하기</td>\n",
       "      <td>2013.11.04</td>\n",
       "      <td>19354</td>\n",
       "      <td>https://www.ddengle.com/index.php?mid=board_al...</td>\n",
       "    </tr>\n",
       "    <tr>\n",
       "      <th>109777</th>\n",
       "      <td>\\n제마나인 2014수능 보시는 분들 수능대박!!!</td>\n",
       "      <td>2013.11.04</td>\n",
       "      <td>8167</td>\n",
       "      <td>https://www.ddengle.com/index.php?mid=board_al...</td>\n",
       "    </tr>\n",
       "    <tr>\n",
       "      <th>109778</th>\n",
       "      <td>\\n땡글 사이트 사용방법</td>\n",
       "      <td>2013.11.04</td>\n",
       "      <td>8596</td>\n",
       "      <td>https://www.ddengle.com/index.php?mid=board_al...</td>\n",
       "    </tr>\n",
       "    <tr>\n",
       "      <th>109779</th>\n",
       "      <td>\\n비트코인 시작하기 - PC에 비트코인 지갑 설치하기</td>\n",
       "      <td>2013.11.04</td>\n",
       "      <td>18976</td>\n",
       "      <td>https://www.ddengle.com/index.php?mid=board_al...</td>\n",
       "    </tr>\n",
       "  </tbody>\n",
       "</table>\n",
       "</div>"
      ],
      "text/plain": [
       "                                  title        time  click  \\\n",
       "109775            \\n현재 각 나라의 비트코인 거래소.   2013.11.04   5176   \n",
       "109776         \\n비트코인 시작하기 - 비트코인 채굴하기   2013.11.04  19354   \n",
       "109777    \\n제마나인 2014수능 보시는 분들 수능대박!!!   2013.11.04   8167   \n",
       "109778                   \\n땡글 사이트 사용방법   2013.11.04   8596   \n",
       "109779  \\n비트코인 시작하기 - PC에 비트코인 지갑 설치하기   2013.11.04  18976   \n",
       "\n",
       "                                                     link  \n",
       "109775  https://www.ddengle.com/index.php?mid=board_al...  \n",
       "109776  https://www.ddengle.com/index.php?mid=board_al...  \n",
       "109777  https://www.ddengle.com/index.php?mid=board_al...  \n",
       "109778  https://www.ddengle.com/index.php?mid=board_al...  \n",
       "109779  https://www.ddengle.com/index.php?mid=board_al...  "
      ]
     },
     "execution_count": 3,
     "metadata": {},
     "output_type": "execute_result"
    }
   ],
   "source": [
    "df3 = pd.read_csv('../link.csv')\n",
    "df3.tail()"
   ]
  },
  {
   "cell_type": "code",
   "execution_count": null,
   "metadata": {
    "scrolled": true
   },
   "outputs": [
    {
     "name": "stdout",
     "output_type": "stream",
     "text": [
      "0\n",
      "1000\n",
      "2000\n",
      "3000\n",
      "4000\n",
      "5000\n"
     ]
    }
   ],
   "source": [
    "%%time\n",
    "content_ls = []\n",
    "for idx in range(len(df3)):\n",
    "    if idx % 1000 ==0 : print(idx) ; time.sleep(1)\n",
    "    req = requests.get(df3['link'].values[idx])\n",
    "    response = TextResponse(req.url, body=req.text, encoding='utf-8')\n",
    "    process_ls = ','.join(response.xpath('//*[@id=\"zema9_body\"]/article/div/p/text()').extract()).replace('\\xa0','').replace(',','')\n",
    "    try : start_idx = re.search('-{30,}',process_ls).start()\n",
    "    except : start_idx = len(process_ls) + 1\n",
    "    content_ls.append(process_ls[:start_idx])"
   ]
  },
  {
   "cell_type": "code",
   "execution_count": null,
   "metadata": {
    "collapsed": true
   },
   "outputs": [],
   "source": [
    "df4 = pd.DataFrame()\n",
    "\n",
    "df4['title'] = df3['title'].values\n",
    "df4['time'] = df3['time'].values\n",
    "df4['click'] = df3['click'].values\n",
    "df4['content'] = content_ls"
   ]
  },
  {
   "cell_type": "code",
   "execution_count": null,
   "metadata": {
    "collapsed": true
   },
   "outputs": [],
   "source": [
    "df4.to_csv('ddaengle_data.csv',index=False)"
   ]
  }
 ],
 "metadata": {
  "kernelspec": {
   "display_name": "Python 3",
   "language": "python",
   "name": "python3"
  },
  "language_info": {
   "codemirror_mode": {
    "name": "ipython",
    "version": 3
   },
   "file_extension": ".py",
   "mimetype": "text/x-python",
   "name": "python",
   "nbconvert_exporter": "python",
   "pygments_lexer": "ipython3",
   "version": "3.6.3"
  }
 },
 "nbformat": 4,
 "nbformat_minor": 2
}
