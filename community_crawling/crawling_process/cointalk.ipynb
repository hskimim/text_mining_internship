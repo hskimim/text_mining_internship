{
 "cells": [
  {
   "cell_type": "code",
   "execution_count": 1,
   "metadata": {
    "collapsed": true
   },
   "outputs": [],
   "source": [
    "from selenium import webdriver\n",
    "import pandas as pd\n",
    "import re\n",
    "import requests\n",
    "from bs4 import BeautifulSoup\n",
    "import time\n",
    "from scrapy.http import TextResponse"
   ]
  },
  {
   "cell_type": "code",
   "execution_count": 2,
   "metadata": {},
   "outputs": [
    {
     "name": "stdout",
     "output_type": "stream",
     "text": [
      "100 page is over.\n",
      "CPU times: user 59.4 s, sys: 104 ms, total: 59.5 s\n",
      "Wall time: 11min 47s\n"
     ]
    }
   ],
   "source": [
    "%%time\n",
    "title_ls = []\n",
    "clicked_ls = []\n",
    "time_ls = []\n",
    "link_ls = []\n",
    "\n",
    "for page in range(1,182+1):\n",
    "    if page % 100 ==0 : print('{} page is over.'.format(page))\n",
    "    url = 'http://cointalk.co.kr/bbs/board.php?bo_table=coinnews&page={}'.format(page)\n",
    "    req = requests.get(url)\n",
    "    response = TextResponse(req.url, body=req.text, encoding='utf-8')\n",
    "    for content in range(1,35+1):\n",
    "        if content % 10 == 0 : time.sleep(1)\n",
    "        try : \n",
    "            title_ls.append(response.xpath('//*[@id=\"fboardlist\"]/table/tbody/tr[{}]/td[2]/a/text()'.format(content)).extract()[0])\n",
    "            click_process = ','.join(re.findall('\\d',response.xpath('//*[@id=\"fboardlist\"]/table/tbody/tr[{}]/td[4]/text()'.format(content)).extract()[0])).replace(',','')\n",
    "            clicked_ls.append(click_process)\n",
    "            time_ls.append(response.xpath('//*[@id=\"fboardlist\"]/table/tbody/tr[{}]/td[7]/text()'.format(content)).extract()[0])\n",
    "            link_ls.append(response.xpath('//*[@id=\"fboardlist\"]/table/tbody/tr[{}]/td[2]/a/@href'.format(content)).extract()[0])\n",
    "        except : print('pass')"
   ]
  },
  {
   "cell_type": "code",
   "execution_count": 3,
   "metadata": {
    "collapsed": true
   },
   "outputs": [],
   "source": [
    "df = pd.DataFrame()\n",
    "\n",
    "df['title'] = title_ls\n",
    "df['time'] = time_ls\n",
    "df['click'] = clicked_ls\n",
    "df['link'] = link_ls"
   ]
  },
  {
   "cell_type": "code",
   "execution_count": 4,
   "metadata": {},
   "outputs": [
    {
     "data": {
      "text/html": [
       "<div>\n",
       "<style>\n",
       "    .dataframe thead tr:only-child th {\n",
       "        text-align: right;\n",
       "    }\n",
       "\n",
       "    .dataframe thead th {\n",
       "        text-align: left;\n",
       "    }\n",
       "\n",
       "    .dataframe tbody tr th {\n",
       "        vertical-align: top;\n",
       "    }\n",
       "</style>\n",
       "<table border=\"1\" class=\"dataframe\">\n",
       "  <thead>\n",
       "    <tr style=\"text-align: right;\">\n",
       "      <th></th>\n",
       "      <th>title</th>\n",
       "      <th>time</th>\n",
       "      <th>click</th>\n",
       "      <th>link</th>\n",
       "    </tr>\n",
       "  </thead>\n",
       "  <tbody>\n",
       "    <tr>\n",
       "      <th>6365</th>\n",
       "      <td>비트코인 이어 이더리움도 관심, '스마트 콘트랙트' 전자계약이 뭐길래?</td>\n",
       "      <td>05-25</td>\n",
       "      <td>3190</td>\n",
       "      <td>http://cointalk.co.kr/bbs/board.php?bo_table=c...</td>\n",
       "    </tr>\n",
       "    <tr>\n",
       "      <th>6366</th>\n",
       "      <td>비트코인보다 눈부신 이더리움…올해 들어 2300% 급등</td>\n",
       "      <td>05-25</td>\n",
       "      <td>2706</td>\n",
       "      <td>http://cointalk.co.kr/bbs/board.php?bo_table=c...</td>\n",
       "    </tr>\n",
       "    <tr>\n",
       "      <th>6367</th>\n",
       "      <td>비트코인 이더리움 가상화폐 수요 급증 이유는</td>\n",
       "      <td>05-25</td>\n",
       "      <td>3067</td>\n",
       "      <td>http://cointalk.co.kr/bbs/board.php?bo_table=c...</td>\n",
       "    </tr>\n",
       "    <tr>\n",
       "      <th>6368</th>\n",
       "      <td>몸값 오르는 가상화폐…비트코인·이더리움 뭐길래?</td>\n",
       "      <td>05-25</td>\n",
       "      <td>2801</td>\n",
       "      <td>http://cointalk.co.kr/bbs/board.php?bo_table=c...</td>\n",
       "    </tr>\n",
       "    <tr>\n",
       "      <th>6369</th>\n",
       "      <td>비트코인 2500달러 또 사상최고치</td>\n",
       "      <td>05-25</td>\n",
       "      <td>2341</td>\n",
       "      <td>http://cointalk.co.kr/bbs/board.php?bo_table=c...</td>\n",
       "    </tr>\n",
       "  </tbody>\n",
       "</table>\n",
       "</div>"
      ],
      "text/plain": [
       "                                        title   time click  \\\n",
       "6365  비트코인 이어 이더리움도 관심, '스마트 콘트랙트' 전자계약이 뭐길래?  05-25  3190   \n",
       "6366           비트코인보다 눈부신 이더리움…올해 들어 2300% 급등  05-25  2706   \n",
       "6367                 비트코인 이더리움 가상화폐 수요 급증 이유는  05-25  3067   \n",
       "6368               몸값 오르는 가상화폐…비트코인·이더리움 뭐길래?  05-25  2801   \n",
       "6369                      비트코인 2500달러 또 사상최고치  05-25  2341   \n",
       "\n",
       "                                                   link  \n",
       "6365  http://cointalk.co.kr/bbs/board.php?bo_table=c...  \n",
       "6366  http://cointalk.co.kr/bbs/board.php?bo_table=c...  \n",
       "6367  http://cointalk.co.kr/bbs/board.php?bo_table=c...  \n",
       "6368  http://cointalk.co.kr/bbs/board.php?bo_table=c...  \n",
       "6369  http://cointalk.co.kr/bbs/board.php?bo_table=c...  "
      ]
     },
     "execution_count": 4,
     "metadata": {},
     "output_type": "execute_result"
    }
   ],
   "source": [
    "df.tail()"
   ]
  },
  {
   "cell_type": "code",
   "execution_count": 19,
   "metadata": {},
   "outputs": [
    {
     "data": {
      "text/plain": [
       "1363"
      ]
     },
     "execution_count": 19,
     "metadata": {},
     "output_type": "execute_result"
    }
   ],
   "source": [
    "req = requests.get(df['link'].values[20])\n",
    "response = TextResponse(req.url, body=req.text, encoding='utf-8')\n",
    "len(','.join(response.xpath('//*[@id=\"st-view\"]/section[1]/article/p/text()').extract()))"
   ]
  },
  {
   "cell_type": "code",
   "execution_count": null,
   "metadata": {
    "collapsed": true
   },
   "outputs": [],
   "source": [
    "//*[@id=\"st-view\"]/section[1]/article/p[4]"
   ]
  },
  {
   "cell_type": "code",
   "execution_count": null,
   "metadata": {
    "scrolled": true
   },
   "outputs": [
    {
     "name": "stdout",
     "output_type": "stream",
     "text": [
      "0\n",
      "10\n",
      "20\n",
      "30\n",
      "40\n",
      "50\n",
      "60\n",
      "70\n",
      "80\n",
      "90\n"
     ]
    }
   ],
   "source": [
    "%%time\n",
    "content_ls = []\n",
    "for idx in range(len(df)):\n",
    "    if idx % 10 ==0 : print(idx)\n",
    "    req = requests.get(df['link'].values[idx])\n",
    "    response = TextResponse(req.url, body=req.text, encoding='utf-8')\n",
    "    testing_ls = ','.join(response.xpath('//*[@id=\"st-view\"]/section[1]/article/p/span/text()').extract() + \\\n",
    "    response.xpath('//*[@id=\"st-view\"]/section[1]/article/p/text()').extract()).replace('\\xa0','').replace(',','')\n",
    "    process_ls = testing_ls\n",
    "    content_ls.append(process_ls)"
   ]
  },
  {
   "cell_type": "code",
   "execution_count": null,
   "metadata": {
    "collapsed": true
   },
   "outputs": [],
   "source": [
    "df1 = pd.DataFrame()\n",
    "\n",
    "df1['title'] = title_ls\n",
    "df1['time'] = time_ls\n",
    "df1['click'] = clicked_ls\n",
    "df1['content'] = content_ls"
   ]
  },
  {
   "cell_type": "code",
   "execution_count": null,
   "metadata": {},
   "outputs": [],
   "source": [
    "df1.head()"
   ]
  },
  {
   "cell_type": "code",
   "execution_count": null,
   "metadata": {},
   "outputs": [],
   "source": [
    "df1.tail()"
   ]
  },
  {
   "cell_type": "code",
   "execution_count": null,
   "metadata": {
    "collapsed": true
   },
   "outputs": [],
   "source": [
    "df1.to_csv('cointalk_data.csv',index=False)"
   ]
  }
 ],
 "metadata": {
  "kernelspec": {
   "display_name": "Python 3",
   "language": "python",
   "name": "python3"
  },
  "language_info": {
   "codemirror_mode": {
    "name": "ipython",
    "version": 3
   },
   "file_extension": ".py",
   "mimetype": "text/x-python",
   "name": "python",
   "nbconvert_exporter": "python",
   "pygments_lexer": "ipython3",
   "version": "3.6.3"
  }
 },
 "nbformat": 4,
 "nbformat_minor": 2
}
