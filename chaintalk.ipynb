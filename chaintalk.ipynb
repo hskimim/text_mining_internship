{
 "cells": [
  {
   "cell_type": "code",
   "execution_count": 1,
   "metadata": {
    "collapsed": true
   },
   "outputs": [],
   "source": [
    "from selenium import webdriver\n",
    "import pandas as pd\n",
    "import re\n",
    "import requests\n",
    "from bs4 import BeautifulSoup\n",
    "import time\n",
    "from scrapy.http import TextResponse"
   ]
  },
  {
   "cell_type": "code",
   "execution_count": 14,
   "metadata": {},
   "outputs": [
    {
     "name": "stdout",
     "output_type": "stream",
     "text": [
      "CPU times: user 3.06 s, sys: 15.1 ms, total: 3.07 s\n",
      "Wall time: 1min 10s\n"
     ]
    }
   ],
   "source": [
    "%%time\n",
    "title_ls = []\n",
    "clicked_ls = []\n",
    "time_ls = []\n",
    "link_ls = []\n",
    "\n",
    "for page in range(1,31+1):\n",
    "    if page % 100 ==0 : print('{} page is over.'.format(page))\n",
    "    url = 'http://www.chaintalk.io/archive/talkbox/p{}'.format(page)\n",
    "    req = requests.get(url)\n",
    "    response = TextResponse(req.url, body=req.text, encoding='utf-8')\n",
    "    for content in range(1,20+1):\n",
    "        try : \n",
    "            if content % 10 == 0 : time.sleep(1)\n",
    "            testing_ls = response.xpath('//*[@id=\"fboardlist\"]/div/table/tbody/tr[{}]/td[2]/a/text()'.format(content)).extract()[0]\n",
    "            testing_ls[1:].replace(' ','')\n",
    "            title_ls.append(testing_ls)\n",
    "            clicked_ls.append(response.xpath('//*[@id=\"fboardlist\"]/div/table/tbody/tr[{}]/td[5]/text()'.format(content)).extract()[0])\n",
    "            time_ls.append(response.xpath('//*[@id=\"fboardlist\"]/div/table/tbody/tr[{}]/td[4]/text()'.format(content)).extract()[0])\n",
    "            link_ls.append(response.xpath('//*[@id=\"fboardlist\"]/div/table/tbody/tr[{}]/td[2]/a/@href'.format(content)).extract()[0])\n",
    "        except : print('pass')"
   ]
  },
  {
   "cell_type": "code",
   "execution_count": 15,
   "metadata": {
    "collapsed": true
   },
   "outputs": [],
   "source": [
    "df = pd.DataFrame()\n",
    "\n",
    "df['title'] = title_ls\n",
    "df['time'] = time_ls\n",
    "df['click'] = clicked_ls\n",
    "df['link'] = link_ls"
   ]
  },
  {
   "cell_type": "code",
   "execution_count": 16,
   "metadata": {},
   "outputs": [
    {
     "data": {
      "text/html": [
       "<div>\n",
       "<style>\n",
       "    .dataframe thead tr:only-child th {\n",
       "        text-align: right;\n",
       "    }\n",
       "\n",
       "    .dataframe thead th {\n",
       "        text-align: left;\n",
       "    }\n",
       "\n",
       "    .dataframe tbody tr th {\n",
       "        vertical-align: top;\n",
       "    }\n",
       "</style>\n",
       "<table border=\"1\" class=\"dataframe\">\n",
       "  <thead>\n",
       "    <tr style=\"text-align: right;\">\n",
       "      <th></th>\n",
       "      <th>title</th>\n",
       "      <th>time</th>\n",
       "      <th>click</th>\n",
       "      <th>link</th>\n",
       "    </tr>\n",
       "  </thead>\n",
       "  <tbody>\n",
       "    <tr>\n",
       "      <th>615</th>\n",
       "      <td>\\n                    반갑습니다^^</td>\n",
       "      <td>03-07</td>\n",
       "      <td>1058</td>\n",
       "      <td>http://www.chaintalk.io/archive/talkbox/90?pag...</td>\n",
       "    </tr>\n",
       "    <tr>\n",
       "      <th>616</th>\n",
       "      <td>\\n                    가입인사</td>\n",
       "      <td>03-07</td>\n",
       "      <td>950</td>\n",
       "      <td>http://www.chaintalk.io/archive/talkbox/89?pag...</td>\n",
       "    </tr>\n",
       "    <tr>\n",
       "      <th>617</th>\n",
       "      <td>\\n                    가입인사드립니다.               ...</td>\n",
       "      <td>03-07</td>\n",
       "      <td>1112</td>\n",
       "      <td>http://www.chaintalk.io/archive/talkbox/86?pag...</td>\n",
       "    </tr>\n",
       "    <tr>\n",
       "      <th>618</th>\n",
       "      <td>\\n                    가입인사드리며..양큰님 따라 가렵니다.   ...</td>\n",
       "      <td>03-06</td>\n",
       "      <td>996</td>\n",
       "      <td>http://www.chaintalk.io/archive/talkbox/75?pag...</td>\n",
       "    </tr>\n",
       "    <tr>\n",
       "      <th>619</th>\n",
       "      <td>\\n                    방갑습니다..^^*              ...</td>\n",
       "      <td>03-06</td>\n",
       "      <td>1389</td>\n",
       "      <td>http://www.chaintalk.io/archive/talkbox/68?pag...</td>\n",
       "    </tr>\n",
       "  </tbody>\n",
       "</table>\n",
       "</div>"
      ],
      "text/plain": [
       "                                                 title   time click  \\\n",
       "615  \\n                    반갑습니다^^                      03-07  1058   \n",
       "616     \\n                    가입인사                      03-07   950   \n",
       "617  \\n                    가입인사드립니다.               ...  03-07  1112   \n",
       "618  \\n                    가입인사드리며..양큰님 따라 가렵니다.   ...  03-06   996   \n",
       "619  \\n                    방갑습니다..^^*              ...  03-06  1389   \n",
       "\n",
       "                                                  link  \n",
       "615  http://www.chaintalk.io/archive/talkbox/90?pag...  \n",
       "616  http://www.chaintalk.io/archive/talkbox/89?pag...  \n",
       "617  http://www.chaintalk.io/archive/talkbox/86?pag...  \n",
       "618  http://www.chaintalk.io/archive/talkbox/75?pag...  \n",
       "619  http://www.chaintalk.io/archive/talkbox/68?pag...  "
      ]
     },
     "execution_count": 16,
     "metadata": {},
     "output_type": "execute_result"
    }
   ],
   "source": [
    "df.tail()"
   ]
  },
  {
   "cell_type": "code",
   "execution_count": 27,
   "metadata": {
    "scrolled": true
   },
   "outputs": [
    {
     "name": "stdout",
     "output_type": "stream",
     "text": [
      "0\n",
      "10\n",
      "20\n",
      "30\n",
      "40\n",
      "50\n",
      "60\n",
      "70\n",
      "80\n",
      "90\n",
      "100\n",
      "110\n",
      "120\n",
      "130\n",
      "140\n",
      "150\n",
      "160\n",
      "170\n",
      "180\n",
      "190\n",
      "200\n",
      "210\n",
      "220\n",
      "230\n",
      "240\n",
      "250\n",
      "260\n",
      "270\n",
      "280\n",
      "290\n",
      "300\n",
      "310\n",
      "320\n",
      "330\n",
      "340\n",
      "350\n",
      "360\n",
      "370\n",
      "380\n",
      "390\n",
      "400\n",
      "410\n",
      "420\n",
      "430\n",
      "440\n",
      "450\n",
      "460\n",
      "470\n",
      "480\n",
      "490\n",
      "500\n",
      "510\n",
      "520\n",
      "530\n",
      "540\n",
      "550\n",
      "560\n",
      "570\n",
      "580\n",
      "590\n",
      "600\n",
      "610\n",
      "CPU times: user 14.2 s, sys: 315 ms, total: 14.6 s\n",
      "Wall time: 3min 30s\n"
     ]
    }
   ],
   "source": [
    "%%time\n",
    "content_ls = []\n",
    "for idx in range(len(df)):\n",
    "    if idx % 10 ==0 : print(idx)\n",
    "    req = requests.get(df['link'].values[idx])\n",
    "    response = TextResponse(req.url, body=req.text, encoding='utf-8')\n",
    "    process_ls = ','.join(response.xpath('//*[@id=\"bo_v_con\"]/div/p/text()').extract()).replace('\\xa0','').replace(',','')\n",
    "    content_ls.append(process_ls)"
   ]
  },
  {
   "cell_type": "code",
   "execution_count": 28,
   "metadata": {
    "collapsed": true
   },
   "outputs": [],
   "source": [
    "df1 = pd.DataFrame()\n",
    "\n",
    "df1['title'] = title_ls\n",
    "df1['time'] = time_ls\n",
    "df1['click'] = clicked_ls\n",
    "df1['content'] = content_ls"
   ]
  },
  {
   "cell_type": "code",
   "execution_count": 29,
   "metadata": {},
   "outputs": [
    {
     "data": {
      "text/html": [
       "<div>\n",
       "<style>\n",
       "    .dataframe thead tr:only-child th {\n",
       "        text-align: right;\n",
       "    }\n",
       "\n",
       "    .dataframe thead th {\n",
       "        text-align: left;\n",
       "    }\n",
       "\n",
       "    .dataframe tbody tr th {\n",
       "        vertical-align: top;\n",
       "    }\n",
       "</style>\n",
       "<table border=\"1\" class=\"dataframe\">\n",
       "  <thead>\n",
       "    <tr style=\"text-align: right;\">\n",
       "      <th></th>\n",
       "      <th>title</th>\n",
       "      <th>time</th>\n",
       "      <th>click</th>\n",
       "      <th>content</th>\n",
       "    </tr>\n",
       "  </thead>\n",
       "  <tbody>\n",
       "    <tr>\n",
       "      <th>615</th>\n",
       "      <td>\\n                    반갑습니다^^</td>\n",
       "      <td>03-07</td>\n",
       "      <td>1058</td>\n",
       "      <td>깊이 아는 분야는 아니지만 많이 배우도록 하겠습니다.</td>\n",
       "    </tr>\n",
       "    <tr>\n",
       "      <th>616</th>\n",
       "      <td>\\n                    가입인사</td>\n",
       "      <td>03-07</td>\n",
       "      <td>950</td>\n",
       "      <td>안녕하세요.땡글의 homeless 딩가딩입니다.블럭체인에 대한 기술적 지식은 희박하...</td>\n",
       "    </tr>\n",
       "    <tr>\n",
       "      <th>617</th>\n",
       "      <td>\\n                    가입인사드립니다.               ...</td>\n",
       "      <td>03-07</td>\n",
       "      <td>1112</td>\n",
       "      <td>가입인사드립니다.많은 고급정보을 접할수있는 계기가 될것 같습니다.감사합니다.</td>\n",
       "    </tr>\n",
       "    <tr>\n",
       "      <th>618</th>\n",
       "      <td>\\n                    가입인사드리며..양큰님 따라 가렵니다.   ...</td>\n",
       "      <td>03-06</td>\n",
       "      <td>996</td>\n",
       "      <td>땡글에서 양큰님께 반하여 여기까지오게되었습니다. 우리 2세들의 세상을 저희가 멋지게...</td>\n",
       "    </tr>\n",
       "    <tr>\n",
       "      <th>619</th>\n",
       "      <td>\\n                    방갑습니다..^^*              ...</td>\n",
       "      <td>03-06</td>\n",
       "      <td>1389</td>\n",
       "      <td>반갑습니다..번창하세요..근데 블럭체인이 뭔뜻??그리고 아이디중복체크 없어요..ㅠㅠ.</td>\n",
       "    </tr>\n",
       "  </tbody>\n",
       "</table>\n",
       "</div>"
      ],
      "text/plain": [
       "                                                 title   time click  \\\n",
       "615  \\n                    반갑습니다^^                      03-07  1058   \n",
       "616     \\n                    가입인사                      03-07   950   \n",
       "617  \\n                    가입인사드립니다.               ...  03-07  1112   \n",
       "618  \\n                    가입인사드리며..양큰님 따라 가렵니다.   ...  03-06   996   \n",
       "619  \\n                    방갑습니다..^^*              ...  03-06  1389   \n",
       "\n",
       "                                               content  \n",
       "615                      깊이 아는 분야는 아니지만 많이 배우도록 하겠습니다.  \n",
       "616  안녕하세요.땡글의 homeless 딩가딩입니다.블럭체인에 대한 기술적 지식은 희박하...  \n",
       "617         가입인사드립니다.많은 고급정보을 접할수있는 계기가 될것 같습니다.감사합니다.  \n",
       "618  땡글에서 양큰님께 반하여 여기까지오게되었습니다. 우리 2세들의 세상을 저희가 멋지게...  \n",
       "619    반갑습니다..번창하세요..근데 블럭체인이 뭔뜻??그리고 아이디중복체크 없어요..ㅠㅠ.  "
      ]
     },
     "execution_count": 29,
     "metadata": {},
     "output_type": "execute_result"
    }
   ],
   "source": [
    "df1.tail()"
   ]
  },
  {
   "cell_type": "code",
   "execution_count": 31,
   "metadata": {
    "collapsed": true
   },
   "outputs": [],
   "source": [
    "df1.to_csv('chaintalk_data.csv',index=False)"
   ]
  }
 ],
 "metadata": {
  "kernelspec": {
   "display_name": "Python 3",
   "language": "python",
   "name": "python3"
  }
 },
 "nbformat": 4,
 "nbformat_minor": 2
}
