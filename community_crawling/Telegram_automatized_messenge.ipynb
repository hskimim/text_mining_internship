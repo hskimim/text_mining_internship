{
 "cells": [
  {
   "cell_type": "code",
   "execution_count": 18,
   "metadata": {
    "collapsed": true
   },
   "outputs": [],
   "source": [
    "pw = '705934910:AAF4UZFQKnKqnf8-II_oYz9-4SgQGeW9rSg'"
   ]
  },
  {
   "cell_type": "code",
   "execution_count": 19,
   "metadata": {
    "collapsed": true
   },
   "outputs": [],
   "source": [
    "import pickle"
   ]
  },
  {
   "cell_type": "code",
   "execution_count": 20,
   "metadata": {
    "collapsed": true
   },
   "outputs": [],
   "source": [
    "pickle.dump( pw, open( \"pw.pkl\", \"wb\" ) )"
   ]
  },
  {
   "cell_type": "code",
   "execution_count": 21,
   "metadata": {},
   "outputs": [
    {
     "name": "stdout",
     "output_type": "stream",
     "text": [
      "705934910:AAF4UZFQKnKqnf8-II_oYz9-4SgQGeW9rSg\n"
     ]
    }
   ],
   "source": [
    "import telegram\n",
    "import pickle\n",
    "\n",
    "my_token = pickle.load( open('pw.pkl', 'rb'))\n",
    "my_token = my_token\n",
    "print(my_token)\n",
    "bot = telegram.Bot(token = my_token) # bot을 선언합니다.\n",
    "\n",
    "updates = bot.getUpdates() # 업데이트 내역을 받아옵니다.\n",
    "\n",
    "for u in updates:\n",
    "    print(u.message) # 업데이트 내역 중 메시지를 출력합니다."
   ]
  },
  {
   "cell_type": "code",
   "execution_count": 25,
   "metadata": {},
   "outputs": [
    {
     "name": "stdout",
     "output_type": "stream",
     "text": [
      "start telegram chat bot\n"
     ]
    }
   ],
   "source": [
    "from telegram.ext import Updater, MessageHandler, Filters  # import modules\n",
    "\n",
    "my_token = '705934910:AAF4UZFQKnKqnf8-II_oYz9-4SgQGeW9rSg'\n",
    "\n",
    "print('start telegram chat bot')\n",
    "\n",
    "# message reply function\n",
    "def get_message(bot, update) :\n",
    "    update.message.reply_text(\"got text\")\n",
    "    update.message.reply_text(update.message.text)\n",
    "    \n",
    "\n",
    "updater = Updater(my_token)\n",
    "\n",
    "message_handler = MessageHandler(Filters.text, get_message)\n",
    "updater.dispatcher.add_handler(message_handler)\n",
    "\n",
    "updater.start_polling(timeout=3, clean=True)\n",
    "updater.idle()"
   ]
  }
 ],
 "metadata": {
  "kernelspec": {
   "display_name": "Python 3",
   "language": "python",
   "name": "python3"
  },
  "language_info": {
   "codemirror_mode": {
    "name": "ipython",
    "version": 3
   },
   "file_extension": ".py",
   "mimetype": "text/x-python",
   "name": "python",
   "nbconvert_exporter": "python",
   "pygments_lexer": "ipython3",
   "version": "3.6.3"
  }
 },
 "nbformat": 4,
 "nbformat_minor": 2
}
